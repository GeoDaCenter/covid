{
 "cells": [
  {
   "cell_type": "code",
   "execution_count": 1,
   "metadata": {},
   "outputs": [],
   "source": [
    "import pandas as pd\n",
    "import geopandas as gpd"
   ]
  },
  {
   "cell_type": "code",
   "execution_count": 19,
   "metadata": {},
   "outputs": [],
   "source": [
    "raw = pd.read_csv('hospital_facility.csv', encoding='utf-8')"
   ]
  },
  {
   "cell_type": "code",
   "execution_count": 20,
   "metadata": {},
   "outputs": [
    {
     "data": {
      "text/plain": [
       "Index(['hospital_pk', 'collection_week', 'hospital_name', 'address', 'city',\n",
       "       'zip', 'hospital_subtype', 'fips_code',\n",
       "       'all_adult_hospital_inpatient_beds_7_day_avg',\n",
       "       'inpatient_beds_used_7_day_avg', 'total_icu_beds_7_day_avg',\n",
       "       'icu_beds_used_7_day_avg',\n",
       "       'total_adult_patients_hospitalized_confirmed_covid_7_day_avg', 'lat',\n",
       "       'lon'],\n",
       "      dtype='object')"
      ]
     },
     "execution_count": 20,
     "metadata": {},
     "output_type": "execute_result"
    }
   ],
   "source": [
    "raw.columns"
   ]
  },
  {
   "cell_type": "code",
   "execution_count": 21,
   "metadata": {},
   "outputs": [],
   "source": [
    "uniqLocations = raw[['lat','lon','hospital_pk', 'hospital_name', 'address', 'city',\n",
    "       'zip', 'hospital_subtype', 'fips_code']].drop_duplicates()\n",
    "uniqLocations = uniqLocations[uniqLocations['lat'].notnull()]"
   ]
  },
  {
   "cell_type": "code",
   "execution_count": 22,
   "metadata": {},
   "outputs": [],
   "source": [
    "uniqLocations.to_csv('unique_hospitals.csv')"
   ]
  },
  {
   "cell_type": "code",
   "execution_count": 23,
   "metadata": {},
   "outputs": [],
   "source": [
    "gdf = gpd.GeoDataFrame(\n",
    "    uniqLocations, geometry=gpd.points_from_xy(uniqLocations.lon, uniqLocations.lat))"
   ]
  },
  {
   "cell_type": "code",
   "execution_count": 68,
   "metadata": {},
   "outputs": [
    {
     "data": {
      "text/plain": [
       "<AxesSubplot:>"
      ]
     },
     "execution_count": 68,
     "metadata": {},
     "output_type": "execute_result"
    },
    {
     "data": {
      "image/png": "[encoded data removed]",
      "text/plain": [
       "<Figure size 432x288 with 1 Axes>"
      ]
     },
     "metadata": {
      "needs_background": "light"
     },
     "output_type": "display_data"
    }
   ],
   "source": [
    "gdf.plot()"
   ]
  },
  {
   "cell_type": "code",
   "execution_count": 92,
   "metadata": {},
   "outputs": [],
   "source": [
    "gdf_clean = gdf[gdf.hospital_pk.isin(list(beds['hospital_pk'].unique()))]"
   ]
  },
  {
   "cell_type": "code",
   "execution_count": 105,
   "metadata": {},
   "outputs": [],
   "source": [
    "joinDf = gdf_clean.reset_index()[['index','hospital_pk']]\n",
    "joinDf.columns = ['fid', 'hospital_pk']"
   ]
  },
  {
   "cell_type": "code",
   "execution_count": 106,
   "metadata": {},
   "outputs": [],
   "source": [
    "gdf_clean.merge(joinDf, on='hospital_pk')[['geometry','fid', 'address', 'city',\n",
    "       'zip', 'hospital_subtype', 'fips_code']].to_file('hospitals.geojson', driver=\"GeoJSON\")"
   ]
  },
  {
   "cell_type": "code",
   "execution_count": 99,
   "metadata": {},
   "outputs": [],
   "source": [
    "gdf_clean[['geometry','hospital_pk', 'address', 'city',\n",
    "       'zip', 'hospital_subtype', 'fips_code']].to_file('hospitals.geojson', driver=\"GeoJSON\")"
   ]
  },
  {
   "cell_type": "code",
   "execution_count": null,
   "metadata": {},
   "outputs": [],
   "source": []
  },
  {
   "cell_type": "code",
   "execution_count": 107,
   "metadata": {
    "scrolled": true
   },
   "outputs": [],
   "source": [
    "raw = raw.merge(joinDf, how=\"right\", on=\"hospital_pk\")"
   ]
  },
  {
   "cell_type": "code",
   "execution_count": 108,
   "metadata": {},
   "outputs": [],
   "source": [
    "beds = raw[['fid','collection_week','all_adult_hospital_inpatient_beds_7_day_avg']]\n",
    "bedsUsed = raw[['fid','collection_week','inpatient_beds_used_7_day_avg']]\n",
    "icuBeds = raw[['fid','collection_week','total_icu_beds_7_day_avg']]\n",
    "icuBedsUsed = raw[['fid','collection_week','icu_beds_used_7_day_avg']]\n",
    "totalCases = raw[['fid','collection_week','total_adult_patients_hospitalized_confirmed_covid_7_day_avg']]"
   ]
  },
  {
   "cell_type": "code",
   "execution_count": 111,
   "metadata": {},
   "outputs": [],
   "source": [
    "def transposeDf(df):\n",
    "    # thanks to @piRSquared on stackoverflow for this nifty pivot expressions\n",
    "    # https://stackoverflow.com/questions/54915215/expressing-time-series-data-in-the-columns-rather-than-the-rows-of-a-dataframe\n",
    "    df = df.pivot_table(index='fid', columns='collection_week').swaplevel(0, 1, 1).sort_index(1).reset_index()\n",
    "    df.columns = [column[0] for column in list(df.columns)]\n",
    "    df = df.replace(-999999.0, '')\n",
    "    return df"
   ]
  },
  {
   "cell_type": "code",
   "execution_count": 112,
   "metadata": {},
   "outputs": [],
   "source": [
    "\n",
    "transposeDf(beds).to_csv('./hospital_beds.csv', index=False)\n",
    "transposeDf(bedsUsed).to_csv('./hospital_beds_used.csv', index=False)\n",
    "transposeDf(icuBeds).to_csv('./hospital_icu_beds.csv', index=False)\n",
    "transposeDf(icuBedsUsed).to_csv('./hospital_icu_beds_used.csv', index=False)\n",
    "transposeDf(totalCases).to_csv('./hospital_cases.csv', index=False)"
   ]
  },
  {
   "cell_type": "code",
   "execution_count": 84,
   "metadata": {},
   "outputs": [
    {
     "data": {
      "text/plain": [
       "0                                                  010001\n",
       "1                                                  010005\n",
       "2                                                  010006\n",
       "3                                                  010007\n",
       "4                                                  010008\n",
       "                              ...                        \n",
       "4912    ee04edd185865c38c839812cb2eb5ae5d3f8922e3b629e...\n",
       "4913                 f59a354d-92b9-409e-81d3-bef8716d9a79\n",
       "4914    f70d7abf93c78280583ac18e896e6737cca8212b017513...\n",
       "4915    fa96db24d19f83993a2925454eafc6fa17dd8e64270534...\n",
       "4916    ff9032c172057190bf52f523d253c79af2d5f74d007084...\n",
       "Name: hospital_pk, Length: 4917, dtype: object"
      ]
     },
     "execution_count": 84,
     "metadata": {},
     "output_type": "execute_result"
    }
   ],
   "source": [
    "transposeDf(beds)['hospital_pk']"
   ]
  },
  {
   "cell_type": "code",
   "execution_count": null,
   "metadata": {},
   "outputs": [],
   "source": []
  }
 ],
 "metadata": {
  "kernelspec": {
   "display_name": "Python 3",
   "language": "python",
   "name": "python3"
  },
  "language_info": {
   "codemirror_mode": {
    "name": "ipython",
    "version": 3
   },
   "file_extension": ".py",
   "mimetype": "text/x-python",
   "name": "python",
   "nbconvert_exporter": "python",
   "pygments_lexer": "ipython3",
   "version": "3.8.3"
  }
 },
 "nbformat": 4,
 "nbformat_minor": 4
}
