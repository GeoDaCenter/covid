{
 "cells": [
  {
   "cell_type": "code",
   "execution_count": 95,
   "metadata": {},
   "outputs": [],
   "source": [
    "import pandas as pd\n",
    "from datetime import datetime\n",
    "from glob import glob"
   ]
  },
  {
   "cell_type": "code",
   "execution_count": 144,
   "metadata": {},
   "outputs": [],
   "source": [
    "def findJoinColumn(columns):\n",
    "    # check for various options used for join columns in data sets\n",
    "    # return whicever is present\n",
    "    # pray no more than 1 is used in the same dataset\n",
    "    colOptions = ['GEOID', 'fips', 'countyFips', 'stateFips']\n",
    "    for option in colOptions:\n",
    "        if option in columns:\n",
    "            return option"
   ]
  },
  {
   "cell_type": "code",
   "execution_count": 145,
   "metadata": {},
   "outputs": [],
   "source": [
    "def findDateIndex(columns):\n",
    "    for column in columns:\n",
    "        if column.count('-') > 1 or column.count('/') > 1:\n",
    "            return columns.index(column)"
   ]
  },
  {
   "cell_type": "code",
   "execution_count": 170,
   "metadata": {},
   "outputs": [],
   "source": [
    "def getDexData(geography):\n",
    "    # \n",
    "    if (geography == \"county\"):\n",
    "        raw = pd.read_csv(\"https://raw.githubusercontent.com/COVIDExposureIndices/COVIDExposureIndices/master/dex_data/county_dex.csv\")\n",
    "        joinCol = 'county'\n",
    "    else:\n",
    "        raw = pd.read_csv(\"https://raw.githubusercontent.com/COVIDExposureIndices/COVIDExposureIndices/master/dex_data/state_dex.csv\")\n",
    "        joinCol = 'GEOID'\n",
    "        geoidTable = pd.read_csv('./statename_geoid.csv')\n",
    "        raw = raw.merge(geoidTable, left_on=\"state\", right_on=\"STUSPS\", how=\"left\")\n",
    "        \n",
    "    raw['dex'] = raw['dex'].round(1)\n",
    "    raw['dex_a'] = raw['dex_a'].round(1)\n",
    "\n",
    "    dex = raw[[joinCol,'date','dex']]\n",
    "    dex_a = raw[[joinCol,'date','dex_a']]\n",
    "\n",
    "    # thanks to @piRSquared on stackoverflow for this nifty pivot expressions\n",
    "    # https://stackoverflow.com/questions/54915215/expressing-time-series-data-in-the-columns-rather-than-the-rows-of-a-dataframe\n",
    "    dex = dex.pivot_table(index=joinCol, columns='date').swaplevel(0, 1, 1).sort_index(1).reset_index()\n",
    "    dex.columns = [column[0] for column in list(dex.columns)]\n",
    "\n",
    "    dex_a = dex_a.pivot_table(index=joinCol, columns='date').swaplevel(0, 1, 1).sort_index(1).reset_index()\n",
    "    dex_a.columns = [column[0] for column in list(dex_a.columns)]\n",
    "\n",
    "    return { 'dex': dex, 'dex_a': dex_a}"
   ]
  },
  {
   "cell_type": "code",
   "execution_count": 171,
   "metadata": {},
   "outputs": [],
   "source": [
    "def parseDex(fileName, dataFrame, joinCol):\n",
    "    casesDf = pd.read_csv(fileName)\n",
    "\n",
    "    dateColumnIndex = findDateIndex(list(casesDf.columns))\n",
    "    nonDateCols = list(casesDf.columns)[:dateColumnIndex]\n",
    "    dateCols = list(casesDf.columns)[dateColumnIndex:]\n",
    "    dateCols.sort()\n",
    "\n",
    "    joinColumn = findJoinColumn(list(casesDf.columns))\n",
    "    casesDf = casesDf[nonDateCols]\n",
    "\n",
    "    mergedDf = dataFrame.merge(casesDf, left_on=joinCol, right_on=joinColumn)\n",
    "\n",
    "    for column in dateCols:\n",
    "        if column not in mergedDf.columns:\n",
    "            mergedDf[column] = None\n",
    "    parsedDf = mergedDf[nonDateCols + dateCols]\n",
    "\n",
    "    fileName = fileName.split('confirmed_')[1].split('.csv')[0]\n",
    "    \n",
    "    return {fileName: fileName, 'df': parsedDf}"
   ]
  },
  {
   "cell_type": "code",
   "execution_count": 172,
   "metadata": {},
   "outputs": [
    {
     "ename": "KeyError",
     "evalue": "\"['geoid'] not in index\"",
     "output_type": "error",
     "traceback": [
      "\u001b[1;31m---------------------------------------------------------------------------\u001b[0m",
      "\u001b[1;31mKeyError\u001b[0m                                  Traceback (most recent call last)",
      "\u001b[1;32m<ipython-input-172-b03db62e5298>\u001b[0m in \u001b[0;36m<module>\u001b[1;34m\u001b[0m\n\u001b[0;32m      4\u001b[0m \u001b[0mdex_a_county\u001b[0m \u001b[1;33m=\u001b[0m \u001b[0mcounty\u001b[0m\u001b[1;33m[\u001b[0m\u001b[1;34m'dex_a'\u001b[0m\u001b[1;33m]\u001b[0m\u001b[1;33m\u001b[0m\u001b[1;33m\u001b[0m\u001b[0m\n\u001b[0;32m      5\u001b[0m \u001b[1;33m\u001b[0m\u001b[0m\n\u001b[1;32m----> 6\u001b[1;33m \u001b[0mstate\u001b[0m \u001b[1;33m=\u001b[0m \u001b[0mgetDexData\u001b[0m\u001b[1;33m(\u001b[0m\u001b[1;34m\"state\"\u001b[0m\u001b[1;33m)\u001b[0m\u001b[1;33m\u001b[0m\u001b[1;33m\u001b[0m\u001b[0m\n\u001b[0m\u001b[0;32m      7\u001b[0m \u001b[1;33m\u001b[0m\u001b[0m\n\u001b[0;32m      8\u001b[0m \u001b[0mdex_state\u001b[0m \u001b[1;33m=\u001b[0m \u001b[0mstate\u001b[0m\u001b[1;33m[\u001b[0m\u001b[1;34m'dex'\u001b[0m\u001b[1;33m]\u001b[0m\u001b[1;33m\u001b[0m\u001b[1;33m\u001b[0m\u001b[0m\n",
      "\u001b[1;32m<ipython-input-170-d50b9c2bdd0f>\u001b[0m in \u001b[0;36mgetDexData\u001b[1;34m(geography)\u001b[0m\n\u001b[0;32m     13\u001b[0m     \u001b[0mraw\u001b[0m\u001b[1;33m[\u001b[0m\u001b[1;34m'dex_a'\u001b[0m\u001b[1;33m]\u001b[0m \u001b[1;33m=\u001b[0m \u001b[0mraw\u001b[0m\u001b[1;33m[\u001b[0m\u001b[1;34m'dex_a'\u001b[0m\u001b[1;33m]\u001b[0m\u001b[1;33m.\u001b[0m\u001b[0mround\u001b[0m\u001b[1;33m(\u001b[0m\u001b[1;36m1\u001b[0m\u001b[1;33m)\u001b[0m\u001b[1;33m\u001b[0m\u001b[1;33m\u001b[0m\u001b[0m\n\u001b[0;32m     14\u001b[0m \u001b[1;33m\u001b[0m\u001b[0m\n\u001b[1;32m---> 15\u001b[1;33m     \u001b[0mdex\u001b[0m \u001b[1;33m=\u001b[0m \u001b[0mraw\u001b[0m\u001b[1;33m[\u001b[0m\u001b[1;33m[\u001b[0m\u001b[0mjoinCol\u001b[0m\u001b[1;33m,\u001b[0m\u001b[1;34m'date'\u001b[0m\u001b[1;33m,\u001b[0m\u001b[1;34m'dex'\u001b[0m\u001b[1;33m]\u001b[0m\u001b[1;33m]\u001b[0m\u001b[1;33m\u001b[0m\u001b[1;33m\u001b[0m\u001b[0m\n\u001b[0m\u001b[0;32m     16\u001b[0m     \u001b[0mdex_a\u001b[0m \u001b[1;33m=\u001b[0m \u001b[0mraw\u001b[0m\u001b[1;33m[\u001b[0m\u001b[1;33m[\u001b[0m\u001b[0mjoinCol\u001b[0m\u001b[1;33m,\u001b[0m\u001b[1;34m'date'\u001b[0m\u001b[1;33m,\u001b[0m\u001b[1;34m'dex_a'\u001b[0m\u001b[1;33m]\u001b[0m\u001b[1;33m]\u001b[0m\u001b[1;33m\u001b[0m\u001b[1;33m\u001b[0m\u001b[0m\n\u001b[0;32m     17\u001b[0m \u001b[1;33m\u001b[0m\u001b[0m\n",
      "\u001b[1;32m~\\anaconda3\\envs\\trees\\lib\\site-packages\\pandas\\core\\frame.py\u001b[0m in \u001b[0;36m__getitem__\u001b[1;34m(self, key)\u001b[0m\n\u001b[0;32m   2999\u001b[0m             \u001b[1;32mif\u001b[0m \u001b[0mis_iterator\u001b[0m\u001b[1;33m(\u001b[0m\u001b[0mkey\u001b[0m\u001b[1;33m)\u001b[0m\u001b[1;33m:\u001b[0m\u001b[1;33m\u001b[0m\u001b[1;33m\u001b[0m\u001b[0m\n\u001b[0;32m   3000\u001b[0m                 \u001b[0mkey\u001b[0m \u001b[1;33m=\u001b[0m \u001b[0mlist\u001b[0m\u001b[1;33m(\u001b[0m\u001b[0mkey\u001b[0m\u001b[1;33m)\u001b[0m\u001b[1;33m\u001b[0m\u001b[1;33m\u001b[0m\u001b[0m\n\u001b[1;32m-> 3001\u001b[1;33m             \u001b[0mindexer\u001b[0m \u001b[1;33m=\u001b[0m \u001b[0mself\u001b[0m\u001b[1;33m.\u001b[0m\u001b[0mloc\u001b[0m\u001b[1;33m.\u001b[0m\u001b[0m_convert_to_indexer\u001b[0m\u001b[1;33m(\u001b[0m\u001b[0mkey\u001b[0m\u001b[1;33m,\u001b[0m \u001b[0maxis\u001b[0m\u001b[1;33m=\u001b[0m\u001b[1;36m1\u001b[0m\u001b[1;33m,\u001b[0m \u001b[0mraise_missing\u001b[0m\u001b[1;33m=\u001b[0m\u001b[1;32mTrue\u001b[0m\u001b[1;33m)\u001b[0m\u001b[1;33m\u001b[0m\u001b[1;33m\u001b[0m\u001b[0m\n\u001b[0m\u001b[0;32m   3002\u001b[0m \u001b[1;33m\u001b[0m\u001b[0m\n\u001b[0;32m   3003\u001b[0m         \u001b[1;31m# take() does not accept boolean indexers\u001b[0m\u001b[1;33m\u001b[0m\u001b[1;33m\u001b[0m\u001b[1;33m\u001b[0m\u001b[0m\n",
      "\u001b[1;32m~\\anaconda3\\envs\\trees\\lib\\site-packages\\pandas\\core\\indexing.py\u001b[0m in \u001b[0;36m_convert_to_indexer\u001b[1;34m(self, obj, axis, is_setter, raise_missing)\u001b[0m\n\u001b[0;32m   1283\u001b[0m                 \u001b[1;31m# When setting, missing keys are not allowed, even with .loc:\u001b[0m\u001b[1;33m\u001b[0m\u001b[1;33m\u001b[0m\u001b[1;33m\u001b[0m\u001b[0m\n\u001b[0;32m   1284\u001b[0m                 \u001b[0mkwargs\u001b[0m \u001b[1;33m=\u001b[0m \u001b[1;33m{\u001b[0m\u001b[1;34m\"raise_missing\"\u001b[0m\u001b[1;33m:\u001b[0m \u001b[1;32mTrue\u001b[0m \u001b[1;32mif\u001b[0m \u001b[0mis_setter\u001b[0m \u001b[1;32melse\u001b[0m \u001b[0mraise_missing\u001b[0m\u001b[1;33m}\u001b[0m\u001b[1;33m\u001b[0m\u001b[1;33m\u001b[0m\u001b[0m\n\u001b[1;32m-> 1285\u001b[1;33m                 \u001b[1;32mreturn\u001b[0m \u001b[0mself\u001b[0m\u001b[1;33m.\u001b[0m\u001b[0m_get_listlike_indexer\u001b[0m\u001b[1;33m(\u001b[0m\u001b[0mobj\u001b[0m\u001b[1;33m,\u001b[0m \u001b[0maxis\u001b[0m\u001b[1;33m,\u001b[0m \u001b[1;33m**\u001b[0m\u001b[0mkwargs\u001b[0m\u001b[1;33m)\u001b[0m\u001b[1;33m[\u001b[0m\u001b[1;36m1\u001b[0m\u001b[1;33m]\u001b[0m\u001b[1;33m\u001b[0m\u001b[1;33m\u001b[0m\u001b[0m\n\u001b[0m\u001b[0;32m   1286\u001b[0m         \u001b[1;32melse\u001b[0m\u001b[1;33m:\u001b[0m\u001b[1;33m\u001b[0m\u001b[1;33m\u001b[0m\u001b[0m\n\u001b[0;32m   1287\u001b[0m             \u001b[1;32mtry\u001b[0m\u001b[1;33m:\u001b[0m\u001b[1;33m\u001b[0m\u001b[1;33m\u001b[0m\u001b[0m\n",
      "\u001b[1;32m~\\anaconda3\\envs\\trees\\lib\\site-packages\\pandas\\core\\indexing.py\u001b[0m in \u001b[0;36m_get_listlike_indexer\u001b[1;34m(self, key, axis, raise_missing)\u001b[0m\n\u001b[0;32m   1089\u001b[0m             \u001b[0mkeyarr\u001b[0m\u001b[1;33m,\u001b[0m \u001b[0mindexer\u001b[0m\u001b[1;33m,\u001b[0m \u001b[0mnew_indexer\u001b[0m \u001b[1;33m=\u001b[0m \u001b[0max\u001b[0m\u001b[1;33m.\u001b[0m\u001b[0m_reindex_non_unique\u001b[0m\u001b[1;33m(\u001b[0m\u001b[0mkeyarr\u001b[0m\u001b[1;33m)\u001b[0m\u001b[1;33m\u001b[0m\u001b[1;33m\u001b[0m\u001b[0m\n\u001b[0;32m   1090\u001b[0m \u001b[1;33m\u001b[0m\u001b[0m\n\u001b[1;32m-> 1091\u001b[1;33m         self._validate_read_indexer(\n\u001b[0m\u001b[0;32m   1092\u001b[0m             \u001b[0mkeyarr\u001b[0m\u001b[1;33m,\u001b[0m \u001b[0mindexer\u001b[0m\u001b[1;33m,\u001b[0m \u001b[0mo\u001b[0m\u001b[1;33m.\u001b[0m\u001b[0m_get_axis_number\u001b[0m\u001b[1;33m(\u001b[0m\u001b[0maxis\u001b[0m\u001b[1;33m)\u001b[0m\u001b[1;33m,\u001b[0m \u001b[0mraise_missing\u001b[0m\u001b[1;33m=\u001b[0m\u001b[0mraise_missing\u001b[0m\u001b[1;33m\u001b[0m\u001b[1;33m\u001b[0m\u001b[0m\n\u001b[0;32m   1093\u001b[0m         )\n",
      "\u001b[1;32m~\\anaconda3\\envs\\trees\\lib\\site-packages\\pandas\\core\\indexing.py\u001b[0m in \u001b[0;36m_validate_read_indexer\u001b[1;34m(self, key, indexer, axis, raise_missing)\u001b[0m\n\u001b[0;32m   1183\u001b[0m             \u001b[1;32mif\u001b[0m \u001b[1;32mnot\u001b[0m \u001b[1;33m(\u001b[0m\u001b[0mself\u001b[0m\u001b[1;33m.\u001b[0m\u001b[0mname\u001b[0m \u001b[1;33m==\u001b[0m \u001b[1;34m\"loc\"\u001b[0m \u001b[1;32mand\u001b[0m \u001b[1;32mnot\u001b[0m \u001b[0mraise_missing\u001b[0m\u001b[1;33m)\u001b[0m\u001b[1;33m:\u001b[0m\u001b[1;33m\u001b[0m\u001b[1;33m\u001b[0m\u001b[0m\n\u001b[0;32m   1184\u001b[0m                 \u001b[0mnot_found\u001b[0m \u001b[1;33m=\u001b[0m \u001b[0mlist\u001b[0m\u001b[1;33m(\u001b[0m\u001b[0mset\u001b[0m\u001b[1;33m(\u001b[0m\u001b[0mkey\u001b[0m\u001b[1;33m)\u001b[0m \u001b[1;33m-\u001b[0m \u001b[0mset\u001b[0m\u001b[1;33m(\u001b[0m\u001b[0max\u001b[0m\u001b[1;33m)\u001b[0m\u001b[1;33m)\u001b[0m\u001b[1;33m\u001b[0m\u001b[1;33m\u001b[0m\u001b[0m\n\u001b[1;32m-> 1185\u001b[1;33m                 \u001b[1;32mraise\u001b[0m \u001b[0mKeyError\u001b[0m\u001b[1;33m(\u001b[0m\u001b[1;34m\"{} not in index\"\u001b[0m\u001b[1;33m.\u001b[0m\u001b[0mformat\u001b[0m\u001b[1;33m(\u001b[0m\u001b[0mnot_found\u001b[0m\u001b[1;33m)\u001b[0m\u001b[1;33m)\u001b[0m\u001b[1;33m\u001b[0m\u001b[1;33m\u001b[0m\u001b[0m\n\u001b[0m\u001b[0;32m   1186\u001b[0m \u001b[1;33m\u001b[0m\u001b[0m\n\u001b[0;32m   1187\u001b[0m             \u001b[1;31m# we skip the warning on Categorical/Interval\u001b[0m\u001b[1;33m\u001b[0m\u001b[1;33m\u001b[0m\u001b[1;33m\u001b[0m\u001b[0m\n",
      "\u001b[1;31mKeyError\u001b[0m: \"['geoid'] not in index\""
     ]
    }
   ],
   "source": [
    "county = getDexData(\"county\")\n",
    "\n",
    "dex_county = county['dex']\n",
    "dex_a_county = county['dex_a']\n",
    "\n",
    "state = getDexData(\"state\")\n",
    "\n",
    "dex_state = state['dex']\n",
    "dex_a_state = state['dex_a']\n",
    "\n",
    "fileList = glob('../../docs/csv/*confirmed*.csv')\n",
    "\n",
    "# for file in fileList:\n",
    "# #     if 'state' in file:\n",
    "# #     else:\n",
    "#     print(pd.read_csv(file).columns)\n",
    "    \n",
    "\n",
    "# parseDf.to_csv(f'../../docs/csv/covid_county_dex_{fileName}.csv',index=False)\n",
    "# parseDf.to_csv(f'./csv/covid_county_dex_{fileName}.csv',index=False)"
   ]
  },
  {
   "cell_type": "code",
   "execution_count": null,
   "metadata": {},
   "outputs": [],
   "source": [
    "dex_state"
   ]
  },
  {
   "cell_type": "code",
   "execution_count": 109,
   "metadata": {},
   "outputs": [
    {
     "name": "stdout",
     "output_type": "stream",
     "text": [
      "Index(['STATEFP', 'COUNTYFP', 'COUNTYNS', 'AFFGEOID', 'GEOID', 'NAME', 'LSAD',\n",
      "       '2020-01-21', '2020-01-24', '2020-01-26',\n",
      "       ...\n",
      "       '2020-12-27', '2020-12-28', '2020-12-29', '2020-12-30', '2020-12-31',\n",
      "       '2021-01-01', '2021-01-02', '2021-01-03', '2021-01-04', '2021-01-05'],\n",
      "      dtype='object', length=338)\n",
      "Index(['GEOID', 'NAME', '2020-01-21', '2020-01-24', '2020-01-26', '2020-01-30',\n",
      "       '2020-01-31', '2020-02-01', '2020-02-02', '2020-02-05',\n",
      "       ...\n",
      "       '2020-12-27', '2020-12-28', '2020-12-29', '2020-12-30', '2020-12-31',\n",
      "       '2021-01-01', '2021-01-02', '2021-01-03', '2021-01-04', '2021-01-05'],\n",
      "      dtype='object', length=333)\n",
      "Index(['fips', '2020-01-22', '2020-01-23', '2020-01-24', '2020-01-25',\n",
      "       '2020-01-26', '2020-01-27', '2020-01-28', '2020-01-29', '2020-01-30',\n",
      "       ...\n",
      "       '2020-12-25', '2020-12-26', '2020-12-27', '2020-12-28', '2020-12-29',\n",
      "       '2020-12-30', '2020-12-31', '2021-01-01', '2021-01-02', '2021-01-03'],\n",
      "      dtype='object', length=349)\n",
      "Index(['fips', '2020-01-21', '2020-01-22', '2020-01-23', '2020-01-24',\n",
      "       '2020-01-25', '2020-01-26', '2020-01-27', '2020-01-28', '2020-01-29',\n",
      "       ...\n",
      "       '2020-12-26', '2020-12-27', '2020-12-28', '2020-12-29', '2020-12-30',\n",
      "       '2020-12-31', '2021-01-01', '2021-01-02', '2021-01-03', '2021-01-04'],\n",
      "      dtype='object', length=351)\n",
      "Index(['fips', '2020-01-21', '2020-01-22', '2020-01-23', '2020-01-24',\n",
      "       '2020-01-25', '2020-01-26', '2020-01-27', '2020-01-28', '2020-01-29',\n",
      "       ...\n",
      "       '2020-12-26', '2020-12-27', '2020-12-28', '2020-12-29', '2020-12-30',\n",
      "       '2020-12-31', '2021-01-01', '2021-01-02', '2021-01-03', '2021-01-04'],\n",
      "      dtype='object', length=351)\n",
      "Index(['countyFIPS', 'County Name', 'State', 'stateFIPS', '1/22/20', '1/23/20',\n",
      "       '1/24/20', '1/25/20', '1/26/20', '1/27/20',\n",
      "       ...\n",
      "       '12/24/20', '12/25/20', '12/26/20', '12/27/20', '12/28/20', '12/29/20',\n",
      "       '12/30/20', '12/31/20', '1/1/21', '1/2/21'],\n",
      "      dtype='object', length=351)\n",
      "Index(['State', 'stateFIPS', '1/22/20', '1/23/20', '1/24/20', '1/25/20',\n",
      "       '1/26/20', '1/27/20', '1/28/20', '1/29/20',\n",
      "       ...\n",
      "       '12/24/20', '12/25/20', '12/26/20', '12/27/20', '12/28/20', '12/29/20',\n",
      "       '12/30/20', '12/31/20', '1/1/21', '1/2/21'],\n",
      "      dtype='object', length=349)\n"
     ]
    }
   ],
   "source": [
    "fileList = glob('../../docs/csv/*confirmed*.csv')\n",
    "\n",
    "for file in fileList:\n",
    "#     if 'state' in file:\n",
    "#     else:\n",
    "    print(pd.read_csv(file).columns)\n",
    "        "
   ]
  },
  {
   "cell_type": "code",
   "execution_count": null,
   "metadata": {},
   "outputs": [],
   "source": []
  }
 ],
 "metadata": {
  "kernelspec": {
   "display_name": "Python 3",
   "language": "python",
   "name": "python3"
  },
  "language_info": {
   "codemirror_mode": {
    "name": "ipython",
    "version": 3
   },
   "file_extension": ".py",
   "mimetype": "text/x-python",
   "name": "python",
   "nbconvert_exporter": "python",
   "pygments_lexer": "ipython3",
   "version": "3.8.3"
  }
 },
 "nbformat": 4,
 "nbformat_minor": 4
}
