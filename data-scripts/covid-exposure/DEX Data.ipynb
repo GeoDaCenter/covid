{
 "cells": [
  {
   "cell_type": "code",
   "execution_count": 95,
   "metadata": {},
   "outputs": [],
   "source": [
    "import pandas as pd\n",
    "from datetime import datetime\n",
    "from glob import glob"
   ]
  },
  {
   "cell_type": "code",
   "execution_count": 250,
   "metadata": {},
   "outputs": [],
   "source": [
    "def findJoinColumn(columns):\n",
    "    # check for various options used for join columns in data sets\n",
    "    # return whicever is present\n",
    "    # pray no more than 1 is used in the same dataset\n",
    "    colOptions = ['GEOID', 'fips', 'countyFIPS', 'stateFIPS']\n",
    "    for option in colOptions:\n",
    "        if option in columns:\n",
    "            return option"
   ]
  },
  {
   "cell_type": "code",
   "execution_count": 251,
   "metadata": {},
   "outputs": [],
   "source": [
    "def findDateIndex(columns):\n",
    "    for column in columns:\n",
    "        if column.count('-') > 1 or column.count('/') > 1:\n",
    "            return columns.index(column)"
   ]
  },
  {
   "cell_type": "code",
   "execution_count": 252,
   "metadata": {},
   "outputs": [],
   "source": [
    "def convertToUsaFacts(columns):\n",
    "    mapping = {}\n",
    "    \n",
    "    for column in columns:\n",
    "        if '-' not in column:\n",
    "            mapping[column] = column\n",
    "        else:\n",
    "            parts = column.split('-')\n",
    "            year = parts[0]\n",
    "            month = parts[1]\n",
    "            day = parts[2]\n",
    "            mapping[column] = f\"{int(month)}/{int(day)}/{year[2:]}\"\n",
    "    \n",
    "    return mapping"
   ]
  },
  {
   "cell_type": "code",
   "execution_count": 253,
   "metadata": {},
   "outputs": [],
   "source": [
    "def getDexData(geography):\n",
    "    # \n",
    "    if (geography == \"county\"):\n",
    "        raw = pd.read_csv(\"https://raw.githubusercontent.com/COVIDExposureIndices/COVIDExposureIndices/master/dex_data/county_dex.csv\")\n",
    "        joinCol = 'county'\n",
    "    else:\n",
    "        raw = pd.read_csv(\"https://raw.githubusercontent.com/COVIDExposureIndices/COVIDExposureIndices/master/dex_data/state_dex.csv\")\n",
    "        joinCol = 'GEOID'\n",
    "        geoidTable = pd.read_csv('./statename_geoid.csv')\n",
    "        raw = raw.merge(geoidTable, left_on=\"state\", right_on=\"STUSPS\", how=\"left\")\n",
    "        \n",
    "    raw['dex'] = raw['dex'].round(1)\n",
    "    raw['dex_a'] = raw['dex_a'].round(1)\n",
    "\n",
    "    dex = raw[[joinCol,'date','dex']]\n",
    "    dex_a = raw[[joinCol,'date','dex_a']]\n",
    "\n",
    "    # thanks to @piRSquared on stackoverflow for this nifty pivot expressions\n",
    "    # https://stackoverflow.com/questions/54915215/expressing-time-series-data-in-the-columns-rather-than-the-rows-of-a-dataframe\n",
    "    dex = dex.pivot_table(index=joinCol, columns='date').swaplevel(0, 1, 1).sort_index(1).reset_index()\n",
    "    dex.columns = [column[0] for column in list(dex.columns)]\n",
    "\n",
    "    dex_a = dex_a.pivot_table(index=joinCol, columns='date').swaplevel(0, 1, 1).sort_index(1).reset_index()\n",
    "    dex_a.columns = [column[0] for column in list(dex_a.columns)]\n",
    "\n",
    "    return { 'dex': dex, 'dex_a': dex_a}"
   ]
  },
  {
   "cell_type": "code",
   "execution_count": 256,
   "metadata": {},
   "outputs": [],
   "source": [
    "def parseDex(fileName, dataFrame, dexJoinColumn):\n",
    "    casesDf = pd.read_csv(fileName)\n",
    "\n",
    "    dateColumnIndex = findDateIndex(list(casesDf.columns))\n",
    "    nonDateCols = list(casesDf.columns)[:dateColumnIndex]\n",
    "    dateCols = list(casesDf.columns)[dateColumnIndex:]\n",
    "    dateCols.sort()\n",
    "\n",
    "    joinColumn = findJoinColumn(list(casesDf.columns))\n",
    "    casesDf = casesDf[nonDateCols]\n",
    "    \n",
    "    if 'usafacts' in fileName:\n",
    "        dataFrame = dataFrame.rename(columns=convertToUsaFacts(list(dataFrame.columns)))\n",
    "        \n",
    "    mergedDf = dataFrame.merge(casesDf, left_on=dexJoinColumn, right_on=joinColumn)\n",
    "\n",
    "    for column in dateCols:\n",
    "        if column not in mergedDf.columns:\n",
    "            mergedDf[column] = None\n",
    "    parsedDf = mergedDf[nonDateCols + dateCols]\n",
    "\n",
    "    fileName = fileName.split('confirmed_')[1].split('.csv')[0]\n",
    "    \n",
    "    return {'fileName': fileName, 'df': parsedDf}"
   ]
  },
  {
   "cell_type": "code",
   "execution_count": 258,
   "metadata": {},
   "outputs": [],
   "source": [
    "county = getDexData(\"county\")\n",
    "\n",
    "dex_county = county['dex']\n",
    "dex_a_county = county['dex_a']\n",
    "\n",
    "state = getDexData(\"state\")\n",
    "\n",
    "dex_state = state['dex']\n",
    "dex_a_state = state['dex_a']\n",
    "\n",
    "fileList = glob('../../docs/csv/*confirmed*.csv')\n",
    "\n",
    "for file in fileList:\n",
    "    if 'state' in file:\n",
    "        dexJoinColumn = 'GEOID'\n",
    "        dataFrame1 = dex_state\n",
    "        dataFrame2 = dex_a_state\n",
    "    else:\n",
    "        dexJoinColumn = 'county'\n",
    "        dataFrame1 = dex_county\n",
    "        dataFrame2 = dex_a_county\n",
    "        \n",
    "    parsed1 = parseDex(file, dataFrame1, dexJoinColumn)\n",
    "    parsed2 = parseDex(file, dataFrame2, dexJoinColumn)\n",
    "    \n",
    "    parsed1['df'].to_csv(f'../../docs/csv/covid_county_dex_{parsed1[\"fileName\"]}.csv',index=False)\n",
    "    parsed2['df'].to_csv(f'../../docs/csv/covid_county_dex_a_{parsed2[\"fileName\"]}.csv',index=False)\n",
    "    parsed1['df'].to_csv(f'./csv/covid_county_dex_{parsed1[\"fileName\"]}.csv',index=False)\n",
    "    parsed2['df'].to_csv(f'./csv/covid_county_dex_a_{parsed2[\"fileName\"]}.csv',index=False)"
   ]
  },
  {
   "cell_type": "code",
   "execution_count": null,
   "metadata": {},
   "outputs": [],
   "source": []
  }
 ],
 "metadata": {
  "kernelspec": {
   "display_name": "Python 3",
   "language": "python",
   "name": "python3"
  },
  "language_info": {
   "codemirror_mode": {
    "name": "ipython",
    "version": 3
   },
   "file_extension": ".py",
   "mimetype": "text/x-python",
   "name": "python",
   "nbconvert_exporter": "python",
   "pygments_lexer": "ipython3",
   "version": "3.8.3"
  }
 },
 "nbformat": 4,
 "nbformat_minor": 4
}
