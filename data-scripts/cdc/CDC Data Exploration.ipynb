{
 "cells": [
  {
   "cell_type": "code",
   "execution_count": 39,
   "metadata": {},
   "outputs": [],
   "source": [
    "import pandas as pd\n",
    "import requests, json\n",
    "from glob import glob"
   ]
  },
  {
   "cell_type": "code",
   "execution_count": 40,
   "metadata": {},
   "outputs": [],
   "source": [
    "raw = requests.get('https://covid.cdc.gov/covid-data-tracker/COVIDData/getAjaxData?id=vaccination_data')\n",
    "loadedJson = raw.json()['vaccination_data']\n",
    "vaccinationData = pd.DataFrame(loadedJson)\n",
    "\n",
    "with open(f'./json/cdc_vaccine_data_{loadedJson[0][\"Date\"]}.json', 'w') as outfile:\n",
    "    json.dump(loadedJson, outfile)"
   ]
  },
  {
   "cell_type": "code",
   "execution_count": 133,
   "metadata": {},
   "outputs": [
    {
     "name": "stderr",
     "output_type": "stream",
     "text": [
      "<ipython-input-133-e8ab5655eada>:30: FutureWarning: Sorting because non-concatenation axis is not aligned. A future version\n",
      "of pandas will change to not sort by default.\n",
      "\n",
      "To accept the future behavior, pass 'sort=False'.\n",
      "\n",
      "To retain the current behavior and silence the warning, pass 'sort=True'.\n",
      "\n",
      "  merged = pd.concat([placeholderDf, vaccineAdministered])\n",
      "<ipython-input-133-e8ab5655eada>:38: FutureWarning: Sorting because non-concatenation axis is not aligned. A future version\n",
      "of pandas will change to not sort by default.\n",
      "\n",
      "To accept the future behavior, pass 'sort=False'.\n",
      "\n",
      "To retain the current behavior and silence the warning, pass 'sort=True'.\n",
      "\n",
      "  merged = pd.concat([placeholderDf, vaccineDistributed])\n"
     ]
    }
   ],
   "source": [
    "dateDf = pd.read_csv('../../docs/csv/covid_confirmed_1p3a_state.csv')\n",
    "datesList = list(dateDf.columns[2:])\n",
    "datesList.sort()\n",
    "datesList = ['GEOID', 'NAME'] + datesList\n",
    "placeholderDf = pd.DataFrame(datesList).set_index(0).T\n",
    "\n",
    "for idx, file in enumerate(vaccinationDataList):\n",
    "    with open(file) as f:\n",
    "        data = json.load(f)\n",
    "        if (type(data)==dict):\n",
    "            data = data['vaccination_data']\n",
    "    currDate = data[0]['Date']\n",
    "    vaccinationDf = pd.DataFrame(data) \\\n",
    "        .merge(geoidTable, left_on=\"Location\", right_on=\"STUSPS\", how=\"inner\")[['GEOID','NAME','Doses_Distributed','Doses_Administered']]\n",
    "    \n",
    "    if idx == 0:\n",
    "        vaccineAdministered = vaccinationDf[['GEOID','NAME','Doses_Administered']]\n",
    "        vaccineDistributed = vaccinationDf[['GEOID','NAME','Doses_Distributed']]\n",
    "        vaccineAdministered.columns = ['GEOID','NAME',currDate]\n",
    "        vaccineDistributed.columns = ['GEOID','NAME',currDate]\n",
    "    else:\n",
    "        dailyVaccineAdministered = vaccinationDf[['GEOID','NAME','Doses_Administered']]\n",
    "        dailyVaccineDistributed = vaccinationDf[['GEOID','NAME','Doses_Distributed']]\n",
    "        dailyVaccineAdministered.columns = ['GEOID','NAME',currDate]\n",
    "        dailyVaccineDistributed.columns = ['GEOID','NAME',currDate]\n",
    "        \n",
    "        vaccineAdministered = vaccineAdministered.merge(dailyVaccineAdministered, on=[\"GEOID\",\"NAME\"])\n",
    "        vaccineDistributed = vaccineDistributed.merge(dailyVaccineDistributed, on=[\"GEOID\",\"NAME\"])\n",
    "        \n",
    "merged = pd.concat([placeholderDf, vaccineAdministered])\n",
    "cols = list(merged.columns)[-2:] + list(merged.columns)[:-2]\n",
    "merged = merged[cols]\n",
    "merged.to_csv()\n",
    "\n",
    "merged.to_csv('./csv/vaccine_admin_cdc_1p3a_state.csv', index=False)\n",
    "merged.to_csv('../../docs/csv/vaccine_admin_cdc_1p3a_state.csv', index=False)\n",
    "\n",
    "merged = pd.concat([placeholderDf, vaccineDistributed])\n",
    "cols = list(merged.columns)[-2:] + list(merged.columns)[:-2]\n",
    "merged = merged[cols]\n",
    "merged.to_csv()\n",
    "\n",
    "merged.to_csv('./csv/vaccine_dist_cdc_1p3a_state.csv', index=False)\n",
    "merged.to_csv('../../docs/csv/vaccine_dist_cdc_1p3a_state.csv', index=False)"
   ]
  },
  {
   "cell_type": "code",
   "execution_count": 134,
   "metadata": {},
   "outputs": [
    {
     "name": "stderr",
     "output_type": "stream",
     "text": [
      "<ipython-input-134-6c298b75b39d>:30: FutureWarning: Sorting because non-concatenation axis is not aligned. A future version\n",
      "of pandas will change to not sort by default.\n",
      "\n",
      "To accept the future behavior, pass 'sort=False'.\n",
      "\n",
      "To retain the current behavior and silence the warning, pass 'sort=True'.\n",
      "\n",
      "  merged = pd.concat([placeholderDf, vaccineAdministered])\n",
      "<ipython-input-134-6c298b75b39d>:38: FutureWarning: Sorting because non-concatenation axis is not aligned. A future version\n",
      "of pandas will change to not sort by default.\n",
      "\n",
      "To accept the future behavior, pass 'sort=False'.\n",
      "\n",
      "To retain the current behavior and silence the warning, pass 'sort=True'.\n",
      "\n",
      "  merged = pd.concat([placeholderDf, vaccineDistributed])\n"
     ]
    }
   ],
   "source": [
    "dateDf = pd.read_csv('../../docs/csv/covid_confirmed_nyt_state.csv')\n",
    "datesList = list(dateDf.columns[1:])\n",
    "datesList.sort()\n",
    "datesList = ['fips'] + datesList\n",
    "placeholderDf = pd.DataFrame(datesList).set_index(0).T\n",
    "\n",
    "for idx, file in enumerate(vaccinationDataList):\n",
    "    with open(file) as f:\n",
    "        data = json.load(f)\n",
    "        if (type(data)==dict):\n",
    "            data = data['vaccination_data']\n",
    "    currDate = data[0]['Date']\n",
    "    vaccinationDf = pd.DataFrame(data) \\\n",
    "        .merge(geoidTable, left_on=\"Location\", right_on=\"STUSPS\", how=\"inner\")[['GEOID','NAME','Doses_Distributed','Doses_Administered']]\n",
    "    \n",
    "    if idx == 0:\n",
    "        vaccineAdministered = vaccinationDf[['GEOID','Doses_Administered']]\n",
    "        vaccineDistributed = vaccinationDf[['GEOID','Doses_Distributed']]\n",
    "        vaccineAdministered.columns = ['fips',currDate]\n",
    "        vaccineDistributed.columns = ['fips',currDate]\n",
    "    else:\n",
    "        dailyVaccineAdministered = vaccinationDf[['GEOID','Doses_Administered']]\n",
    "        dailyVaccineDistributed = vaccinationDf[['GEOID','Doses_Distributed']]\n",
    "        dailyVaccineAdministered.columns = ['fips',currDate]\n",
    "        dailyVaccineDistributed.columns = ['fips',currDate]\n",
    "        \n",
    "        vaccineAdministered = vaccineAdministered.merge(dailyVaccineAdministered, on=[\"fips\"])\n",
    "        vaccineDistributed = vaccineDistributed.merge(dailyVaccineDistributed, on=[\"fips\"])\n",
    "        \n",
    "merged = pd.concat([placeholderDf, vaccineAdministered])\n",
    "cols = list(merged.columns)[-1:] + list(merged.columns)[:-1]\n",
    "merged = merged[cols]\n",
    "merged.to_csv()\n",
    "\n",
    "merged.to_csv('./csv/vaccine_admin_cdc_nyt_state.csv', index=False)\n",
    "merged.to_csv('../../docs/csv/vaccine_admin_cdc_nyt_state.csv', index=False)\n",
    "\n",
    "merged = pd.concat([placeholderDf, vaccineDistributed])\n",
    "cols = list(merged.columns)[-1:] + list(merged.columns)[:-1]\n",
    "merged = merged[cols]\n",
    "merged.to_csv()\n",
    "\n",
    "merged.to_csv('./csv/vaccine_dist_cdc_nyt_state.csv', index=False)\n",
    "merged.to_csv('../../docs/csv/vaccine_dist_cdc_nyt_state.csv', index=False)"
   ]
  },
  {
   "cell_type": "markdown",
   "metadata": {},
   "source": [
    "<hr>"
   ]
  },
  {
   "cell_type": "code",
   "execution_count": null,
   "metadata": {},
   "outputs": [],
   "source": []
  },
  {
   "cell_type": "code",
   "execution_count": 4,
   "metadata": {},
   "outputs": [],
   "source": [
    "raw = requests.get('https://covid.cdc.gov/covid-data-tracker/COVIDData/getAjaxData?id=integrated_county_timeseries_state_IL_external')\n",
    "json = raw.json()['integrated_county_timeseries_external_data']\n",
    "timeSeriesData = pd.DataFrame(json).sort_values('date')"
   ]
  },
  {
   "cell_type": "code",
   "execution_count": 31,
   "metadata": {},
   "outputs": [],
   "source": [
    "filtered = timeSeriesData[['fips_code','date','report_date_window','report_date_window_start','percent_new_test_results_reported_positive_7_day_rolling_average','new_test_results_reported_7_day_rolling_average']]"
   ]
  },
  {
   "cell_type": "code",
   "execution_count": 32,
   "metadata": {},
   "outputs": [
    {
     "data": {
      "text/html": [
       "<div>\n",
       "<style scoped>\n",
       "    .dataframe tbody tr th:only-of-type {\n",
       "        vertical-align: middle;\n",
       "    }\n",
       "\n",
       "    .dataframe tbody tr th {\n",
       "        vertical-align: top;\n",
       "    }\n",
       "\n",
       "    .dataframe thead th {\n",
       "        text-align: right;\n",
       "    }\n",
       "</style>\n",
       "<table border=\"1\" class=\"dataframe\">\n",
       "  <thead>\n",
       "    <tr style=\"text-align: right;\">\n",
       "      <th></th>\n",
       "      <th>fips_code</th>\n",
       "      <th>date</th>\n",
       "      <th>report_date_window</th>\n",
       "      <th>report_date_window_start</th>\n",
       "      <th>percent_new_test_results_reported_positive_7_day_rolling_average</th>\n",
       "      <th>new_test_results_reported_7_day_rolling_average</th>\n",
       "    </tr>\n",
       "  </thead>\n",
       "  <tbody>\n",
       "    <tr>\n",
       "      <th>22224</th>\n",
       "      <td>17129</td>\n",
       "      <td>2020-01-22T00:00:00</td>\n",
       "      <td>2020-01-22T00:00:00</td>\n",
       "      <td>2020-01-16T00:00:00</td>\n",
       "      <td>0.0</td>\n",
       "      <td>0.0</td>\n",
       "    </tr>\n",
       "    <tr>\n",
       "      <th>19448</th>\n",
       "      <td>17119</td>\n",
       "      <td>2020-01-22T00:00:00</td>\n",
       "      <td>2020-01-22T00:00:00</td>\n",
       "      <td>2020-01-16T00:00:00</td>\n",
       "      <td>0.0</td>\n",
       "      <td>0.0</td>\n",
       "    </tr>\n",
       "    <tr>\n",
       "      <th>17723</th>\n",
       "      <td>17103</td>\n",
       "      <td>2020-01-22T00:00:00</td>\n",
       "      <td>2020-01-22T00:00:00</td>\n",
       "      <td>2020-01-16T00:00:00</td>\n",
       "      <td>0.0</td>\n",
       "      <td>0.0</td>\n",
       "    </tr>\n",
       "    <tr>\n",
       "      <th>33705</th>\n",
       "      <td>17195</td>\n",
       "      <td>2020-01-22T00:00:00</td>\n",
       "      <td>2020-01-22T00:00:00</td>\n",
       "      <td>2020-01-16T00:00:00</td>\n",
       "      <td>0.0</td>\n",
       "      <td>0.0</td>\n",
       "    </tr>\n",
       "    <tr>\n",
       "      <th>11512</th>\n",
       "      <td>17067</td>\n",
       "      <td>2020-01-22T00:00:00</td>\n",
       "      <td>2020-01-22T00:00:00</td>\n",
       "      <td>2020-01-16T00:00:00</td>\n",
       "      <td>0.0</td>\n",
       "      <td>0.0</td>\n",
       "    </tr>\n",
       "  </tbody>\n",
       "</table>\n",
       "</div>"
      ],
      "text/plain": [
       "       fips_code                 date   report_date_window  \\\n",
       "22224      17129  2020-01-22T00:00:00  2020-01-22T00:00:00   \n",
       "19448      17119  2020-01-22T00:00:00  2020-01-22T00:00:00   \n",
       "17723      17103  2020-01-22T00:00:00  2020-01-22T00:00:00   \n",
       "33705      17195  2020-01-22T00:00:00  2020-01-22T00:00:00   \n",
       "11512      17067  2020-01-22T00:00:00  2020-01-22T00:00:00   \n",
       "\n",
       "      report_date_window_start  \\\n",
       "22224      2020-01-16T00:00:00   \n",
       "19448      2020-01-16T00:00:00   \n",
       "17723      2020-01-16T00:00:00   \n",
       "33705      2020-01-16T00:00:00   \n",
       "11512      2020-01-16T00:00:00   \n",
       "\n",
       "       percent_new_test_results_reported_positive_7_day_rolling_average  \\\n",
       "22224                                                0.0                  \n",
       "19448                                                0.0                  \n",
       "17723                                                0.0                  \n",
       "33705                                                0.0                  \n",
       "11512                                                0.0                  \n",
       "\n",
       "       new_test_results_reported_7_day_rolling_average  \n",
       "22224                                              0.0  \n",
       "19448                                              0.0  \n",
       "17723                                              0.0  \n",
       "33705                                              0.0  \n",
       "11512                                              0.0  "
      ]
     },
     "execution_count": 32,
     "metadata": {},
     "output_type": "execute_result"
    }
   ],
   "source": [
    "filtered.head()"
   ]
  },
  {
   "cell_type": "code",
   "execution_count": 36,
   "metadata": {},
   "outputs": [
    {
     "data": {
      "text/html": [
       "<div>\n",
       "<style scoped>\n",
       "    .dataframe tbody tr th:only-of-type {\n",
       "        vertical-align: middle;\n",
       "    }\n",
       "\n",
       "    .dataframe tbody tr th {\n",
       "        vertical-align: top;\n",
       "    }\n",
       "\n",
       "    .dataframe thead th {\n",
       "        text-align: right;\n",
       "    }\n",
       "</style>\n",
       "<table border=\"1\" class=\"dataframe\">\n",
       "  <thead>\n",
       "    <tr style=\"text-align: right;\">\n",
       "      <th>date</th>\n",
       "      <th>2020-01-22T00:00:00</th>\n",
       "      <th>2020-01-23T00:00:00</th>\n",
       "      <th>2020-01-24T00:00:00</th>\n",
       "      <th>2020-01-25T00:00:00</th>\n",
       "      <th>2020-01-26T00:00:00</th>\n",
       "      <th>2020-01-27T00:00:00</th>\n",
       "      <th>2020-01-28T00:00:00</th>\n",
       "      <th>2020-01-29T00:00:00</th>\n",
       "      <th>2020-01-30T00:00:00</th>\n",
       "      <th>2020-01-31T00:00:00</th>\n",
       "      <th>...</th>\n",
       "      <th>2020-12-23T00:00:00</th>\n",
       "      <th>2020-12-24T00:00:00</th>\n",
       "      <th>2020-12-25T00:00:00</th>\n",
       "      <th>2020-12-26T00:00:00</th>\n",
       "      <th>2020-12-27T00:00:00</th>\n",
       "      <th>2020-12-28T00:00:00</th>\n",
       "      <th>2020-12-29T00:00:00</th>\n",
       "      <th>2020-12-30T00:00:00</th>\n",
       "      <th>2020-12-31T00:00:00</th>\n",
       "      <th>2021-01-01T00:00:00</th>\n",
       "    </tr>\n",
       "  </thead>\n",
       "  <tbody>\n",
       "    <tr>\n",
       "      <th>percent_new_test_results_reported_positive_7_day_rolling_average</th>\n",
       "      <td>0.0</td>\n",
       "      <td>0.0</td>\n",
       "      <td>0.0</td>\n",
       "      <td>0.0</td>\n",
       "      <td>0.0</td>\n",
       "      <td>0.0</td>\n",
       "      <td>0.0</td>\n",
       "      <td>0.0</td>\n",
       "      <td>0.0</td>\n",
       "      <td>0.0</td>\n",
       "      <td>...</td>\n",
       "      <td>5.42</td>\n",
       "      <td>5.99</td>\n",
       "      <td>6.34</td>\n",
       "      <td>6.78</td>\n",
       "      <td>7.35</td>\n",
       "      <td>8.37</td>\n",
       "      <td>8.3</td>\n",
       "      <td>8.22</td>\n",
       "      <td>10.08</td>\n",
       "      <td>11.24</td>\n",
       "    </tr>\n",
       "  </tbody>\n",
       "</table>\n",
       "<p>1 rows × 346 columns</p>\n",
       "</div>"
      ],
      "text/plain": [
       "date                                                2020-01-22T00:00:00  \\\n",
       "percent_new_test_results_reported_positive_7_da...                  0.0   \n",
       "\n",
       "date                                                2020-01-23T00:00:00  \\\n",
       "percent_new_test_results_reported_positive_7_da...                  0.0   \n",
       "\n",
       "date                                                2020-01-24T00:00:00  \\\n",
       "percent_new_test_results_reported_positive_7_da...                  0.0   \n",
       "\n",
       "date                                                2020-01-25T00:00:00  \\\n",
       "percent_new_test_results_reported_positive_7_da...                  0.0   \n",
       "\n",
       "date                                                2020-01-26T00:00:00  \\\n",
       "percent_new_test_results_reported_positive_7_da...                  0.0   \n",
       "\n",
       "date                                                2020-01-27T00:00:00  \\\n",
       "percent_new_test_results_reported_positive_7_da...                  0.0   \n",
       "\n",
       "date                                                2020-01-28T00:00:00  \\\n",
       "percent_new_test_results_reported_positive_7_da...                  0.0   \n",
       "\n",
       "date                                                2020-01-29T00:00:00  \\\n",
       "percent_new_test_results_reported_positive_7_da...                  0.0   \n",
       "\n",
       "date                                                2020-01-30T00:00:00  \\\n",
       "percent_new_test_results_reported_positive_7_da...                  0.0   \n",
       "\n",
       "date                                                2020-01-31T00:00:00  ...  \\\n",
       "percent_new_test_results_reported_positive_7_da...                  0.0  ...   \n",
       "\n",
       "date                                                2020-12-23T00:00:00  \\\n",
       "percent_new_test_results_reported_positive_7_da...                 5.42   \n",
       "\n",
       "date                                                2020-12-24T00:00:00  \\\n",
       "percent_new_test_results_reported_positive_7_da...                 5.99   \n",
       "\n",
       "date                                                2020-12-25T00:00:00  \\\n",
       "percent_new_test_results_reported_positive_7_da...                 6.34   \n",
       "\n",
       "date                                                2020-12-26T00:00:00  \\\n",
       "percent_new_test_results_reported_positive_7_da...                 6.78   \n",
       "\n",
       "date                                                2020-12-27T00:00:00  \\\n",
       "percent_new_test_results_reported_positive_7_da...                 7.35   \n",
       "\n",
       "date                                                2020-12-28T00:00:00  \\\n",
       "percent_new_test_results_reported_positive_7_da...                 8.37   \n",
       "\n",
       "date                                                2020-12-29T00:00:00  \\\n",
       "percent_new_test_results_reported_positive_7_da...                  8.3   \n",
       "\n",
       "date                                                2020-12-30T00:00:00  \\\n",
       "percent_new_test_results_reported_positive_7_da...                 8.22   \n",
       "\n",
       "date                                                2020-12-31T00:00:00  \\\n",
       "percent_new_test_results_reported_positive_7_da...                10.08   \n",
       "\n",
       "date                                                2021-01-01T00:00:00  \n",
       "percent_new_test_results_reported_positive_7_da...                11.24  \n",
       "\n",
       "[1 rows x 346 columns]"
      ]
     },
     "execution_count": 36,
     "metadata": {},
     "output_type": "execute_result"
    }
   ],
   "source": [
    "filtered[filtered.fips_code == 17129][['date','percent_new_test_results_reported_positive_7_day_rolling_average']] \\\n",
    "    .set_index('date').T"
   ]
  },
  {
   "cell_type": "code",
   "execution_count": 1,
   "metadata": {},
   "outputs": [
    {
     "name": "stderr",
     "output_type": "stream",
     "text": [
      "C:\\Users\\halpe\\anaconda3\\envs\\trees\\lib\\site-packages\\gevent\\hub.py:154: UserWarning: libuv only supports millisecond timer resolution; all times less will be set to 1 ms\n",
      "  with loop.timer(seconds, ref=ref) as t:\n"
     ]
    }
   ],
   "source": [
    "import grequests"
   ]
  },
  {
   "cell_type": "code",
   "execution_count": 2,
   "metadata": {},
   "outputs": [],
   "source": [
    "state2Digit = ['AK', 'AL', 'AR', 'AZ', 'CA', 'CO', 'CT', 'DC', 'DE', 'FL', 'GA', 'HI', 'IA', 'ID', 'IL', 'IN', 'KS', 'KY', 'LA', 'MA', 'MD', 'ME', 'MI', 'MN', 'MO', 'MS', 'MT', 'NC', 'ND', 'NE', 'NH', 'NJ', 'NM', 'NV', 'NY', 'OH', 'OK', 'OR', 'PA', 'RI', 'SC', 'SD', 'TN', 'TX', 'UT', 'VA', 'VT', 'WA', 'WI', 'WV', 'WY']"
   ]
  },
  {
   "cell_type": "code",
   "execution_count": 3,
   "metadata": {},
   "outputs": [],
   "source": [
    "urls = [f\"https://covid.cdc.gov/covid-data-tracker/COVIDData/getAjaxData?id=integrated_county_timeseries_state_{stateCode}_external\" for stateCode in state2Digit]\n",
    "breakpoint = 12\n",
    "urlDict = []\n",
    "for i in range(0,5):\n",
    "    urlDict.append(urls[breakpoint*i:breakpoint*(i+1)])"
   ]
  },
  {
   "cell_type": "code",
   "execution_count": 4,
   "metadata": {},
   "outputs": [],
   "source": [
    "responses = []\n",
    "for urlList in urlDict:\n",
    "    rs = (grequests.get(u,  timeout=120) for u in urlList)\n",
    "    response = grequests.map(rs)\n",
    "    responses.append(response)"
   ]
  },
  {
   "cell_type": "code",
   "execution_count": 8,
   "metadata": {},
   "outputs": [],
   "source": [
    "parsed = ''\n",
    "\n",
    "for responseSet in responses:\n",
    "    for response in responseSet:\n",
    "        if len(parsed)==0:\n",
    "            parsed = pd.DataFrame(response.json()['integrated_county_timeseries_external_data'])\n",
    "        else:\n",
    "            parsed = pd.concat([parsed, pd.DataFrame(response.json()['integrated_county_timeseries_external_data'])])\n",
    "\n",
    "parsed = parsed.sort_values('date')"
   ]
  },
  {
   "cell_type": "code",
   "execution_count": 9,
   "metadata": {},
   "outputs": [],
   "source": [
    "uniqFips = list(parsed.fips_code.unique())\n",
    "\n",
    "cleaned = ''\n",
    "\n",
    "for fips in uniqFips:\n",
    "    if len(cleaned) == 0:\n",
    "        cleaned = parsed[parsed.fips_code == fips][['date','percent_new_test_results_reported_positive_7_day_rolling_average']] \\\n",
    "            .set_index('date').T\n",
    "        cleaned['fips'] = fips\n",
    "    else:\n",
    "        tempDf = parsed[parsed.fips_code == fips][['date','percent_new_test_results_reported_positive_7_day_rolling_average']] \\\n",
    "            .set_index('date').T\n",
    "        tempDf['fips'] = fips\n",
    "        cleaned = pd.concat([cleaned, tempDf])\n",
    "cleaned = cleaned[list(cleaned.columns)[-1:] + list(cleaned.columns)[:-1]]"
   ]
  },
  {
   "cell_type": "code",
   "execution_count": 10,
   "metadata": {},
   "outputs": [],
   "source": [
    "columnNames = [col[:10] for col in cleaned.columns]"
   ]
  },
  {
   "cell_type": "code",
   "execution_count": 11,
   "metadata": {},
   "outputs": [],
   "source": [
    "cleaned.columns = columnNames"
   ]
  },
  {
   "cell_type": "code",
   "execution_count": 12,
   "metadata": {},
   "outputs": [],
   "source": [
    "cleaned.to_csv(\"./county_testing_data.csv\",index=False)"
   ]
  },
  {
   "cell_type": "code",
   "execution_count": null,
   "metadata": {},
   "outputs": [],
   "source": []
  }
 ],
 "metadata": {
  "kernelspec": {
   "display_name": "Python 3",
   "language": "python",
   "name": "python3"
  },
  "language_info": {
   "codemirror_mode": {
    "name": "ipython",
    "version": 3
   },
   "file_extension": ".py",
   "mimetype": "text/x-python",
   "name": "python",
   "nbconvert_exporter": "python",
   "pygments_lexer": "ipython3",
   "version": "3.8.3"
  }
 },
 "nbformat": 4,
 "nbformat_minor": 2
}
