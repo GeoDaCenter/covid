{
 "cells": [
  {
   "cell_type": "code",
   "execution_count": 1,
   "metadata": {},
   "outputs": [
    {
     "name": "stderr",
     "output_type": "stream",
     "text": [
      "C:\\Users\\halpe\\anaconda3\\envs\\trees\\lib\\site-packages\\gevent\\hub.py:154: UserWarning: libuv only supports millisecond timer resolution; all times less will be set to 1 ms\n",
      "  with loop.timer(seconds, ref=ref) as t:\n"
     ]
    }
   ],
   "source": [
    "import grequests\n",
    "import geopandas as gpd\n",
    "from datetime import datetime\n",
    "import pandas as pd"
   ]
  },
  {
   "cell_type": "code",
   "execution_count": 2,
   "metadata": {},
   "outputs": [],
   "source": [
    "state2Digit = ['AK', 'AL', 'AR', 'AZ', 'CA', 'CO', 'CT', 'DC', 'DE', 'FL', 'GA', 'HI', 'IA', 'ID', 'IL', 'IN', 'KS', 'KY', 'LA', 'MA', 'MD', 'ME', 'MI', 'MN', 'MO', 'MS', 'MT', 'NC', 'ND', 'NE', 'NH', 'NJ', 'NM', 'NV', 'NY', 'OH', 'OK', 'OR', 'PA', 'RI', 'SC', 'SD', 'TN', 'TX', 'UT', 'VA', 'VT', 'WA', 'WI', 'WV', 'WY']"
   ]
  },
  {
   "cell_type": "code",
   "execution_count": 3,
   "metadata": {},
   "outputs": [],
   "source": [
    "urls = [f\"https://covid.cdc.gov/covid-data-tracker/COVIDData/getAjaxData?id=integrated_county_timeseries_state_{stateCode}_external\" for stateCode in state2Digit]\n",
    "breakpoint = 12\n",
    "urlDict = []\n",
    "for i in range(0,5):\n",
    "    urlDict.append(urls[breakpoint*i:breakpoint*(i+1)])"
   ]
  },
  {
   "cell_type": "code",
   "execution_count": 5,
   "metadata": {},
   "outputs": [],
   "source": [
    "responses = []\n",
    "for urlList in urlDict:\n",
    "    rs = (grequests.get(u,  timeout=120) for u in urlList)\n",
    "    response = grequests.map(rs)\n",
    "    responses.append(response)"
   ]
  },
  {
   "cell_type": "code",
   "execution_count": 6,
   "metadata": {},
   "outputs": [],
   "source": [
    "parsed = ''\n",
    "\n",
    "for responseSet in responses:\n",
    "    for response in responseSet:\n",
    "        if len(parsed)==0:\n",
    "            parsed = pd.DataFrame(response.json()['integrated_county_timeseries_external_data'])\n",
    "        else:\n",
    "            parsed = pd.concat([parsed, pd.DataFrame(response.json()['integrated_county_timeseries_external_data'])])\n",
    "\n",
    "parsed = parsed.sort_values('date')\n",
    "parsed['date'] = parsed['date'].str.slice(0,-9)"
   ]
  },
  {
   "cell_type": "code",
   "execution_count": 28,
   "metadata": {},
   "outputs": [],
   "source": [
    "countyPops = parsed[['fips_code', 'state']].merge(pd.read_csv('county_populations.csv')[[\"GEOID\",'population']], \n",
    "           how=\"left\", left_on=\"fips_code\", right_on=\"GEOID\")[['fips_code','state','population']].drop_duplicates()"
   ]
  },
  {
   "cell_type": "code",
   "execution_count": 7,
   "metadata": {},
   "outputs": [],
   "source": [
    "colsToParse = [\n",
    "    {\n",
    "        'column':'new_cases_7_day_rolling_average',\n",
    "        'csv':'covid_confirmed_cdc'\n",
    "    },\n",
    "    {\n",
    "        'column':'new_deaths_7_day_rolling_average', \n",
    "        'csv':'covid_deaths_cdc', \n",
    "    },\n",
    "    {\n",
    "        'column':'new_test_results_reported_7_day_rolling_average', \n",
    "        'csv':'covid_testing_cdc'\n",
    "    },\n",
    "    {\n",
    "        'column':'percent_new_test_results_reported_positive_7_day_rolling_average',\n",
    "        'csv':'covid_wk_pos_cdc'\n",
    "    }]"
   ]
  },
  {
   "cell_type": "code",
   "execution_count": 32,
   "metadata": {},
   "outputs": [
    {
     "name": "stdout",
     "output_type": "stream",
     "text": [
      "new_cases_7_day_rolling_average\n",
      "new_deaths_7_day_rolling_average\n",
      "new_test_results_reported_7_day_rolling_average\n",
      "percent_new_test_results_reported_positive_7_day_rolling_average\n"
     ]
    }
   ],
   "source": [
    "dfs = []\n",
    "for entry in colsToParse:\n",
    "    colName = entry['column']\n",
    "    print(colName)\n",
    "    # thanks to @piRSquared on stackoverflow for this nifty pivot expressions\n",
    "    # https://stackoverflow.com/questions/54915215/expressing-time-series-data-in-the-columns-rather-than-the-rows-of-a-dataframe\n",
    "    tempDf = parsed[['fips_code','date',colName]]\n",
    "    tempDf = tempDf.pivot_table(index='fips_code', columns='date').swaplevel(0, 1, 1).sort_index(1).reset_index()\n",
    "    tempDf.columns = [column[0] for column in list(tempDf.columns)]\n",
    "    dfs.append(tempDf)\n",
    "#     tempDf.to_csv(f'./csv/{entry[\"csv\"]}.csv')"
   ]
  },
  {
   "cell_type": "code",
   "execution_count": 34,
   "metadata": {},
   "outputs": [],
   "source": [
    "test_results = dfs[2].merge(countyPops, on=\"fips_code\", how=\"left\")"
   ]
  },
  {
   "cell_type": "code",
   "execution_count": 42,
   "metadata": {},
   "outputs": [],
   "source": [
    "test_results = test_results.merge(test_results[['state','population']].groupby('state') \\\n",
    ".sum().rename(columns={'population': 'statePopulation'}).reset_index(),\n",
    "                  how=\"left\", on=\"state\")"
   ]
  },
  {
   "cell_type": "code",
   "execution_count": 45,
   "metadata": {},
   "outputs": [
    {
     "data": {
      "text/html": [
       "<div>\n",
       "<style scoped>\n",
       "    .dataframe tbody tr th:only-of-type {\n",
       "        vertical-align: middle;\n",
       "    }\n",
       "\n",
       "    .dataframe tbody tr th {\n",
       "        vertical-align: top;\n",
       "    }\n",
       "\n",
       "    .dataframe thead th {\n",
       "        text-align: right;\n",
       "    }\n",
       "</style>\n",
       "<table border=\"1\" class=\"dataframe\">\n",
       "  <thead>\n",
       "    <tr style=\"text-align: right;\">\n",
       "      <th></th>\n",
       "      <th>fips_code</th>\n",
       "      <th>2020-01-22</th>\n",
       "      <th>2020-01-23</th>\n",
       "      <th>2020-01-24</th>\n",
       "      <th>2020-01-25</th>\n",
       "      <th>2020-01-26</th>\n",
       "      <th>2020-01-27</th>\n",
       "      <th>2020-01-28</th>\n",
       "      <th>2020-01-29</th>\n",
       "      <th>2020-01-30</th>\n",
       "      <th>...</th>\n",
       "      <th>2021-01-27</th>\n",
       "      <th>2021-01-28</th>\n",
       "      <th>2021-01-29</th>\n",
       "      <th>2021-01-30</th>\n",
       "      <th>2021-01-31</th>\n",
       "      <th>2021-02-01</th>\n",
       "      <th>state</th>\n",
       "      <th>population</th>\n",
       "      <th>statePopulation</th>\n",
       "      <th>proportion</th>\n",
       "    </tr>\n",
       "  </thead>\n",
       "  <tbody>\n",
       "    <tr>\n",
       "      <th>0</th>\n",
       "      <td>1001</td>\n",
       "      <td>0.0</td>\n",
       "      <td>0.0</td>\n",
       "      <td>0.0</td>\n",
       "      <td>0.0</td>\n",
       "      <td>0.0</td>\n",
       "      <td>0.0</td>\n",
       "      <td>0.0</td>\n",
       "      <td>0.0</td>\n",
       "      <td>0.0</td>\n",
       "      <td>...</td>\n",
       "      <td>161.43</td>\n",
       "      <td>146.29</td>\n",
       "      <td>142.86</td>\n",
       "      <td>134.00</td>\n",
       "      <td>122.14</td>\n",
       "      <td>0.0</td>\n",
       "      <td>AL</td>\n",
       "      <td>55200</td>\n",
       "      <td>4864680</td>\n",
       "      <td>0.011347</td>\n",
       "    </tr>\n",
       "    <tr>\n",
       "      <th>1</th>\n",
       "      <td>1003</td>\n",
       "      <td>0.0</td>\n",
       "      <td>0.0</td>\n",
       "      <td>0.0</td>\n",
       "      <td>0.0</td>\n",
       "      <td>0.0</td>\n",
       "      <td>0.0</td>\n",
       "      <td>0.0</td>\n",
       "      <td>0.0</td>\n",
       "      <td>0.0</td>\n",
       "      <td>...</td>\n",
       "      <td>530.71</td>\n",
       "      <td>491.43</td>\n",
       "      <td>452.29</td>\n",
       "      <td>447.29</td>\n",
       "      <td>441.14</td>\n",
       "      <td>0.0</td>\n",
       "      <td>AL</td>\n",
       "      <td>208107</td>\n",
       "      <td>4864680</td>\n",
       "      <td>0.042779</td>\n",
       "    </tr>\n",
       "    <tr>\n",
       "      <th>2</th>\n",
       "      <td>1005</td>\n",
       "      <td>0.0</td>\n",
       "      <td>0.0</td>\n",
       "      <td>0.0</td>\n",
       "      <td>0.0</td>\n",
       "      <td>0.0</td>\n",
       "      <td>0.0</td>\n",
       "      <td>0.0</td>\n",
       "      <td>0.0</td>\n",
       "      <td>0.0</td>\n",
       "      <td>...</td>\n",
       "      <td>42.14</td>\n",
       "      <td>38.57</td>\n",
       "      <td>33.29</td>\n",
       "      <td>25.57</td>\n",
       "      <td>24.86</td>\n",
       "      <td>0.0</td>\n",
       "      <td>AL</td>\n",
       "      <td>25782</td>\n",
       "      <td>4864680</td>\n",
       "      <td>0.005300</td>\n",
       "    </tr>\n",
       "    <tr>\n",
       "      <th>3</th>\n",
       "      <td>1007</td>\n",
       "      <td>0.0</td>\n",
       "      <td>0.0</td>\n",
       "      <td>0.0</td>\n",
       "      <td>0.0</td>\n",
       "      <td>0.0</td>\n",
       "      <td>0.0</td>\n",
       "      <td>0.0</td>\n",
       "      <td>0.0</td>\n",
       "      <td>0.0</td>\n",
       "      <td>...</td>\n",
       "      <td>58.00</td>\n",
       "      <td>52.86</td>\n",
       "      <td>46.86</td>\n",
       "      <td>44.00</td>\n",
       "      <td>38.57</td>\n",
       "      <td>0.0</td>\n",
       "      <td>AL</td>\n",
       "      <td>22527</td>\n",
       "      <td>4864680</td>\n",
       "      <td>0.004631</td>\n",
       "    </tr>\n",
       "    <tr>\n",
       "      <th>4</th>\n",
       "      <td>1009</td>\n",
       "      <td>0.0</td>\n",
       "      <td>0.0</td>\n",
       "      <td>0.0</td>\n",
       "      <td>0.0</td>\n",
       "      <td>0.0</td>\n",
       "      <td>0.0</td>\n",
       "      <td>0.0</td>\n",
       "      <td>0.0</td>\n",
       "      <td>0.0</td>\n",
       "      <td>...</td>\n",
       "      <td>102.00</td>\n",
       "      <td>99.00</td>\n",
       "      <td>90.14</td>\n",
       "      <td>93.71</td>\n",
       "      <td>93.43</td>\n",
       "      <td>0.0</td>\n",
       "      <td>AL</td>\n",
       "      <td>57645</td>\n",
       "      <td>4864680</td>\n",
       "      <td>0.011850</td>\n",
       "    </tr>\n",
       "  </tbody>\n",
       "</table>\n",
       "<p>5 rows × 382 columns</p>\n",
       "</div>"
      ],
      "text/plain": [
       "   fips_code  2020-01-22  2020-01-23  2020-01-24  2020-01-25  2020-01-26  \\\n",
       "0       1001         0.0         0.0         0.0         0.0         0.0   \n",
       "1       1003         0.0         0.0         0.0         0.0         0.0   \n",
       "2       1005         0.0         0.0         0.0         0.0         0.0   \n",
       "3       1007         0.0         0.0         0.0         0.0         0.0   \n",
       "4       1009         0.0         0.0         0.0         0.0         0.0   \n",
       "\n",
       "   2020-01-27  2020-01-28  2020-01-29  2020-01-30  ...  2021-01-27  \\\n",
       "0         0.0         0.0         0.0         0.0  ...      161.43   \n",
       "1         0.0         0.0         0.0         0.0  ...      530.71   \n",
       "2         0.0         0.0         0.0         0.0  ...       42.14   \n",
       "3         0.0         0.0         0.0         0.0  ...       58.00   \n",
       "4         0.0         0.0         0.0         0.0  ...      102.00   \n",
       "\n",
       "   2021-01-28  2021-01-29  2021-01-30  2021-01-31  2021-02-01  state  \\\n",
       "0      146.29      142.86      134.00      122.14         0.0     AL   \n",
       "1      491.43      452.29      447.29      441.14         0.0     AL   \n",
       "2       38.57       33.29       25.57       24.86         0.0     AL   \n",
       "3       52.86       46.86       44.00       38.57         0.0     AL   \n",
       "4       99.00       90.14       93.71       93.43         0.0     AL   \n",
       "\n",
       "   population  statePopulation  proportion  \n",
       "0       55200          4864680    0.011347  \n",
       "1      208107          4864680    0.042779  \n",
       "2       25782          4864680    0.005300  \n",
       "3       22527          4864680    0.004631  \n",
       "4       57645          4864680    0.011850  \n",
       "\n",
       "[5 rows x 382 columns]"
      ]
     },
     "execution_count": 45,
     "metadata": {},
     "output_type": "execute_result"
    }
   ],
   "source": [
    "test_results.head()"
   ]
  },
  {
   "cell_type": "code",
   "execution_count": 44,
   "metadata": {},
   "outputs": [],
   "source": [
    "test_results['proportion'] = test_results['population']/test_results['statePopulation']"
   ]
  },
  {
   "cell_type": "code",
   "execution_count": null,
   "metadata": {},
   "outputs": [],
   "source": [
    "[]"
   ]
  }
 ],
 "metadata": {
  "kernelspec": {
   "display_name": "Python 3",
   "language": "python",
   "name": "python3"
  },
  "language_info": {
   "codemirror_mode": {
    "name": "ipython",
    "version": 3
   },
   "file_extension": ".py",
   "mimetype": "text/x-python",
   "name": "python",
   "nbconvert_exporter": "python",
   "pygments_lexer": "ipython3",
   "version": "3.8.3"
  }
 },
 "nbformat": 4,
 "nbformat_minor": 4
}
