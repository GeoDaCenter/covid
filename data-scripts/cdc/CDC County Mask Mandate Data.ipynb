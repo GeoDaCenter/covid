{
 "cells": [
  {
   "cell_type": "code",
   "execution_count": 1,
   "metadata": {},
   "outputs": [],
   "source": [
    "import pandas as pd\n",
    "from glob import glob\n",
    "import json, requests\n",
    "import os"
   ]
  },
  {
   "cell_type": "code",
   "execution_count": 2,
   "metadata": {},
   "outputs": [],
   "source": [
    "repo_root = '../../'"
   ]
  },
  {
   "cell_type": "code",
   "execution_count": 3,
   "metadata": {},
   "outputs": [],
   "source": [
    "raw = pd.read_csv('https://data.cdc.gov/api/views/62d6-pm5i/rows.csv?accessType=DOWNLOAD')"
   ]
  },
  {
   "cell_type": "code",
   "execution_count": 4,
   "metadata": {},
   "outputs": [],
   "source": [
    "raw_update = pd.read_csv('https://data.cdc.gov/api/views/42jj-z7fa/rows.csv?accessType=DOWNLOAD')"
   ]
  },
  {
   "cell_type": "code",
   "execution_count": 5,
   "metadata": {},
   "outputs": [],
   "source": [
    "raw['date'] = pd.to_datetime(raw['date'])"
   ]
  },
  {
   "cell_type": "code",
   "execution_count": 6,
   "metadata": {},
   "outputs": [],
   "source": [
    "raw_update['Date'] = pd.to_datetime(raw_update['Date'])"
   ]
  },
  {
   "cell_type": "code",
   "execution_count": 7,
   "metadata": {},
   "outputs": [],
   "source": [
    "raw['COUNTYFP'] = raw['FIPS_County'].astype(str)\n",
    "raw['COUNTYFP'] = raw['COUNTYFP'].str.zfill(3)\n",
    "raw['STATEFP'] = raw['FIPS_State'].astype(str)\n",
    "raw['GEOID'] = raw['STATEFP'] + raw['COUNTYFP']"
   ]
  },
  {
   "cell_type": "code",
   "execution_count": 8,
   "metadata": {},
   "outputs": [],
   "source": [
    "raw_update['COUNTYFP'] = raw_update['FIPS_Code'].astype(str)\n",
    "raw_update['GEOID'] = raw_update['COUNTYFP'].str.zfill(5)"
   ]
  },
  {
   "cell_type": "code",
   "execution_count": 9,
   "metadata": {},
   "outputs": [],
   "source": [
    "raw['Face_Masks_Required_in_Public'] = raw['Face_Masks_Required_in_Public'].replace(\"Yes\", 1)\n",
    "raw['Face_Masks_Required_in_Public'] = raw['Face_Masks_Required_in_Public'].replace(\"No\", 0)\n",
    "raw['Face_Masks_Required_in_Public'] = raw['Face_Masks_Required_in_Public'].fillna(-1)"
   ]
  },
  {
   "cell_type": "code",
   "execution_count": 23,
   "metadata": {},
   "outputs": [
    {
     "name": "stdout",
     "output_type": "stream",
     "text": [
      " 1.0    734112\n",
      "-1.0    606314\n",
      " 0.0    253443\n",
      "Name: Face_Masks_Required_in_Public, dtype: int64\n"
     ]
    }
   ],
   "source": [
    "print(raw['Face_Masks_Required_in_Public'].value_counts())"
   ]
  },
  {
   "cell_type": "code",
   "execution_count": 10,
   "metadata": {},
   "outputs": [
    {
     "name": "stdout",
     "output_type": "stream",
     "text": [
      "2    2205136\n",
      "1     813119\n",
      "Name: Masks_Order_Code, dtype: int64\n"
     ]
    }
   ],
   "source": [
    "# frequency count of column A\n",
    "count = raw_update['Masks_Order_Code'].value_counts()\n",
    "print(count)"
   ]
  },
  {
   "cell_type": "code",
   "execution_count": 11,
   "metadata": {},
   "outputs": [],
   "source": [
    "raw_update['Masks_Order_Code'] = raw_update['Masks_Order_Code'].fillna(-1)"
   ]
  },
  {
   "cell_type": "code",
   "execution_count": 12,
   "metadata": {},
   "outputs": [
    {
     "name": "stdout",
     "output_type": "stream",
     "text": [
      "2    2205136\n",
      "1     813119\n",
      "Name: Masks_Order_Code, dtype: int64\n"
     ]
    }
   ],
   "source": [
    "# frequency count of column A\n",
    "count = raw_update['Masks_Order_Code'].value_counts()\n",
    "print(count)"
   ]
  },
  {
   "cell_type": "code",
   "execution_count": 22,
   "metadata": {},
   "outputs": [
    {
     "name": "stdout",
     "output_type": "stream",
     "text": [
      "No public mask mandate    981693\n",
      "Public mask mandate       813119\n",
      "Name: Face_Masks_Required_in_Public, dtype: int64\n"
     ]
    }
   ],
   "source": [
    "# frequency count of column A\n",
    "count2 = raw_update['Face_Masks_Required_in_Public'].value_counts()\n",
    "print(count2)"
   ]
  },
  {
   "cell_type": "code",
   "execution_count": 24,
   "metadata": {},
   "outputs": [],
   "source": [
    "raw_update['Face_Masks_Required_in_Public'] = raw_update['Face_Masks_Required_in_Public'].replace(\"Public mask mandate\", 1)\n",
    "raw_update['Face_Masks_Required_in_Public'] = raw_update['Face_Masks_Required_in_Public'].replace(\"No public mask mandate\", 0)\n",
    "raw_update['Face_Masks_Required_in_Public'] = raw_update['Face_Masks_Required_in_Public'].fillna(-1)"
   ]
  },
  {
   "cell_type": "code",
   "execution_count": 25,
   "metadata": {},
   "outputs": [
    {
     "name": "stdout",
     "output_type": "stream",
     "text": [
      "-1.0    1223443\n",
      " 0.0     981693\n",
      " 1.0     813119\n",
      "Name: Face_Masks_Required_in_Public, dtype: int64\n"
     ]
    }
   ],
   "source": [
    "# frequency count of column A\n",
    "print(raw_update['Face_Masks_Required_in_Public'].value_counts())"
   ]
  },
  {
   "cell_type": "code",
   "execution_count": 13,
   "metadata": {},
   "outputs": [],
   "source": [
    "wide = raw.pivot(index = 'GEOID', columns = 'date', values = \"Face_Masks_Required_in_Public\")"
   ]
  },
  {
   "cell_type": "code",
   "execution_count": 15,
   "metadata": {},
   "outputs": [
    {
     "data": {
      "text/html": [
       "<div>\n",
       "<style scoped>\n",
       "    .dataframe tbody tr th:only-of-type {\n",
       "        vertical-align: middle;\n",
       "    }\n",
       "\n",
       "    .dataframe tbody tr th {\n",
       "        vertical-align: top;\n",
       "    }\n",
       "\n",
       "    .dataframe thead th {\n",
       "        text-align: right;\n",
       "    }\n",
       "</style>\n",
       "<table border=\"1\" class=\"dataframe\">\n",
       "  <thead>\n",
       "    <tr style=\"text-align: right;\">\n",
       "      <th>date</th>\n",
       "      <th>2020-04-10</th>\n",
       "      <th>2020-04-11</th>\n",
       "      <th>2020-04-12</th>\n",
       "      <th>2020-04-13</th>\n",
       "      <th>2020-04-14</th>\n",
       "      <th>2020-04-15</th>\n",
       "      <th>2020-04-16</th>\n",
       "      <th>2020-04-17</th>\n",
       "      <th>2020-04-18</th>\n",
       "      <th>2020-04-19</th>\n",
       "      <th>...</th>\n",
       "      <th>2021-08-06</th>\n",
       "      <th>2021-08-07</th>\n",
       "      <th>2021-08-08</th>\n",
       "      <th>2021-08-09</th>\n",
       "      <th>2021-08-10</th>\n",
       "      <th>2021-08-11</th>\n",
       "      <th>2021-08-12</th>\n",
       "      <th>2021-08-13</th>\n",
       "      <th>2021-08-14</th>\n",
       "      <th>2021-08-15</th>\n",
       "    </tr>\n",
       "    <tr>\n",
       "      <th>GEOID</th>\n",
       "      <th></th>\n",
       "      <th></th>\n",
       "      <th></th>\n",
       "      <th></th>\n",
       "      <th></th>\n",
       "      <th></th>\n",
       "      <th></th>\n",
       "      <th></th>\n",
       "      <th></th>\n",
       "      <th></th>\n",
       "      <th></th>\n",
       "      <th></th>\n",
       "      <th></th>\n",
       "      <th></th>\n",
       "      <th></th>\n",
       "      <th></th>\n",
       "      <th></th>\n",
       "      <th></th>\n",
       "      <th></th>\n",
       "      <th></th>\n",
       "      <th></th>\n",
       "    </tr>\n",
       "  </thead>\n",
       "  <tbody>\n",
       "    <tr>\n",
       "      <th>10001</th>\n",
       "      <td>-1.0</td>\n",
       "      <td>-1.0</td>\n",
       "      <td>-1.0</td>\n",
       "      <td>-1.0</td>\n",
       "      <td>-1.0</td>\n",
       "      <td>-1.0</td>\n",
       "      <td>-1.0</td>\n",
       "      <td>-1.0</td>\n",
       "      <td>-1.0</td>\n",
       "      <td>-1.0</td>\n",
       "      <td>...</td>\n",
       "      <td>0.0</td>\n",
       "      <td>0.0</td>\n",
       "      <td>0.0</td>\n",
       "      <td>0.0</td>\n",
       "      <td>0.0</td>\n",
       "      <td>0.0</td>\n",
       "      <td>0.0</td>\n",
       "      <td>0.0</td>\n",
       "      <td>0.0</td>\n",
       "      <td>0.0</td>\n",
       "    </tr>\n",
       "    <tr>\n",
       "      <th>10003</th>\n",
       "      <td>-1.0</td>\n",
       "      <td>-1.0</td>\n",
       "      <td>-1.0</td>\n",
       "      <td>-1.0</td>\n",
       "      <td>-1.0</td>\n",
       "      <td>-1.0</td>\n",
       "      <td>-1.0</td>\n",
       "      <td>-1.0</td>\n",
       "      <td>-1.0</td>\n",
       "      <td>-1.0</td>\n",
       "      <td>...</td>\n",
       "      <td>0.0</td>\n",
       "      <td>0.0</td>\n",
       "      <td>0.0</td>\n",
       "      <td>0.0</td>\n",
       "      <td>0.0</td>\n",
       "      <td>0.0</td>\n",
       "      <td>0.0</td>\n",
       "      <td>0.0</td>\n",
       "      <td>0.0</td>\n",
       "      <td>0.0</td>\n",
       "    </tr>\n",
       "    <tr>\n",
       "      <th>10005</th>\n",
       "      <td>-1.0</td>\n",
       "      <td>-1.0</td>\n",
       "      <td>-1.0</td>\n",
       "      <td>-1.0</td>\n",
       "      <td>-1.0</td>\n",
       "      <td>-1.0</td>\n",
       "      <td>-1.0</td>\n",
       "      <td>-1.0</td>\n",
       "      <td>-1.0</td>\n",
       "      <td>-1.0</td>\n",
       "      <td>...</td>\n",
       "      <td>0.0</td>\n",
       "      <td>0.0</td>\n",
       "      <td>0.0</td>\n",
       "      <td>0.0</td>\n",
       "      <td>0.0</td>\n",
       "      <td>0.0</td>\n",
       "      <td>0.0</td>\n",
       "      <td>0.0</td>\n",
       "      <td>0.0</td>\n",
       "      <td>0.0</td>\n",
       "    </tr>\n",
       "    <tr>\n",
       "      <th>1001</th>\n",
       "      <td>-1.0</td>\n",
       "      <td>-1.0</td>\n",
       "      <td>-1.0</td>\n",
       "      <td>-1.0</td>\n",
       "      <td>-1.0</td>\n",
       "      <td>-1.0</td>\n",
       "      <td>-1.0</td>\n",
       "      <td>-1.0</td>\n",
       "      <td>-1.0</td>\n",
       "      <td>-1.0</td>\n",
       "      <td>...</td>\n",
       "      <td>-1.0</td>\n",
       "      <td>-1.0</td>\n",
       "      <td>-1.0</td>\n",
       "      <td>-1.0</td>\n",
       "      <td>-1.0</td>\n",
       "      <td>-1.0</td>\n",
       "      <td>-1.0</td>\n",
       "      <td>-1.0</td>\n",
       "      <td>-1.0</td>\n",
       "      <td>-1.0</td>\n",
       "    </tr>\n",
       "    <tr>\n",
       "      <th>1003</th>\n",
       "      <td>-1.0</td>\n",
       "      <td>-1.0</td>\n",
       "      <td>-1.0</td>\n",
       "      <td>-1.0</td>\n",
       "      <td>-1.0</td>\n",
       "      <td>-1.0</td>\n",
       "      <td>-1.0</td>\n",
       "      <td>-1.0</td>\n",
       "      <td>-1.0</td>\n",
       "      <td>-1.0</td>\n",
       "      <td>...</td>\n",
       "      <td>-1.0</td>\n",
       "      <td>-1.0</td>\n",
       "      <td>-1.0</td>\n",
       "      <td>-1.0</td>\n",
       "      <td>-1.0</td>\n",
       "      <td>-1.0</td>\n",
       "      <td>-1.0</td>\n",
       "      <td>-1.0</td>\n",
       "      <td>-1.0</td>\n",
       "      <td>-1.0</td>\n",
       "    </tr>\n",
       "  </tbody>\n",
       "</table>\n",
       "<p>5 rows × 493 columns</p>\n",
       "</div>"
      ],
      "text/plain": [
       "date   2020-04-10  2020-04-11  2020-04-12  2020-04-13  2020-04-14  2020-04-15  \\\n",
       "GEOID                                                                           \n",
       "10001        -1.0        -1.0        -1.0        -1.0        -1.0        -1.0   \n",
       "10003        -1.0        -1.0        -1.0        -1.0        -1.0        -1.0   \n",
       "10005        -1.0        -1.0        -1.0        -1.0        -1.0        -1.0   \n",
       "1001         -1.0        -1.0        -1.0        -1.0        -1.0        -1.0   \n",
       "1003         -1.0        -1.0        -1.0        -1.0        -1.0        -1.0   \n",
       "\n",
       "date   2020-04-16  2020-04-17  2020-04-18  2020-04-19  ...  2021-08-06  \\\n",
       "GEOID                                                  ...               \n",
       "10001        -1.0        -1.0        -1.0        -1.0  ...         0.0   \n",
       "10003        -1.0        -1.0        -1.0        -1.0  ...         0.0   \n",
       "10005        -1.0        -1.0        -1.0        -1.0  ...         0.0   \n",
       "1001         -1.0        -1.0        -1.0        -1.0  ...        -1.0   \n",
       "1003         -1.0        -1.0        -1.0        -1.0  ...        -1.0   \n",
       "\n",
       "date   2021-08-07  2021-08-08  2021-08-09  2021-08-10  2021-08-11  2021-08-12  \\\n",
       "GEOID                                                                           \n",
       "10001         0.0         0.0         0.0         0.0         0.0         0.0   \n",
       "10003         0.0         0.0         0.0         0.0         0.0         0.0   \n",
       "10005         0.0         0.0         0.0         0.0         0.0         0.0   \n",
       "1001         -1.0        -1.0        -1.0        -1.0        -1.0        -1.0   \n",
       "1003         -1.0        -1.0        -1.0        -1.0        -1.0        -1.0   \n",
       "\n",
       "date   2021-08-13  2021-08-14  2021-08-15  \n",
       "GEOID                                      \n",
       "10001         0.0         0.0         0.0  \n",
       "10003         0.0         0.0         0.0  \n",
       "10005         0.0         0.0         0.0  \n",
       "1001         -1.0        -1.0        -1.0  \n",
       "1003         -1.0        -1.0        -1.0  \n",
       "\n",
       "[5 rows x 493 columns]"
      ]
     },
     "execution_count": 15,
     "metadata": {},
     "output_type": "execute_result"
    }
   ],
   "source": [
    "wide.head()"
   ]
  },
  {
   "cell_type": "code",
   "execution_count": 16,
   "metadata": {},
   "outputs": [
    {
     "data": {
      "text/plain": [
       "(3233, 493)"
      ]
     },
     "execution_count": 16,
     "metadata": {},
     "output_type": "execute_result"
    }
   ],
   "source": [
    "wide.shape"
   ]
  },
  {
   "cell_type": "code",
   "execution_count": 26,
   "metadata": {},
   "outputs": [],
   "source": [
    "wide_update = raw_update.pivot(index = 'GEOID', columns = 'Date', values = \"Face_Masks_Required_in_Public\")"
   ]
  },
  {
   "cell_type": "code",
   "execution_count": 27,
   "metadata": {},
   "outputs": [
    {
     "data": {
      "text/html": [
       "<div>\n",
       "<style scoped>\n",
       "    .dataframe tbody tr th:only-of-type {\n",
       "        vertical-align: middle;\n",
       "    }\n",
       "\n",
       "    .dataframe tbody tr th {\n",
       "        vertical-align: top;\n",
       "    }\n",
       "\n",
       "    .dataframe thead th {\n",
       "        text-align: right;\n",
       "    }\n",
       "</style>\n",
       "<table border=\"1\" class=\"dataframe\">\n",
       "  <thead>\n",
       "    <tr style=\"text-align: right;\">\n",
       "      <th>Date</th>\n",
       "      <th>2020-03-11</th>\n",
       "      <th>2020-03-12</th>\n",
       "      <th>2020-03-13</th>\n",
       "      <th>2020-03-14</th>\n",
       "      <th>2020-03-15</th>\n",
       "      <th>2020-03-16</th>\n",
       "      <th>2020-03-17</th>\n",
       "      <th>2020-03-18</th>\n",
       "      <th>2020-03-19</th>\n",
       "      <th>2020-03-20</th>\n",
       "      <th>...</th>\n",
       "      <th>2022-09-20</th>\n",
       "      <th>2022-09-21</th>\n",
       "      <th>2022-09-22</th>\n",
       "      <th>2022-09-23</th>\n",
       "      <th>2022-09-24</th>\n",
       "      <th>2022-09-25</th>\n",
       "      <th>2022-09-26</th>\n",
       "      <th>2022-09-27</th>\n",
       "      <th>2022-09-28</th>\n",
       "      <th>2022-09-29</th>\n",
       "    </tr>\n",
       "    <tr>\n",
       "      <th>GEOID</th>\n",
       "      <th></th>\n",
       "      <th></th>\n",
       "      <th></th>\n",
       "      <th></th>\n",
       "      <th></th>\n",
       "      <th></th>\n",
       "      <th></th>\n",
       "      <th></th>\n",
       "      <th></th>\n",
       "      <th></th>\n",
       "      <th></th>\n",
       "      <th></th>\n",
       "      <th></th>\n",
       "      <th></th>\n",
       "      <th></th>\n",
       "      <th></th>\n",
       "      <th></th>\n",
       "      <th></th>\n",
       "      <th></th>\n",
       "      <th></th>\n",
       "      <th></th>\n",
       "    </tr>\n",
       "  </thead>\n",
       "  <tbody>\n",
       "    <tr>\n",
       "      <th>01001</th>\n",
       "      <td>-1.0</td>\n",
       "      <td>-1.0</td>\n",
       "      <td>-1.0</td>\n",
       "      <td>-1.0</td>\n",
       "      <td>-1.0</td>\n",
       "      <td>-1.0</td>\n",
       "      <td>-1.0</td>\n",
       "      <td>-1.0</td>\n",
       "      <td>-1.0</td>\n",
       "      <td>-1.0</td>\n",
       "      <td>...</td>\n",
       "      <td>-1.0</td>\n",
       "      <td>-1.0</td>\n",
       "      <td>-1.0</td>\n",
       "      <td>-1.0</td>\n",
       "      <td>-1.0</td>\n",
       "      <td>-1.0</td>\n",
       "      <td>-1.0</td>\n",
       "      <td>-1.0</td>\n",
       "      <td>-1.0</td>\n",
       "      <td>-1.0</td>\n",
       "    </tr>\n",
       "    <tr>\n",
       "      <th>01003</th>\n",
       "      <td>-1.0</td>\n",
       "      <td>-1.0</td>\n",
       "      <td>-1.0</td>\n",
       "      <td>-1.0</td>\n",
       "      <td>-1.0</td>\n",
       "      <td>-1.0</td>\n",
       "      <td>-1.0</td>\n",
       "      <td>-1.0</td>\n",
       "      <td>-1.0</td>\n",
       "      <td>-1.0</td>\n",
       "      <td>...</td>\n",
       "      <td>-1.0</td>\n",
       "      <td>-1.0</td>\n",
       "      <td>-1.0</td>\n",
       "      <td>-1.0</td>\n",
       "      <td>-1.0</td>\n",
       "      <td>-1.0</td>\n",
       "      <td>-1.0</td>\n",
       "      <td>-1.0</td>\n",
       "      <td>-1.0</td>\n",
       "      <td>-1.0</td>\n",
       "    </tr>\n",
       "    <tr>\n",
       "      <th>01005</th>\n",
       "      <td>-1.0</td>\n",
       "      <td>-1.0</td>\n",
       "      <td>-1.0</td>\n",
       "      <td>-1.0</td>\n",
       "      <td>-1.0</td>\n",
       "      <td>-1.0</td>\n",
       "      <td>-1.0</td>\n",
       "      <td>-1.0</td>\n",
       "      <td>-1.0</td>\n",
       "      <td>-1.0</td>\n",
       "      <td>...</td>\n",
       "      <td>-1.0</td>\n",
       "      <td>-1.0</td>\n",
       "      <td>-1.0</td>\n",
       "      <td>-1.0</td>\n",
       "      <td>-1.0</td>\n",
       "      <td>-1.0</td>\n",
       "      <td>-1.0</td>\n",
       "      <td>-1.0</td>\n",
       "      <td>-1.0</td>\n",
       "      <td>-1.0</td>\n",
       "    </tr>\n",
       "    <tr>\n",
       "      <th>01007</th>\n",
       "      <td>-1.0</td>\n",
       "      <td>-1.0</td>\n",
       "      <td>-1.0</td>\n",
       "      <td>-1.0</td>\n",
       "      <td>-1.0</td>\n",
       "      <td>-1.0</td>\n",
       "      <td>-1.0</td>\n",
       "      <td>-1.0</td>\n",
       "      <td>-1.0</td>\n",
       "      <td>-1.0</td>\n",
       "      <td>...</td>\n",
       "      <td>-1.0</td>\n",
       "      <td>-1.0</td>\n",
       "      <td>-1.0</td>\n",
       "      <td>-1.0</td>\n",
       "      <td>-1.0</td>\n",
       "      <td>-1.0</td>\n",
       "      <td>-1.0</td>\n",
       "      <td>-1.0</td>\n",
       "      <td>-1.0</td>\n",
       "      <td>-1.0</td>\n",
       "    </tr>\n",
       "    <tr>\n",
       "      <th>01009</th>\n",
       "      <td>-1.0</td>\n",
       "      <td>-1.0</td>\n",
       "      <td>-1.0</td>\n",
       "      <td>-1.0</td>\n",
       "      <td>-1.0</td>\n",
       "      <td>-1.0</td>\n",
       "      <td>-1.0</td>\n",
       "      <td>-1.0</td>\n",
       "      <td>-1.0</td>\n",
       "      <td>-1.0</td>\n",
       "      <td>...</td>\n",
       "      <td>-1.0</td>\n",
       "      <td>-1.0</td>\n",
       "      <td>-1.0</td>\n",
       "      <td>-1.0</td>\n",
       "      <td>-1.0</td>\n",
       "      <td>-1.0</td>\n",
       "      <td>-1.0</td>\n",
       "      <td>-1.0</td>\n",
       "      <td>-1.0</td>\n",
       "      <td>-1.0</td>\n",
       "    </tr>\n",
       "  </tbody>\n",
       "</table>\n",
       "<p>5 rows × 933 columns</p>\n",
       "</div>"
      ],
      "text/plain": [
       "Date   2020-03-11  2020-03-12  2020-03-13  2020-03-14  2020-03-15  2020-03-16  \\\n",
       "GEOID                                                                           \n",
       "01001        -1.0        -1.0        -1.0        -1.0        -1.0        -1.0   \n",
       "01003        -1.0        -1.0        -1.0        -1.0        -1.0        -1.0   \n",
       "01005        -1.0        -1.0        -1.0        -1.0        -1.0        -1.0   \n",
       "01007        -1.0        -1.0        -1.0        -1.0        -1.0        -1.0   \n",
       "01009        -1.0        -1.0        -1.0        -1.0        -1.0        -1.0   \n",
       "\n",
       "Date   2020-03-17  2020-03-18  2020-03-19  2020-03-20  ...  2022-09-20  \\\n",
       "GEOID                                                  ...               \n",
       "01001        -1.0        -1.0        -1.0        -1.0  ...        -1.0   \n",
       "01003        -1.0        -1.0        -1.0        -1.0  ...        -1.0   \n",
       "01005        -1.0        -1.0        -1.0        -1.0  ...        -1.0   \n",
       "01007        -1.0        -1.0        -1.0        -1.0  ...        -1.0   \n",
       "01009        -1.0        -1.0        -1.0        -1.0  ...        -1.0   \n",
       "\n",
       "Date   2022-09-21  2022-09-22  2022-09-23  2022-09-24  2022-09-25  2022-09-26  \\\n",
       "GEOID                                                                           \n",
       "01001        -1.0        -1.0        -1.0        -1.0        -1.0        -1.0   \n",
       "01003        -1.0        -1.0        -1.0        -1.0        -1.0        -1.0   \n",
       "01005        -1.0        -1.0        -1.0        -1.0        -1.0        -1.0   \n",
       "01007        -1.0        -1.0        -1.0        -1.0        -1.0        -1.0   \n",
       "01009        -1.0        -1.0        -1.0        -1.0        -1.0        -1.0   \n",
       "\n",
       "Date   2022-09-27  2022-09-28  2022-09-29  \n",
       "GEOID                                      \n",
       "01001        -1.0        -1.0        -1.0  \n",
       "01003        -1.0        -1.0        -1.0  \n",
       "01005        -1.0        -1.0        -1.0  \n",
       "01007        -1.0        -1.0        -1.0  \n",
       "01009        -1.0        -1.0        -1.0  \n",
       "\n",
       "[5 rows x 933 columns]"
      ]
     },
     "execution_count": 27,
     "metadata": {},
     "output_type": "execute_result"
    }
   ],
   "source": [
    "wide_update.head()"
   ]
  },
  {
   "cell_type": "code",
   "execution_count": 28,
   "metadata": {},
   "outputs": [
    {
     "data": {
      "text/plain": [
       "(3235, 933)"
      ]
     },
     "execution_count": 28,
     "metadata": {},
     "output_type": "execute_result"
    }
   ],
   "source": [
    "wide_update.shape"
   ]
  },
  {
   "cell_type": "code",
   "execution_count": 30,
   "metadata": {},
   "outputs": [],
   "source": [
    "wide_update.to_csv(os.path.join(repo_root, 'public/csv/mask_mandate_cdc_update.csv'))"
   ]
  },
  {
   "cell_type": "code",
   "execution_count": 68,
   "metadata": {},
   "outputs": [],
   "source": [
    "wide.to_csv(os.path.join(repo_root, 'public/csv/mask_mandate_cdc.csv'))"
   ]
  }
 ],
 "metadata": {
  "kernelspec": {
   "display_name": "Python 3 (ipykernel)",
   "language": "python",
   "name": "python3"
  },
  "language_info": {
   "codemirror_mode": {
    "name": "ipython",
    "version": 3
   },
   "file_extension": ".py",
   "mimetype": "text/x-python",
   "name": "python",
   "nbconvert_exporter": "python",
   "pygments_lexer": "ipython3",
   "version": "3.9.12"
  }
 },
 "nbformat": 4,
 "nbformat_minor": 4
}
