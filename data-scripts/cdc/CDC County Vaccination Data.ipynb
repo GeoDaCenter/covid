{
 "cells": [
  {
   "cell_type": "code",
   "execution_count": 30,
   "metadata": {},
   "outputs": [],
   "source": [
    "import pandas as pd\n",
    "from glob import glob\n",
    "import json, requests\n",
    "import os"
   ]
  },
  {
   "cell_type": "code",
   "execution_count": 31,
   "metadata": {},
   "outputs": [],
   "source": [
    "repo_root = '../../'"
   ]
  },
  {
   "cell_type": "code",
   "execution_count": 36,
   "metadata": {},
   "outputs": [],
   "source": [
    "def downloadCDCCountyVaccinationData():\n",
    "    raw = requests.get('https://covid.cdc.gov/covid-data-tracker/COVIDData/getAjaxData?id=vaccination_county_condensed_data')\n",
    "    loadedJson = raw.json()['vaccination_county_condensed_data']\n",
    "    vaccinationData = pd.DataFrame(loadedJson)\n",
    "    outputDate = loadedJson[0][\"Date\"].replace('/','-')\n",
    "    with open(os.path.join(repo_root, f'data-scripts/cdc/vaccination_county/vaccination_county_condensed_data_{outputDate}.json'), 'w') as outfile:\n",
    "        json.dump(loadedJson, outfile)\n",
    "\n",
    "    return glob(os.path.join(repo_root, 'data-scripts/cdc/vaccination_county/*.json'))"
   ]
  },
  {
   "cell_type": "code",
   "execution_count": 37,
   "metadata": {},
   "outputs": [],
   "source": [
    "def parseVaccinationData(vaccinationDataList):\n",
    "    for idx, file in enumerate(vaccinationDataList):\n",
    "        with open(file) as f:\n",
    "            data = json.load(f)\n",
    "            if (type(data)==dict):\n",
    "                data = data['vaccination_county_condensed_data']\n",
    "\n",
    "        # Pull report date from first row of data\n",
    "        currDate = data[0]['Date']\n",
    "        # Try to load in JSON to dataframe, pass iteration if fail\n",
    "\n",
    "        # on first iteration, define new data frames\n",
    "        # After that, define temporary dataframe sna dmerge below\n",
    "        if idx == 0:\n",
    "            vaccineAdministered2 = pd.DataFrame(data)[['FIPS','Series_Complete_Yes']]\n",
    "            vaccineAdministered2.columns = ['fips',currDate]\n",
    "\n",
    "        else:\n",
    "            dailyVaccineAdministered2 = pd.DataFrame(data)[['FIPS','Series_Complete_Yes']]\n",
    "            dailyVaccineAdministered2.columns = ['fips',currDate]\n",
    "\n",
    "            # Merge\n",
    "            vaccineAdministered2 = vaccineAdministered2.merge(dailyVaccineAdministered2, on=[\"fips\"])\n",
    "\n",
    "    return vaccineAdministered2"
   ]
  },
  {
   "cell_type": "code",
   "execution_count": 38,
   "metadata": {},
   "outputs": [],
   "source": [
    "currentFiles = downloadCDCVaccinationData()"
   ]
  },
  {
   "cell_type": "code",
   "execution_count": 41,
   "metadata": {},
   "outputs": [],
   "source": [
    "parsedDf = parseVaccinationData(currentFiles)\n",
    "parsedDf.to_csv(os.path.join(repo_root, 'public/csv/vaccine_fully_vaccinated_cdc.csv'),index=False)"
   ]
  },
  {
   "cell_type": "code",
   "execution_count": null,
   "metadata": {},
   "outputs": [],
   "source": []
  }
 ],
 "metadata": {
  "kernelspec": {
   "display_name": "Python 3",
   "language": "python",
   "name": "python3"
  },
  "language_info": {
   "codemirror_mode": {
    "name": "ipython",
    "version": 3
   },
   "file_extension": ".py",
   "mimetype": "text/x-python",
   "name": "python",
   "nbconvert_exporter": "python",
   "pygments_lexer": "ipython3",
   "version": "3.8.3"
  }
 },
 "nbformat": 4,
 "nbformat_minor": 4
}
