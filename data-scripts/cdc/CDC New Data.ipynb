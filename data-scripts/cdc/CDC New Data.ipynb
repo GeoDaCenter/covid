{
 "cells": [
  {
   "cell_type": "code",
   "execution_count": 48,
   "metadata": {},
   "outputs": [],
   "source": [
    "import pandas as pd\n",
    "from datetime import datetime, date, timedelta\n",
    "import requests\n",
    "from bs4 import BeautifulSoup\n",
    "import json"
   ]
  },
  {
   "cell_type": "code",
   "execution_count": 3,
   "metadata": {},
   "outputs": [],
   "source": [
    "URL = 'https://beta.healthdata.gov/National/COVID-19-Community-Profile-Report/gqxm-d9w9'\n",
    "page = requests.get(URL)"
   ]
  },
  {
   "cell_type": "code",
   "execution_count": 9,
   "metadata": {},
   "outputs": [],
   "source": [
    "soup = BeautifulSoup(page.content, 'html.parser')"
   ]
  },
  {
   "cell_type": "code",
   "execution_count": 72,
   "metadata": {},
   "outputs": [],
   "source": [
    "for a in soup.find_all('script'):\n",
    "    if 'initialState' in str(a):\n",
    "        linkBlock = str(a)[69:-17].split('},{')\n",
    "\n",
    "for link in linkBlock:\n",
    "    cleaned = link.split('\"href\":\"')[-1].split(',\"link\"')[0]\n",
    "    if ('Community_Profile_Report' in cleaned) and ('/api/views/' in cleaned) and ('Public.xlsx' in cleaned) and (len(cleaned) < 300):\n",
    "        print(cleaned)"
   ]
  },
  {
   "cell_type": "code",
   "execution_count": 77,
   "metadata": {},
   "outputs": [
    {
     "name": "stdout",
     "output_type": "stream",
     "text": [
      "/api/views/gqxm-d9w9/files/4de459d6-23d0-4691-8dd8-f2132ecebf47?download=true\\u0026filename=Community_Profile_Report 20201217_Public.xlsx\"\n",
      "/api/views/gqxm-d9w9/files/a7d95595-8db6-4360-b87a-e8879f4c112e?download=true\\u0026filename=Community_Profile_Report 20201218_Public.xlsx\"\n",
      "/api/views/gqxm-d9w9/files/df6ad32a-2fe8-4878-ae3d-a9d972c85ea8?download=true\\u0026filename=Community_Profile_Report 20201219_Public.xlsx\"\n",
      "/api/views/gqxm-d9w9/files/ca666bde-0e88-4753-a03c-e0f5132777a9?download=true\\u0026filename=Community_Profile_Report 20201220_Public.xlsx\"\n",
      "/api/views/gqxm-d9w9/files/32fec08a-14a6-47ce-a142-9cc20751d346?download=true\\u0026filename=Community_Profile_Report 20201221_Public.xlsx\"\n",
      "/api/views/gqxm-d9w9/files/f6a7c3b1-89ca-4255-8ea1-6b92e3e882f5?download=true\\u0026filename=Community_Profile_Report 20201222_Public.xlsx\"\n"
     ]
    }
   ],
   "source": []
  },
  {
   "cell_type": "code",
   "execution_count": 27,
   "metadata": {},
   "outputs": [
    {
     "data": {
      "text/plain": [
       "<script async=\"\" src=\"https://www.google.com/recaptcha/api.js?render=explicit\" type=\"text/javascript\"></script>"
      ]
     },
     "execution_count": 27,
     "metadata": {},
     "output_type": "execute_result"
    }
   ],
   "source": [
    "a"
   ]
  },
  {
   "cell_type": "code",
   "execution_count": 18,
   "metadata": {},
   "outputs": [
    {
     "data": {
      "text/plain": [
       "[]"
      ]
     },
     "execution_count": 18,
     "metadata": {},
     "output_type": "execute_result"
    }
   ],
   "source": [
    "mydivs"
   ]
  },
  {
   "cell_type": "code",
   "execution_count": 14,
   "metadata": {},
   "outputs": [],
   "source": [
    "results"
   ]
  },
  {
   "cell_type": "code",
   "execution_count": 254,
   "metadata": {},
   "outputs": [],
   "source": [
    "today = date.today() - timedelta(days=1)"
   ]
  },
  {
   "cell_type": "code",
   "execution_count": null,
   "metadata": {},
   "outputs": [],
   "source": []
  },
  {
   "cell_type": "code",
   "execution_count": 255,
   "metadata": {},
   "outputs": [],
   "source": [
    "raw = pd.read_excel(f\"https://beta.healthdata.gov/api/views/gqxm-d9w9/files/df6ad32a-2fe8-4878-ae3d-a9d972c85ea8?download=true&filename=Community_Profile_Report%{today.year}{today.month}{today.day}_Public.xlsx\", sheet_name=\"Counties\")"
   ]
  },
  {
   "cell_type": "code",
   "execution_count": 256,
   "metadata": {},
   "outputs": [],
   "source": [
    "endOfWeekCases = f\"{raw.columns[14].split('(')[-1].split(' ')[0]} {raw.columns[14].split('-')[-1][:-1]}\"\n",
    "endofWeekCases = datetime.strptime(endOfWeekCases, '%B %d')"
   ]
  },
  {
   "cell_type": "code",
   "execution_count": 257,
   "metadata": {},
   "outputs": [],
   "source": [
    "endOfWeekTesting = f\"{raw.columns[32].split('(')[-1].split(' ')[0]} {raw.columns[32].split('-')[-1][:-1]}\"\n",
    "endOfWeekTesting = datetime.strptime(endOfWeekTesting, '%B %d')"
   ]
  },
  {
   "cell_type": "code",
   "execution_count": 258,
   "metadata": {},
   "outputs": [],
   "source": [
    "endOfWeekForecasting = f\"{raw.columns[65].split('(')[-1].split(' ')[0]} {raw.columns[65].split(' ')[-1][:-1]}\"\n",
    "endOfWeekForecasting = datetime.strptime(endOfWeekForecasting, '%B %d')"
   ]
  },
  {
   "cell_type": "code",
   "execution_count": 259,
   "metadata": {},
   "outputs": [],
   "source": [
    "prevCases = pd.read_csv('./csv/covid_confirmed_cdc.csv')\n",
    "prevDeaths = pd.read_csv('./csv/covid_deaths_cdc.csv')\n",
    "prevTesting = pd.read_csv('./csv/covid_testing_cdc.csv')\n",
    "prevTestingPos = pd.read_csv('./csv/covid_wk_pos_cdc.csv')\n",
    "prevTestingCap = pd.read_csv('./csv/covid_tcap_cdc.csv')\n",
    "prevTestingCcpt = pd.read_csv('./csv/covid_ccpt_cdc.csv')"
   ]
  },
  {
   "cell_type": "code",
   "execution_count": 260,
   "metadata": {},
   "outputs": [],
   "source": [
    "raw.columns = list(raw.iloc[0])\n",
    "raw = raw.drop(index=0)"
   ]
  },
  {
   "cell_type": "code",
   "execution_count": 261,
   "metadata": {},
   "outputs": [],
   "source": [
    "cases = raw[['FIPS code', 'Cumulative cases']]\n",
    "cases.columns = ['FIPS', f\"{endofWeekCases.month}/{endofWeekCases.day}/{today.year}\"]\n",
    "\n",
    "deaths = raw[['FIPS code', 'Cumulative deaths']]\n",
    "deaths.columns = ['FIPS', f\"{endofWeekCases.month}/{endofWeekCases.day}/{today.year}\"]\n",
    "\n",
    "testingPos = raw[['FIPS code',  'Viral (RT-PCR) lab test positivity rate - last 7 days (may be an underestimate due to delayed reporting)']]\n",
    "testingPos.columns = ['FIPS', f\"{endOfWeekTesting.month}/{endOfWeekTesting.day}/{today.year}\"]\n",
    "\n",
    "testing = raw[['FIPS code', 'Total RT-PCR diagnostic tests - last 7 days (may be an underestimate due to delayed reporting)']]\n",
    "testing.columns = ['FIPS', f\"{endOfWeekTesting.month}/{endOfWeekTesting.day}/{today.year}\"]\n",
    "\n",
    "testingCap = raw[['FIPS code', 'RT-PCR tests per 100k - previous 7 days(may be an underestimate due to delayed reporting)']]\n",
    "testingCap.columns = ['FIPS', f\"{endOfWeekTesting.month}/{endOfWeekTesting.day}/{today.year}\"]\n",
    "\n",
    "testingCcpt = raw[['FIPS code', 'Cases - last 7 days', 'Total RT-PCR diagnostic tests - last 7 days (may be an underestimate due to delayed reporting)']]\n",
    "testingCcpt.columns = ['FIPS', 'Cases', 'Tests']"
   ]
  },
  {
   "cell_type": "code",
   "execution_count": 262,
   "metadata": {},
   "outputs": [
    {
     "name": "stderr",
     "output_type": "stream",
     "text": [
      "<ipython-input-262-c7f55a519674>:2: SettingWithCopyWarning: \n",
      "A value is trying to be set on a copy of a slice from a DataFrame.\n",
      "Try using .loc[row_indexer,col_indexer] = value instead\n",
      "\n",
      "See the caveats in the documentation: http://pandas.pydata.org/pandas-docs/stable/user_guide/indexing.html#returning-a-view-versus-a-copy\n",
      "  testingCcptFiltered['CCPT'] = testingCcptFiltered['Cases']/testingCcptFiltered['Tests']\n"
     ]
    }
   ],
   "source": [
    "testingCcptFiltered = testingCcpt.query('Tests > 0')\n",
    "testingCcptFiltered['CCPT'] = testingCcptFiltered['Cases']/testingCcptFiltered['Tests']\n",
    "\n",
    "testingCcpt = testingCcpt.merge(testingCcptFiltered, on=['FIPS','Cases','Tests'], how=\"left\")[['FIPS','CCPT']]\n",
    "testingCcpt.columns = ['FIPS', f\"{endOfWeekTesting.month}/{endOfWeekTesting.day}/{today.year}\"]"
   ]
  },
  {
   "cell_type": "code",
   "execution_count": 276,
   "metadata": {},
   "outputs": [],
   "source": [
    "if f\"{endofWeekCases.month}/{endofWeekCases.day}/{today.year}\" in prevCases.columns: \n",
    "    prevCases = prevCases.drop(columns=[f\"{endofWeekCases.month}/{endofWeekCases.day}/{today.year}\"])\n",
    "\n",
    "if f\"{endofWeekCases.month}/{endofWeekCases.day}/{today.year}\" in prevDeaths.columns: \n",
    "    prevDeaths = prevDeaths.drop(columns=[f\"{endofWeekCases.month}/{endofWeekCases.day}/{today.year}\"])\n",
    "\n",
    "if f\"{endOfWeekTesting.month}/{endOfWeekTesting.day}/{today.year}\" in prevTesting.columns: \n",
    "    prevTesting = prevTesting.drop(columns=[f\"{endOfWeekTesting.month}/{endOfWeekTesting.day}/{today.year}\"])\n",
    "    \n",
    "if f\"{endOfWeekTesting.month}/{endOfWeekTesting.day}/{today.year}\" in prevTestingPos.columns: \n",
    "    prevTestingPos = prevTestingPos.drop(columns=[f\"{endOfWeekTesting.month}/{endOfWeekTesting.day}/{today.year}\"])\n",
    "    \n",
    "if f\"{endOfWeekTesting.month}/{endOfWeekTesting.day}/{today.year}\" in testingCap.columns: \n",
    "    testingCap = testingCap.drop(columns=[f\"{endOfWeekTesting.month}/{endOfWeekTesting.day}/{today.year}\"])\n",
    "    \n",
    "if f\"{endOfWeekTesting.month}/{endOfWeekTesting.day}/{today.year}\" in testingCcpt.columns: \n",
    "    testingCcpt = testingCcpt.drop(columns=[f\"{endOfWeekTesting.month}/{endOfWeekTesting.day}/{today.year}\"])"
   ]
  },
  {
   "cell_type": "code",
   "execution_count": 277,
   "metadata": {},
   "outputs": [],
   "source": [
    "cases = prevCases.merge(cases, on=\"FIPS\", how=\"outer\")\n",
    "deaths = prevDeaths.merge(deaths, on=\"FIPS\", how=\"outer\")\n",
    "testing = prevTesting.merge(testing, on=\"FIPS\", how=\"outer\")\n",
    "testingPos = prevTestingPos.merge(testingPos, on=\"FIPS\", how=\"outer\")\n",
    "testingCap = prevTestingCap.merge(testingCap, on=\"FIPS\", how=\"outer\")\n",
    "testingCcpt = prevTestingCcpt.merge(testingCcpt, on=\"FIPS\", how=\"outer\")"
   ]
  },
  {
   "cell_type": "code",
   "execution_count": 278,
   "metadata": {},
   "outputs": [],
   "source": [
    "cases.to_csv('./csv/covid_confirmed_cdc.csv',index=False)\n",
    "deaths.to_csv('./csv/covid_deaths_cdc.csv',index=False)\n",
    "testingPos.to_csv('./csv/covid_wk_pos_cdc.csv',index=False)\n",
    "testing.to_csv('./csv/covid_testing_cdc.csv',index=False)\n",
    "testingCap.to_csv('./csv/covid_tcap_cdc.csv',index=False)\n",
    "testingCcpt.to_csv('./csv/covid_ccpt_cdc.csv',index=False)"
   ]
  },
  {
   "cell_type": "code",
   "execution_count": null,
   "metadata": {},
   "outputs": [],
   "source": []
  }
 ],
 "metadata": {
  "kernelspec": {
   "display_name": "Python 3",
   "language": "python",
   "name": "python3"
  },
  "language_info": {
   "codemirror_mode": {
    "name": "ipython",
    "version": 3
   },
   "file_extension": ".py",
   "mimetype": "text/x-python",
   "name": "python",
   "nbconvert_exporter": "python",
   "pygments_lexer": "ipython3",
   "version": "3.8.3"
  }
 },
 "nbformat": 4,
 "nbformat_minor": 4
}
