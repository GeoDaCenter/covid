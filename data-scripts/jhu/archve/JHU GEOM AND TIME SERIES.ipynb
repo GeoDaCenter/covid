{
 "cells": [
  {
   "cell_type": "code",
   "execution_count": 49,
   "metadata": {},
   "outputs": [],
   "source": [
    "import pandas as pd\n",
    "import geopandas as gpd"
   ]
  },
  {
   "cell_type": "code",
   "execution_count": 50,
   "metadata": {},
   "outputs": [],
   "source": [
    "globalData = pd.read_csv('https://raw.githubusercontent.com/CSSEGISandData/COVID-19/master/csse_covid_19_data/csse_covid_19_time_series/time_series_covid19_confirmed_global.csv')"
   ]
  },
  {
   "cell_type": "code",
   "execution_count": 51,
   "metadata": {},
   "outputs": [],
   "source": [
    "globalCountries = globalData[globalData['Province/State'].isnull()][['Country/Region','Province/State']]"
   ]
  },
  {
   "cell_type": "code",
   "execution_count": 52,
   "metadata": {},
   "outputs": [],
   "source": [
    "provinceCountries = ['Australia','Canada','China']"
   ]
  },
  {
   "cell_type": "code",
   "execution_count": 53,
   "metadata": {},
   "outputs": [],
   "source": [
    "globalProvinces = globalData[(globalData['Country/Region']=='Australia') | (globalData['Country/Region']=='Canada') | (globalData['Country/Region']=='China')][['Country/Region','Province/State']]"
   ]
  },
  {
   "cell_type": "code",
   "execution_count": 90,
   "metadata": {},
   "outputs": [],
   "source": [
    "usCounties = pd.read_csv('https://raw.githubusercontent.com/CSSEGISandData/COVID-19/master/csse_covid_19_data/csse_covid_19_time_series/time_series_covid19_confirmed_US.csv')[['UID','Country_Region','Province_State']]"
   ]
  },
  {
   "cell_type": "code",
   "execution_count": 91,
   "metadata": {},
   "outputs": [],
   "source": [
    "lookupTable = pd.read_csv('UID_ISO_FIPS_LookUp_Table.csv')"
   ]
  },
  {
   "cell_type": "code",
   "execution_count": 92,
   "metadata": {},
   "outputs": [
    {
     "data": {
      "text/html": [
       "<div>\n",
       "<style scoped>\n",
       "    .dataframe tbody tr th:only-of-type {\n",
       "        vertical-align: middle;\n",
       "    }\n",
       "\n",
       "    .dataframe tbody tr th {\n",
       "        vertical-align: top;\n",
       "    }\n",
       "\n",
       "    .dataframe thead th {\n",
       "        text-align: right;\n",
       "    }\n",
       "</style>\n",
       "<table border=\"1\" class=\"dataframe\">\n",
       "  <thead>\n",
       "    <tr style=\"text-align: right;\">\n",
       "      <th></th>\n",
       "      <th>UID</th>\n",
       "      <th>iso2</th>\n",
       "      <th>iso3</th>\n",
       "      <th>code3</th>\n",
       "      <th>FIPS</th>\n",
       "      <th>Admin2</th>\n",
       "      <th>Province_State</th>\n",
       "      <th>Country_Region</th>\n",
       "      <th>Lat</th>\n",
       "      <th>Long_</th>\n",
       "      <th>Combined_Key</th>\n",
       "      <th>Population</th>\n",
       "    </tr>\n",
       "  </thead>\n",
       "  <tbody>\n",
       "    <tr>\n",
       "      <th>0</th>\n",
       "      <td>4.0</td>\n",
       "      <td>AF</td>\n",
       "      <td>AFG</td>\n",
       "      <td>4.0</td>\n",
       "      <td>NaN</td>\n",
       "      <td>NaN</td>\n",
       "      <td>NaN</td>\n",
       "      <td>Afghanistan</td>\n",
       "      <td>33.93911</td>\n",
       "      <td>67.709953</td>\n",
       "      <td>Afghanistan</td>\n",
       "      <td>38928341.0</td>\n",
       "    </tr>\n",
       "    <tr>\n",
       "      <th>1</th>\n",
       "      <td>8.0</td>\n",
       "      <td>AL</td>\n",
       "      <td>ALB</td>\n",
       "      <td>8.0</td>\n",
       "      <td>NaN</td>\n",
       "      <td>NaN</td>\n",
       "      <td>NaN</td>\n",
       "      <td>Albania</td>\n",
       "      <td>41.15330</td>\n",
       "      <td>20.168300</td>\n",
       "      <td>Albania</td>\n",
       "      <td>2877800.0</td>\n",
       "    </tr>\n",
       "    <tr>\n",
       "      <th>2</th>\n",
       "      <td>12.0</td>\n",
       "      <td>DZ</td>\n",
       "      <td>DZA</td>\n",
       "      <td>12.0</td>\n",
       "      <td>NaN</td>\n",
       "      <td>NaN</td>\n",
       "      <td>NaN</td>\n",
       "      <td>Algeria</td>\n",
       "      <td>28.03390</td>\n",
       "      <td>1.659600</td>\n",
       "      <td>Algeria</td>\n",
       "      <td>43851043.0</td>\n",
       "    </tr>\n",
       "    <tr>\n",
       "      <th>3</th>\n",
       "      <td>20.0</td>\n",
       "      <td>AD</td>\n",
       "      <td>AND</td>\n",
       "      <td>20.0</td>\n",
       "      <td>NaN</td>\n",
       "      <td>NaN</td>\n",
       "      <td>NaN</td>\n",
       "      <td>Andorra</td>\n",
       "      <td>42.50630</td>\n",
       "      <td>1.521800</td>\n",
       "      <td>Andorra</td>\n",
       "      <td>77265.0</td>\n",
       "    </tr>\n",
       "    <tr>\n",
       "      <th>4</th>\n",
       "      <td>24.0</td>\n",
       "      <td>AO</td>\n",
       "      <td>AGO</td>\n",
       "      <td>24.0</td>\n",
       "      <td>NaN</td>\n",
       "      <td>NaN</td>\n",
       "      <td>NaN</td>\n",
       "      <td>Angola</td>\n",
       "      <td>-11.20270</td>\n",
       "      <td>17.873900</td>\n",
       "      <td>Angola</td>\n",
       "      <td>32866268.0</td>\n",
       "    </tr>\n",
       "  </tbody>\n",
       "</table>\n",
       "</div>"
      ],
      "text/plain": [
       "    UID iso2 iso3  code3  FIPS Admin2 Province_State Country_Region       Lat  \\\n",
       "0   4.0   AF  AFG    4.0   NaN    NaN            NaN    Afghanistan  33.93911   \n",
       "1   8.0   AL  ALB    8.0   NaN    NaN            NaN        Albania  41.15330   \n",
       "2  12.0   DZ  DZA   12.0   NaN    NaN            NaN        Algeria  28.03390   \n",
       "3  20.0   AD  AND   20.0   NaN    NaN            NaN        Andorra  42.50630   \n",
       "4  24.0   AO  AGO   24.0   NaN    NaN            NaN         Angola -11.20270   \n",
       "\n",
       "       Long_ Combined_Key  Population  \n",
       "0  67.709953  Afghanistan  38928341.0  \n",
       "1  20.168300      Albania   2877800.0  \n",
       "2   1.659600      Algeria  43851043.0  \n",
       "3   1.521800      Andorra     77265.0  \n",
       "4  17.873900       Angola  32866268.0  "
      ]
     },
     "execution_count": 92,
     "metadata": {},
     "output_type": "execute_result"
    }
   ],
   "source": [
    "lookupTable.head()"
   ]
  },
  {
   "cell_type": "code",
   "execution_count": 57,
   "metadata": {},
   "outputs": [],
   "source": [
    "globalCountries = globalCountries.merge(lookupTable, left_on=[\"Country/Region\",\"Province/State\"], right_on=[\"Country_Region\",\"Province_State\"], how=\"left\")[['Country/Region','Province/State','UID','iso2','iso3', 'Combined_Key', 'Population']]\n",
    "globalProvinces = globalProvinces.merge(lookupTable, left_on=[\"Country/Region\",\"Province/State\"], right_on=[\"Country_Region\",\"Province_State\"], how=\"left\")[['Country/Region','Province/State','UID','iso2','iso3', 'Combined_Key', 'Population']]"
   ]
  },
  {
   "cell_type": "code",
   "execution_count": 95,
   "metadata": {},
   "outputs": [],
   "source": [
    "usCounties = usData.merge(lookupTable, on=\"UID\", how=\"left\")[['Country_Region_x','Province_State_x','UID','iso2','iso3','FIPS','Combined_Key', 'Population']]"
   ]
  },
  {
   "cell_type": "code",
   "execution_count": 96,
   "metadata": {},
   "outputs": [
    {
     "data": {
      "text/html": [
       "<div>\n",
       "<style scoped>\n",
       "    .dataframe tbody tr th:only-of-type {\n",
       "        vertical-align: middle;\n",
       "    }\n",
       "\n",
       "    .dataframe tbody tr th {\n",
       "        vertical-align: top;\n",
       "    }\n",
       "\n",
       "    .dataframe thead th {\n",
       "        text-align: right;\n",
       "    }\n",
       "</style>\n",
       "<table border=\"1\" class=\"dataframe\">\n",
       "  <thead>\n",
       "    <tr style=\"text-align: right;\">\n",
       "      <th></th>\n",
       "      <th>Country_Region_x</th>\n",
       "      <th>Province_State_x</th>\n",
       "      <th>UID</th>\n",
       "      <th>iso2</th>\n",
       "      <th>iso3</th>\n",
       "      <th>FIPS</th>\n",
       "      <th>Combined_Key</th>\n",
       "      <th>Population</th>\n",
       "    </tr>\n",
       "  </thead>\n",
       "  <tbody>\n",
       "    <tr>\n",
       "      <th>0</th>\n",
       "      <td>US</td>\n",
       "      <td>Alabama</td>\n",
       "      <td>84001001</td>\n",
       "      <td>US</td>\n",
       "      <td>USA</td>\n",
       "      <td>1001.0</td>\n",
       "      <td>Autauga, Alabama, US</td>\n",
       "      <td>55869.0</td>\n",
       "    </tr>\n",
       "    <tr>\n",
       "      <th>1</th>\n",
       "      <td>US</td>\n",
       "      <td>Alabama</td>\n",
       "      <td>84001003</td>\n",
       "      <td>US</td>\n",
       "      <td>USA</td>\n",
       "      <td>1003.0</td>\n",
       "      <td>Baldwin, Alabama, US</td>\n",
       "      <td>223234.0</td>\n",
       "    </tr>\n",
       "    <tr>\n",
       "      <th>2</th>\n",
       "      <td>US</td>\n",
       "      <td>Alabama</td>\n",
       "      <td>84001005</td>\n",
       "      <td>US</td>\n",
       "      <td>USA</td>\n",
       "      <td>1005.0</td>\n",
       "      <td>Barbour, Alabama, US</td>\n",
       "      <td>24686.0</td>\n",
       "    </tr>\n",
       "    <tr>\n",
       "      <th>3</th>\n",
       "      <td>US</td>\n",
       "      <td>Alabama</td>\n",
       "      <td>84001007</td>\n",
       "      <td>US</td>\n",
       "      <td>USA</td>\n",
       "      <td>1007.0</td>\n",
       "      <td>Bibb, Alabama, US</td>\n",
       "      <td>22394.0</td>\n",
       "    </tr>\n",
       "    <tr>\n",
       "      <th>4</th>\n",
       "      <td>US</td>\n",
       "      <td>Alabama</td>\n",
       "      <td>84001009</td>\n",
       "      <td>US</td>\n",
       "      <td>USA</td>\n",
       "      <td>1009.0</td>\n",
       "      <td>Blount, Alabama, US</td>\n",
       "      <td>57826.0</td>\n",
       "    </tr>\n",
       "  </tbody>\n",
       "</table>\n",
       "</div>"
      ],
      "text/plain": [
       "  Country_Region_x Province_State_x       UID iso2 iso3    FIPS  \\\n",
       "0               US          Alabama  84001001   US  USA  1001.0   \n",
       "1               US          Alabama  84001003   US  USA  1003.0   \n",
       "2               US          Alabama  84001005   US  USA  1005.0   \n",
       "3               US          Alabama  84001007   US  USA  1007.0   \n",
       "4               US          Alabama  84001009   US  USA  1009.0   \n",
       "\n",
       "           Combined_Key  Population  \n",
       "0  Autauga, Alabama, US     55869.0  \n",
       "1  Baldwin, Alabama, US    223234.0  \n",
       "2  Barbour, Alabama, US     24686.0  \n",
       "3     Bibb, Alabama, US     22394.0  \n",
       "4   Blount, Alabama, US     57826.0  "
      ]
     },
     "execution_count": 96,
     "metadata": {},
     "output_type": "execute_result"
    }
   ],
   "source": [
    "usCounties.head()"
   ]
  },
  {
   "cell_type": "code",
   "execution_count": 65,
   "metadata": {},
   "outputs": [],
   "source": [
    "countries = gpd.read_file('./countries.geojson')[['ISO_A3','geometry']]"
   ]
  },
  {
   "cell_type": "code",
   "execution_count": 66,
   "metadata": {},
   "outputs": [],
   "source": [
    "globalCountries = globalCountries.merge(countries, left_on=\"iso3\", right_on=\"ISO_A3\", how=\"left\")"
   ]
  },
  {
   "cell_type": "code",
   "execution_count": 69,
   "metadata": {},
   "outputs": [],
   "source": [
    "globalCountries = globalCountries[['Country/Region', 'Province/State', 'UID', 'iso2', 'iso3',\n",
    "       'Combined_Key', 'Population', 'geometry']]"
   ]
  },
  {
   "cell_type": "code",
   "execution_count": 83,
   "metadata": {},
   "outputs": [],
   "source": [
    "provinces = gpd.read_file('./jhu_world.geojson')"
   ]
  },
  {
   "cell_type": "code",
   "execution_count": 84,
   "metadata": {},
   "outputs": [],
   "source": [
    "globalProvinces = globalProvinces.merge(provinces, left_on=\"Combined_Key\", right_on=\"Combined_Key\", how=\"left\")"
   ]
  },
  {
   "cell_type": "code",
   "execution_count": 86,
   "metadata": {},
   "outputs": [],
   "source": [
    "globalProvinces = globalProvinces[['Country/Region', 'Province/State', 'UID_x', 'iso2_x', 'iso3_x',\n",
    "       'Combined_Key', 'Population_x', 'geometry_y']]\n",
    "globalProvinces.columns = globalCountries.columns"
   ]
  },
  {
   "cell_type": "code",
   "execution_count": 88,
   "metadata": {},
   "outputs": [
    {
     "data": {
      "text/html": [
       "<div>\n",
       "<style scoped>\n",
       "    .dataframe tbody tr th:only-of-type {\n",
       "        vertical-align: middle;\n",
       "    }\n",
       "\n",
       "    .dataframe tbody tr th {\n",
       "        vertical-align: top;\n",
       "    }\n",
       "\n",
       "    .dataframe thead th {\n",
       "        text-align: right;\n",
       "    }\n",
       "</style>\n",
       "<table border=\"1\" class=\"dataframe\">\n",
       "  <thead>\n",
       "    <tr style=\"text-align: right;\">\n",
       "      <th></th>\n",
       "      <th>Country/Region</th>\n",
       "      <th>Province/State</th>\n",
       "      <th>UID</th>\n",
       "      <th>iso2</th>\n",
       "      <th>iso3</th>\n",
       "      <th>Combined_Key</th>\n",
       "      <th>Population</th>\n",
       "      <th>geometry</th>\n",
       "    </tr>\n",
       "  </thead>\n",
       "  <tbody>\n",
       "    <tr>\n",
       "      <th>0</th>\n",
       "      <td>Afghanistan</td>\n",
       "      <td>NaN</td>\n",
       "      <td>4.0</td>\n",
       "      <td>AF</td>\n",
       "      <td>AFG</td>\n",
       "      <td>Afghanistan</td>\n",
       "      <td>38928341.0</td>\n",
       "      <td>MULTIPOLYGON (((71.04980 38.40866, 71.05714 38...</td>\n",
       "    </tr>\n",
       "    <tr>\n",
       "      <th>1</th>\n",
       "      <td>Albania</td>\n",
       "      <td>NaN</td>\n",
       "      <td>8.0</td>\n",
       "      <td>AL</td>\n",
       "      <td>ALB</td>\n",
       "      <td>Albania</td>\n",
       "      <td>2877800.0</td>\n",
       "      <td>MULTIPOLYGON (((19.74777 42.57890, 19.74601 42...</td>\n",
       "    </tr>\n",
       "    <tr>\n",
       "      <th>2</th>\n",
       "      <td>Algeria</td>\n",
       "      <td>NaN</td>\n",
       "      <td>12.0</td>\n",
       "      <td>DZ</td>\n",
       "      <td>DZA</td>\n",
       "      <td>Algeria</td>\n",
       "      <td>43851043.0</td>\n",
       "      <td>MULTIPOLYGON (((8.60251 36.93951, 8.60566 36.9...</td>\n",
       "    </tr>\n",
       "    <tr>\n",
       "      <th>3</th>\n",
       "      <td>Andorra</td>\n",
       "      <td>NaN</td>\n",
       "      <td>20.0</td>\n",
       "      <td>AD</td>\n",
       "      <td>AND</td>\n",
       "      <td>Andorra</td>\n",
       "      <td>77265.0</td>\n",
       "      <td>MULTIPOLYGON (((1.70701 42.50278, 1.69750 42.4...</td>\n",
       "    </tr>\n",
       "    <tr>\n",
       "      <th>4</th>\n",
       "      <td>Angola</td>\n",
       "      <td>NaN</td>\n",
       "      <td>24.0</td>\n",
       "      <td>AO</td>\n",
       "      <td>AGO</td>\n",
       "      <td>Angola</td>\n",
       "      <td>32866268.0</td>\n",
       "      <td>MULTIPOLYGON (((11.73752 -16.69258, 11.73851 -...</td>\n",
       "    </tr>\n",
       "  </tbody>\n",
       "</table>\n",
       "</div>"
      ],
      "text/plain": [
       "  Country/Region Province/State   UID iso2 iso3 Combined_Key  Population  \\\n",
       "0    Afghanistan            NaN   4.0   AF  AFG  Afghanistan  38928341.0   \n",
       "1        Albania            NaN   8.0   AL  ALB      Albania   2877800.0   \n",
       "2        Algeria            NaN  12.0   DZ  DZA      Algeria  43851043.0   \n",
       "3        Andorra            NaN  20.0   AD  AND      Andorra     77265.0   \n",
       "4         Angola            NaN  24.0   AO  AGO       Angola  32866268.0   \n",
       "\n",
       "                                            geometry  \n",
       "0  MULTIPOLYGON (((71.04980 38.40866, 71.05714 38...  \n",
       "1  MULTIPOLYGON (((19.74777 42.57890, 19.74601 42...  \n",
       "2  MULTIPOLYGON (((8.60251 36.93951, 8.60566 36.9...  \n",
       "3  MULTIPOLYGON (((1.70701 42.50278, 1.69750 42.4...  \n",
       "4  MULTIPOLYGON (((11.73752 -16.69258, 11.73851 -...  "
      ]
     },
     "execution_count": 88,
     "metadata": {},
     "output_type": "execute_result"
    }
   ],
   "source": [
    "globalCountries.head()"
   ]
  },
  {
   "cell_type": "code",
   "execution_count": 87,
   "metadata": {},
   "outputs": [
    {
     "data": {
      "text/html": [
       "<div>\n",
       "<style scoped>\n",
       "    .dataframe tbody tr th:only-of-type {\n",
       "        vertical-align: middle;\n",
       "    }\n",
       "\n",
       "    .dataframe tbody tr th {\n",
       "        vertical-align: top;\n",
       "    }\n",
       "\n",
       "    .dataframe thead th {\n",
       "        text-align: right;\n",
       "    }\n",
       "</style>\n",
       "<table border=\"1\" class=\"dataframe\">\n",
       "  <thead>\n",
       "    <tr style=\"text-align: right;\">\n",
       "      <th></th>\n",
       "      <th>Country/Region</th>\n",
       "      <th>Province/State</th>\n",
       "      <th>UID</th>\n",
       "      <th>iso2</th>\n",
       "      <th>iso3</th>\n",
       "      <th>Combined_Key</th>\n",
       "      <th>Population</th>\n",
       "      <th>geometry</th>\n",
       "    </tr>\n",
       "  </thead>\n",
       "  <tbody>\n",
       "    <tr>\n",
       "      <th>0</th>\n",
       "      <td>Australia</td>\n",
       "      <td>Australian Capital Territory</td>\n",
       "      <td>3601</td>\n",
       "      <td>AU</td>\n",
       "      <td>AUS</td>\n",
       "      <td>Australian Capital Territory, Australia</td>\n",
       "      <td>428100.0</td>\n",
       "      <td>POLYGON ((149.12686 -35.12815, 148.80891 -35.3...</td>\n",
       "    </tr>\n",
       "    <tr>\n",
       "      <th>1</th>\n",
       "      <td>Australia</td>\n",
       "      <td>New South Wales</td>\n",
       "      <td>3602</td>\n",
       "      <td>AU</td>\n",
       "      <td>AUS</td>\n",
       "      <td>New South Wales, Australia</td>\n",
       "      <td>8118000.0</td>\n",
       "      <td>POLYGON ((153.54727 -28.17179, 153.48489 -28.1...</td>\n",
       "    </tr>\n",
       "    <tr>\n",
       "      <th>2</th>\n",
       "      <td>Australia</td>\n",
       "      <td>Northern Territory</td>\n",
       "      <td>3603</td>\n",
       "      <td>AU</td>\n",
       "      <td>AUS</td>\n",
       "      <td>Northern Territory, Australia</td>\n",
       "      <td>245600.0</td>\n",
       "      <td>MULTIPOLYGON (((136.99750 -15.58597, 136.93527...</td>\n",
       "    </tr>\n",
       "    <tr>\n",
       "      <th>3</th>\n",
       "      <td>Australia</td>\n",
       "      <td>Queensland</td>\n",
       "      <td>3604</td>\n",
       "      <td>AU</td>\n",
       "      <td>AUS</td>\n",
       "      <td>Queensland, Australia</td>\n",
       "      <td>5115500.0</td>\n",
       "      <td>MULTIPOLYGON (((153.45416 -27.38806, 153.41222...</td>\n",
       "    </tr>\n",
       "    <tr>\n",
       "      <th>4</th>\n",
       "      <td>Australia</td>\n",
       "      <td>South Australia</td>\n",
       "      <td>3605</td>\n",
       "      <td>AU</td>\n",
       "      <td>AUS</td>\n",
       "      <td>South Australia, Australia</td>\n",
       "      <td>1756500.0</td>\n",
       "      <td>MULTIPOLYGON (((137.63019 -35.56408, 137.44676...</td>\n",
       "    </tr>\n",
       "  </tbody>\n",
       "</table>\n",
       "</div>"
      ],
      "text/plain": [
       "  Country/Region                Province/State   UID iso2 iso3  \\\n",
       "0      Australia  Australian Capital Territory  3601   AU  AUS   \n",
       "1      Australia               New South Wales  3602   AU  AUS   \n",
       "2      Australia            Northern Territory  3603   AU  AUS   \n",
       "3      Australia                    Queensland  3604   AU  AUS   \n",
       "4      Australia               South Australia  3605   AU  AUS   \n",
       "\n",
       "                              Combined_Key  Population  \\\n",
       "0  Australian Capital Territory, Australia    428100.0   \n",
       "1               New South Wales, Australia   8118000.0   \n",
       "2            Northern Territory, Australia    245600.0   \n",
       "3                    Queensland, Australia   5115500.0   \n",
       "4               South Australia, Australia   1756500.0   \n",
       "\n",
       "                                            geometry  \n",
       "0  POLYGON ((149.12686 -35.12815, 148.80891 -35.3...  \n",
       "1  POLYGON ((153.54727 -28.17179, 153.48489 -28.1...  \n",
       "2  MULTIPOLYGON (((136.99750 -15.58597, 136.93527...  \n",
       "3  MULTIPOLYGON (((153.45416 -27.38806, 153.41222...  \n",
       "4  MULTIPOLYGON (((137.63019 -35.56408, 137.44676...  "
      ]
     },
     "execution_count": 87,
     "metadata": {},
     "output_type": "execute_result"
    }
   ],
   "source": [
    "globalProvinces.head()"
   ]
  },
  {
   "cell_type": "code",
   "execution_count": 89,
   "metadata": {},
   "outputs": [
    {
     "data": {
      "text/html": [
       "<div>\n",
       "<style scoped>\n",
       "    .dataframe tbody tr th:only-of-type {\n",
       "        vertical-align: middle;\n",
       "    }\n",
       "\n",
       "    .dataframe tbody tr th {\n",
       "        vertical-align: top;\n",
       "    }\n",
       "\n",
       "    .dataframe thead th {\n",
       "        text-align: right;\n",
       "    }\n",
       "</style>\n",
       "<table border=\"1\" class=\"dataframe\">\n",
       "  <thead>\n",
       "    <tr style=\"text-align: right;\">\n",
       "      <th></th>\n",
       "      <th>Country/Region</th>\n",
       "      <th>Province/State</th>\n",
       "      <th>UID</th>\n",
       "      <th>iso2</th>\n",
       "      <th>iso3</th>\n",
       "      <th>Combined_Key</th>\n",
       "      <th>Population</th>\n",
       "    </tr>\n",
       "  </thead>\n",
       "  <tbody>\n",
       "    <tr>\n",
       "      <th>0</th>\n",
       "      <td>US</td>\n",
       "      <td>Alabama</td>\n",
       "      <td>84001001</td>\n",
       "      <td>US</td>\n",
       "      <td>USA</td>\n",
       "      <td>Autauga, Alabama, US</td>\n",
       "      <td>55869.0</td>\n",
       "    </tr>\n",
       "    <tr>\n",
       "      <th>1</th>\n",
       "      <td>US</td>\n",
       "      <td>Alabama</td>\n",
       "      <td>84001003</td>\n",
       "      <td>US</td>\n",
       "      <td>USA</td>\n",
       "      <td>Baldwin, Alabama, US</td>\n",
       "      <td>223234.0</td>\n",
       "    </tr>\n",
       "    <tr>\n",
       "      <th>2</th>\n",
       "      <td>US</td>\n",
       "      <td>Alabama</td>\n",
       "      <td>84001005</td>\n",
       "      <td>US</td>\n",
       "      <td>USA</td>\n",
       "      <td>Barbour, Alabama, US</td>\n",
       "      <td>24686.0</td>\n",
       "    </tr>\n",
       "    <tr>\n",
       "      <th>3</th>\n",
       "      <td>US</td>\n",
       "      <td>Alabama</td>\n",
       "      <td>84001007</td>\n",
       "      <td>US</td>\n",
       "      <td>USA</td>\n",
       "      <td>Bibb, Alabama, US</td>\n",
       "      <td>22394.0</td>\n",
       "    </tr>\n",
       "    <tr>\n",
       "      <th>4</th>\n",
       "      <td>US</td>\n",
       "      <td>Alabama</td>\n",
       "      <td>84001009</td>\n",
       "      <td>US</td>\n",
       "      <td>USA</td>\n",
       "      <td>Blount, Alabama, US</td>\n",
       "      <td>57826.0</td>\n",
       "    </tr>\n",
       "    <tr>\n",
       "      <th>...</th>\n",
       "      <td>...</td>\n",
       "      <td>...</td>\n",
       "      <td>...</td>\n",
       "      <td>...</td>\n",
       "      <td>...</td>\n",
       "      <td>...</td>\n",
       "      <td>...</td>\n",
       "    </tr>\n",
       "    <tr>\n",
       "      <th>3335</th>\n",
       "      <td>US</td>\n",
       "      <td>Wyoming</td>\n",
       "      <td>84056039</td>\n",
       "      <td>US</td>\n",
       "      <td>USA</td>\n",
       "      <td>Teton, Wyoming, US</td>\n",
       "      <td>23464.0</td>\n",
       "    </tr>\n",
       "    <tr>\n",
       "      <th>3336</th>\n",
       "      <td>US</td>\n",
       "      <td>Wyoming</td>\n",
       "      <td>84056041</td>\n",
       "      <td>US</td>\n",
       "      <td>USA</td>\n",
       "      <td>Uinta, Wyoming, US</td>\n",
       "      <td>20226.0</td>\n",
       "    </tr>\n",
       "    <tr>\n",
       "      <th>3337</th>\n",
       "      <td>US</td>\n",
       "      <td>Wyoming</td>\n",
       "      <td>84090056</td>\n",
       "      <td>US</td>\n",
       "      <td>USA</td>\n",
       "      <td>Unassigned, Wyoming, US</td>\n",
       "      <td>NaN</td>\n",
       "    </tr>\n",
       "    <tr>\n",
       "      <th>3338</th>\n",
       "      <td>US</td>\n",
       "      <td>Wyoming</td>\n",
       "      <td>84056043</td>\n",
       "      <td>US</td>\n",
       "      <td>USA</td>\n",
       "      <td>Washakie, Wyoming, US</td>\n",
       "      <td>7805.0</td>\n",
       "    </tr>\n",
       "    <tr>\n",
       "      <th>3339</th>\n",
       "      <td>US</td>\n",
       "      <td>Wyoming</td>\n",
       "      <td>84056045</td>\n",
       "      <td>US</td>\n",
       "      <td>USA</td>\n",
       "      <td>Weston, Wyoming, US</td>\n",
       "      <td>6927.0</td>\n",
       "    </tr>\n",
       "  </tbody>\n",
       "</table>\n",
       "<p>3340 rows × 7 columns</p>\n",
       "</div>"
      ],
      "text/plain": [
       "     Country/Region Province/State       UID iso2 iso3  \\\n",
       "0                US        Alabama  84001001   US  USA   \n",
       "1                US        Alabama  84001003   US  USA   \n",
       "2                US        Alabama  84001005   US  USA   \n",
       "3                US        Alabama  84001007   US  USA   \n",
       "4                US        Alabama  84001009   US  USA   \n",
       "...             ...            ...       ...  ...  ...   \n",
       "3335             US        Wyoming  84056039   US  USA   \n",
       "3336             US        Wyoming  84056041   US  USA   \n",
       "3337             US        Wyoming  84090056   US  USA   \n",
       "3338             US        Wyoming  84056043   US  USA   \n",
       "3339             US        Wyoming  84056045   US  USA   \n",
       "\n",
       "                 Combined_Key  Population  \n",
       "0        Autauga, Alabama, US     55869.0  \n",
       "1        Baldwin, Alabama, US    223234.0  \n",
       "2        Barbour, Alabama, US     24686.0  \n",
       "3           Bibb, Alabama, US     22394.0  \n",
       "4         Blount, Alabama, US     57826.0  \n",
       "...                       ...         ...  \n",
       "3335       Teton, Wyoming, US     23464.0  \n",
       "3336       Uinta, Wyoming, US     20226.0  \n",
       "3337  Unassigned, Wyoming, US         NaN  \n",
       "3338    Washakie, Wyoming, US      7805.0  \n",
       "3339      Weston, Wyoming, US      6927.0  \n",
       "\n",
       "[3340 rows x 7 columns]"
      ]
     },
     "execution_count": 89,
     "metadata": {},
     "output_type": "execute_result"
    }
   ],
   "source": [
    "usCounties"
   ]
  },
  {
   "cell_type": "code",
   "execution_count": 97,
   "metadata": {},
   "outputs": [],
   "source": [
    "countiesGeom = gpd.read_file('./cb_2018_us_county_20m/cb_2018_us_county_20m.shp')"
   ]
  },
  {
   "cell_type": "code",
   "execution_count": 109,
   "metadata": {},
   "outputs": [],
   "source": [
    "usCounties = usCounties[usCounties['FIPS'].notnull()]"
   ]
  },
  {
   "cell_type": "code",
   "execution_count": 110,
   "metadata": {},
   "outputs": [
    {
     "name": "stderr",
     "output_type": "stream",
     "text": [
      "<ipython-input-110-51a315040906>:1: SettingWithCopyWarning: \n",
      "A value is trying to be set on a copy of a slice from a DataFrame.\n",
      "Try using .loc[row_indexer,col_indexer] = value instead\n",
      "\n",
      "See the caveats in the documentation: http://pandas.pydata.org/pandas-docs/stable/user_guide/indexing.html#returning-a-view-versus-a-copy\n",
      "  usCounties['FIPS'] = usCounties['FIPS'].astype('int')\n"
     ]
    }
   ],
   "source": [
    "usCounties['FIPS'] = usCounties['FIPS'].astype('int')\n",
    "countiesGeom['GEOID'] = countiesGeom['GEOID'].astype('int')"
   ]
  },
  {
   "cell_type": "code",
   "execution_count": 111,
   "metadata": {},
   "outputs": [],
   "source": [
    "usCounties = usCounties.merge(countiesGeom[['GEOID','geometry']], left_on=\"FIPS\", right_on=\"GEOID\", how=\"left\")"
   ]
  },
  {
   "cell_type": "code",
   "execution_count": 113,
   "metadata": {},
   "outputs": [
    {
     "data": {
      "text/plain": [
       "Index(['Country_Region_x', 'Province_State_x', 'UID', 'iso2', 'iso3', 'FIPS',\n",
       "       'Combined_Key', 'Population', 'GEOID_x', 'geometry_x', 'GEOID_y',\n",
       "       'geometry_y'],\n",
       "      dtype='object')"
      ]
     },
     "execution_count": 113,
     "metadata": {},
     "output_type": "execute_result"
    }
   ],
   "source": [
    "usCounties.columns"
   ]
  },
  {
   "cell_type": "code",
   "execution_count": 114,
   "metadata": {},
   "outputs": [],
   "source": [
    "usCounties=usCounties[['Country_Region_x', 'Province_State_x', 'UID', 'iso2', 'iso3', \n",
    "       'Combined_Key', 'Population','geometry_y']]\n",
    "usCounties.columns = globalProvinces.columns"
   ]
  },
  {
   "cell_type": "code",
   "execution_count": 115,
   "metadata": {},
   "outputs": [],
   "source": [
    "fullGeography = pd.concat([globalProvinces,globalCountries,usCounties])"
   ]
  },
  {
   "cell_type": "code",
   "execution_count": 119,
   "metadata": {},
   "outputs": [],
   "source": [
    "fullGeographyGdf = gpd.GeoDataFrame(fullGeography, geometry=fullGeography.geometry)"
   ]
  },
  {
   "cell_type": "code",
   "execution_count": 120,
   "metadata": {},
   "outputs": [
    {
     "data": {
      "text/plain": [
       "<AxesSubplot:>"
      ]
     },
     "execution_count": 120,
     "metadata": {},
     "output_type": "execute_result"
    },
    {
     "data": {
      "image/png": "[encoded data removed]",
      "text/plain": [
       "<Figure size 432x288 with 1 Axes>"
      ]
     },
     "metadata": {
      "needs_background": "light"
     },
     "output_type": "display_data"
    }
   ],
   "source": [
    "fullGeographyGdf.plot()"
   ]
  },
  {
   "cell_type": "code",
   "execution_count": 193,
   "metadata": {
    "scrolled": true
   },
   "outputs": [
    {
     "name": "stderr",
     "output_type": "stream",
     "text": [
      "<ipython-input-193-18925f0f3599>:1: FutureWarning: The signature of `Series.to_csv` was aligned to that of `DataFrame.to_csv`, and argument 'header' will change its default value from False to True: please pass an explicit value to suppress this warning.\n",
      "  fullGeographyGdf[(fullGeographyGdf['UID'].notnull())&(fullGeographyGdf['geometry'].notnull())]['UID'].to_csv('JHU_valid_list.csv', index=False)\n"
     ]
    }
   ],
   "source": [
    "fullGeographyGdf[(fullGeographyGdf['UID'].notnull())&(fullGeographyGdf['geometry'].notnull())]['UID'].to_csv('JHU_valid_list.csv', index=False)"
   ]
  },
  {
   "cell_type": "code",
   "execution_count": 194,
   "metadata": {},
   "outputs": [],
   "source": [
    "fullGeographyGdf[(fullGeographyGdf['UID'].notnull())&(fullGeographyGdf['geometry'].notnull())].to_file(\"jhu_global.geojson\", driver='GeoJSON')"
   ]
  },
  {
   "cell_type": "code",
   "execution_count": 206,
   "metadata": {},
   "outputs": [],
   "source": [
    "fullGeographyGdf[(fullGeographyGdf['UID'].notnull())&(fullGeographyGdf['geometry'].notnull())&(fullGeographyGdf.area>0)].to_file(\"jhu_global.geojson\", driver='GeoJSON')"
   ]
  },
  {
   "cell_type": "markdown",
   "metadata": {},
   "source": [
    "<hr>"
   ]
  },
  {
   "cell_type": "markdown",
   "metadata": {},
   "source": [
    "# Data Fetching"
   ]
  },
  {
   "cell_type": "code",
   "execution_count": 138,
   "metadata": {},
   "outputs": [],
   "source": [
    "globalCaseData = pd.read_csv('https://raw.githubusercontent.com/CSSEGISandData/COVID-19/master/csse_covid_19_data/csse_covid_19_time_series/time_series_covid19_confirmed_global.csv')\n",
    "lookupTable = pd.read_csv('UID_ISO_FIPS_LookUp_Table.csv')[['UID','Province_State','Country_Region']]\n",
    "globalCaseData = lookupTable.merge(globalCaseData, left_on=['Province_State','Country_Region'], right_on=['Province/State', 'Country/Region'], how=\"right\")"
   ]
  },
  {
   "cell_type": "code",
   "execution_count": 149,
   "metadata": {},
   "outputs": [],
   "source": [
    "globalColumns = ['UID'] + list(globalCaseData.columns[7:])\n",
    "globalCaseData = globalCaseData[globalColumns]"
   ]
  },
  {
   "cell_type": "code",
   "execution_count": 141,
   "metadata": {},
   "outputs": [],
   "source": [
    "usCaseData = pd.read_csv('https://raw.githubusercontent.com/CSSEGISandData/COVID-19/master/csse_covid_19_data/csse_covid_19_time_series/time_series_covid19_confirmed_US.csv')"
   ]
  },
  {
   "cell_type": "code",
   "execution_count": 155,
   "metadata": {},
   "outputs": [],
   "source": [
    "usCaseDataColumns = ['UID'] + list(usCaseData.columns[11:])\n",
    "usCaseData = usCaseData[usCaseDataColumns]"
   ]
  },
  {
   "cell_type": "code",
   "execution_count": 157,
   "metadata": {},
   "outputs": [],
   "source": [
    "fullCaseData = pd.concat([usCaseData,globalCaseData])"
   ]
  },
  {
   "cell_type": "code",
   "execution_count": 158,
   "metadata": {},
   "outputs": [],
   "source": [
    "fullCaseData.to_csv('covid_confirmed_jhu.csv', index=False)"
   ]
  },
  {
   "cell_type": "markdown",
   "metadata": {},
   "source": [
    "<hr>"
   ]
  },
  {
   "cell_type": "code",
   "execution_count": 186,
   "metadata": {},
   "outputs": [],
   "source": [
    "globalDeathData = pd.read_csv('https://raw.githubusercontent.com/CSSEGISandData/COVID-19/master/csse_covid_19_data/csse_covid_19_time_series/time_series_covid19_deaths_global.csv')\n",
    "lookupTable = pd.read_csv('UID_ISO_FIPS_LookUp_Table.csv')[['UID','Province_State','Country_Region']]\n",
    "globalDeathData = lookupTable.merge(globalDeathData, left_on=['Province_State','Country_Region'], right_on=['Province/State', 'Country/Region'], how=\"right\")"
   ]
  },
  {
   "cell_type": "code",
   "execution_count": 187,
   "metadata": {},
   "outputs": [],
   "source": [
    "globalColumns = ['UID'] + list(globalDeathData.columns[7:])\n",
    "globalDeathData = globalDeathData[globalColumns]"
   ]
  },
  {
   "cell_type": "code",
   "execution_count": 188,
   "metadata": {},
   "outputs": [],
   "source": [
    "usDeathData = pd.read_csv('https://raw.githubusercontent.com/CSSEGISandData/COVID-19/master/csse_covid_19_data/csse_covid_19_time_series/time_series_covid19_deaths_US.csv')"
   ]
  },
  {
   "cell_type": "code",
   "execution_count": 189,
   "metadata": {},
   "outputs": [],
   "source": [
    "usDeathDataColumns = ['UID'] + list(usDeathData.columns[12:])\n",
    "usDeathData = usDeathData[usDeathDataColumns]"
   ]
  },
  {
   "cell_type": "code",
   "execution_count": 190,
   "metadata": {},
   "outputs": [],
   "source": [
    "fullDeathData = pd.concat([usDeathData,globalDeathData])"
   ]
  },
  {
   "cell_type": "code",
   "execution_count": 192,
   "metadata": {},
   "outputs": [],
   "source": [
    "fullDeathData.to_csv('covid_deaths_jhu.csv', index=False)"
   ]
  },
  {
   "cell_type": "code",
   "execution_count": null,
   "metadata": {},
   "outputs": [],
   "source": []
  }
 ],
 "metadata": {
  "kernelspec": {
   "display_name": "Python 3",
   "language": "python",
   "name": "python3"
  },
  "language_info": {
   "codemirror_mode": {
    "name": "ipython",
    "version": 3
   },
   "file_extension": ".py",
   "mimetype": "text/x-python",
   "name": "python",
   "nbconvert_exporter": "python",
   "pygments_lexer": "ipython3",
   "version": "3.8.3"
  }
 },
 "nbformat": 4,
 "nbformat_minor": 4
}
