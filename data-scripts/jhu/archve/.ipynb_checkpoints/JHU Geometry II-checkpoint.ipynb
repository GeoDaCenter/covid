{
 "cells": [
  {
   "cell_type": "markdown",
   "metadata": {},
   "source": [
    "# Geometry sources:\n",
    "\n",
    "Countries: https://github.com/datasets/geo-countries\n",
    "\n",
    "US States: https://www.census.gov/geographies/mapping-files/time-series/geo/carto-boundary-file.html\n",
    "\n",
    "Global regions/provinces/states: http://www.diva-gis.org/gdata"
   ]
  },
  {
   "cell_type": "code",
   "execution_count": 364,
   "metadata": {},
   "outputs": [],
   "source": [
    "import pandas as pd\n",
    "import geopandas as gpd\n",
    "from unidecode import unidecode"
   ]
  },
  {
   "cell_type": "code",
   "execution_count": 365,
   "metadata": {},
   "outputs": [],
   "source": [
    "lookupTable = pd.read_csv('UID_ISO_FIPS_LookUp_Table.csv')"
   ]
  },
  {
   "cell_type": "code",
   "execution_count": 366,
   "metadata": {},
   "outputs": [
    {
     "name": "stderr",
     "output_type": "stream",
     "text": [
      "C:\\Users\\halpe\\anaconda3\\envs\\trees\\lib\\site-packages\\pandas\\core\\frame.py:4110: SettingWithCopyWarning: \n",
      "A value is trying to be set on a copy of a slice from a DataFrame\n",
      "\n",
      "See the caveats in the documentation: http://pandas.pydata.org/pandas-docs/stable/user_guide/indexing.html#returning-a-view-versus-a-copy\n",
      "  return super().drop(\n"
     ]
    }
   ],
   "source": [
    "cleanLookup = lookupTable[(lookupTable.FIPS < 79)|(lookupTable.FIPS.isnull())]\n",
    "uniqueCountries = cleanLookup['Country_Region'].unique()\n",
    "\n",
    "for country in uniqueCountries:\n",
    "    if (len(cleanLookup[cleanLookup['Country_Region']==country])==1):\n",
    "        pass\n",
    "    elif (len(cleanLookup[(cleanLookup['Country_Region']==country)&(cleanLookup['Province_State'].isnull())])==1):\n",
    "        if (country == \"France\") or (country == \"Denmark\"):\n",
    "            pass\n",
    "        else:\n",
    "            cleanLookup.drop(cleanLookup.loc[(cleanLookup['Country_Region']==country)&(cleanLookup['Province_State'].isnull())].index, inplace=True)\n",
    "    "
   ]
  },
  {
   "cell_type": "code",
   "execution_count": 367,
   "metadata": {
    "scrolled": true
   },
   "outputs": [
    {
     "data": {
      "text/html": [
       "<div>\n",
       "<style scoped>\n",
       "    .dataframe tbody tr th:only-of-type {\n",
       "        vertical-align: middle;\n",
       "    }\n",
       "\n",
       "    .dataframe tbody tr th {\n",
       "        vertical-align: top;\n",
       "    }\n",
       "\n",
       "    .dataframe thead th {\n",
       "        text-align: right;\n",
       "    }\n",
       "</style>\n",
       "<table border=\"1\" class=\"dataframe\">\n",
       "  <thead>\n",
       "    <tr style=\"text-align: right;\">\n",
       "      <th></th>\n",
       "      <th>UID</th>\n",
       "      <th>iso2</th>\n",
       "      <th>iso3</th>\n",
       "      <th>code3</th>\n",
       "      <th>FIPS</th>\n",
       "      <th>Admin2</th>\n",
       "      <th>Province_State</th>\n",
       "      <th>Country_Region</th>\n",
       "      <th>Lat</th>\n",
       "      <th>Long_</th>\n",
       "      <th>Combined_Key</th>\n",
       "      <th>Population</th>\n",
       "    </tr>\n",
       "  </thead>\n",
       "  <tbody>\n",
       "    <tr>\n",
       "      <th>0</th>\n",
       "      <td>4.0</td>\n",
       "      <td>AF</td>\n",
       "      <td>AFG</td>\n",
       "      <td>4.0</td>\n",
       "      <td>NaN</td>\n",
       "      <td>NaN</td>\n",
       "      <td>NaN</td>\n",
       "      <td>Afghanistan</td>\n",
       "      <td>33.939110</td>\n",
       "      <td>67.709953</td>\n",
       "      <td>Afghanistan</td>\n",
       "      <td>38928341.0</td>\n",
       "    </tr>\n",
       "    <tr>\n",
       "      <th>1</th>\n",
       "      <td>8.0</td>\n",
       "      <td>AL</td>\n",
       "      <td>ALB</td>\n",
       "      <td>8.0</td>\n",
       "      <td>NaN</td>\n",
       "      <td>NaN</td>\n",
       "      <td>NaN</td>\n",
       "      <td>Albania</td>\n",
       "      <td>41.153300</td>\n",
       "      <td>20.168300</td>\n",
       "      <td>Albania</td>\n",
       "      <td>2877800.0</td>\n",
       "    </tr>\n",
       "    <tr>\n",
       "      <th>2</th>\n",
       "      <td>12.0</td>\n",
       "      <td>DZ</td>\n",
       "      <td>DZA</td>\n",
       "      <td>12.0</td>\n",
       "      <td>NaN</td>\n",
       "      <td>NaN</td>\n",
       "      <td>NaN</td>\n",
       "      <td>Algeria</td>\n",
       "      <td>28.033900</td>\n",
       "      <td>1.659600</td>\n",
       "      <td>Algeria</td>\n",
       "      <td>43851043.0</td>\n",
       "    </tr>\n",
       "    <tr>\n",
       "      <th>3</th>\n",
       "      <td>20.0</td>\n",
       "      <td>AD</td>\n",
       "      <td>AND</td>\n",
       "      <td>20.0</td>\n",
       "      <td>NaN</td>\n",
       "      <td>NaN</td>\n",
       "      <td>NaN</td>\n",
       "      <td>Andorra</td>\n",
       "      <td>42.506300</td>\n",
       "      <td>1.521800</td>\n",
       "      <td>Andorra</td>\n",
       "      <td>77265.0</td>\n",
       "    </tr>\n",
       "    <tr>\n",
       "      <th>4</th>\n",
       "      <td>24.0</td>\n",
       "      <td>AO</td>\n",
       "      <td>AGO</td>\n",
       "      <td>24.0</td>\n",
       "      <td>NaN</td>\n",
       "      <td>NaN</td>\n",
       "      <td>NaN</td>\n",
       "      <td>Angola</td>\n",
       "      <td>-11.202700</td>\n",
       "      <td>17.873900</td>\n",
       "      <td>Angola</td>\n",
       "      <td>32866268.0</td>\n",
       "    </tr>\n",
       "    <tr>\n",
       "      <th>...</th>\n",
       "      <td>...</td>\n",
       "      <td>...</td>\n",
       "      <td>...</td>\n",
       "      <td>...</td>\n",
       "      <td>...</td>\n",
       "      <td>...</td>\n",
       "      <td>...</td>\n",
       "      <td>...</td>\n",
       "      <td>...</td>\n",
       "      <td>...</td>\n",
       "      <td>...</td>\n",
       "      <td>...</td>\n",
       "    </tr>\n",
       "    <tr>\n",
       "      <th>703</th>\n",
       "      <td>275.0</td>\n",
       "      <td>PS</td>\n",
       "      <td>PSE</td>\n",
       "      <td>275.0</td>\n",
       "      <td>NaN</td>\n",
       "      <td>NaN</td>\n",
       "      <td>NaN</td>\n",
       "      <td>West Bank and Gaza</td>\n",
       "      <td>31.952200</td>\n",
       "      <td>35.233200</td>\n",
       "      <td>West Bank and Gaza</td>\n",
       "      <td>5101416.0</td>\n",
       "    </tr>\n",
       "    <tr>\n",
       "      <th>704</th>\n",
       "      <td>732.0</td>\n",
       "      <td>EH</td>\n",
       "      <td>ESH</td>\n",
       "      <td>732.0</td>\n",
       "      <td>NaN</td>\n",
       "      <td>NaN</td>\n",
       "      <td>NaN</td>\n",
       "      <td>Western Sahara</td>\n",
       "      <td>24.215500</td>\n",
       "      <td>-12.885800</td>\n",
       "      <td>Western Sahara</td>\n",
       "      <td>597330.0</td>\n",
       "    </tr>\n",
       "    <tr>\n",
       "      <th>705</th>\n",
       "      <td>887.0</td>\n",
       "      <td>YE</td>\n",
       "      <td>YEM</td>\n",
       "      <td>887.0</td>\n",
       "      <td>NaN</td>\n",
       "      <td>NaN</td>\n",
       "      <td>NaN</td>\n",
       "      <td>Yemen</td>\n",
       "      <td>15.552727</td>\n",
       "      <td>48.516388</td>\n",
       "      <td>Yemen</td>\n",
       "      <td>29825968.0</td>\n",
       "    </tr>\n",
       "    <tr>\n",
       "      <th>706</th>\n",
       "      <td>894.0</td>\n",
       "      <td>ZM</td>\n",
       "      <td>ZMB</td>\n",
       "      <td>894.0</td>\n",
       "      <td>NaN</td>\n",
       "      <td>NaN</td>\n",
       "      <td>NaN</td>\n",
       "      <td>Zambia</td>\n",
       "      <td>-13.133897</td>\n",
       "      <td>27.849332</td>\n",
       "      <td>Zambia</td>\n",
       "      <td>18383956.0</td>\n",
       "    </tr>\n",
       "    <tr>\n",
       "      <th>707</th>\n",
       "      <td>716.0</td>\n",
       "      <td>ZW</td>\n",
       "      <td>ZWE</td>\n",
       "      <td>716.0</td>\n",
       "      <td>NaN</td>\n",
       "      <td>NaN</td>\n",
       "      <td>NaN</td>\n",
       "      <td>Zimbabwe</td>\n",
       "      <td>-19.015438</td>\n",
       "      <td>29.154857</td>\n",
       "      <td>Zimbabwe</td>\n",
       "      <td>14862927.0</td>\n",
       "    </tr>\n",
       "  </tbody>\n",
       "</table>\n",
       "<p>172 rows × 12 columns</p>\n",
       "</div>"
      ],
      "text/plain": [
       "       UID iso2 iso3  code3  FIPS Admin2 Province_State      Country_Region  \\\n",
       "0      4.0   AF  AFG    4.0   NaN    NaN            NaN         Afghanistan   \n",
       "1      8.0   AL  ALB    8.0   NaN    NaN            NaN             Albania   \n",
       "2     12.0   DZ  DZA   12.0   NaN    NaN            NaN             Algeria   \n",
       "3     20.0   AD  AND   20.0   NaN    NaN            NaN             Andorra   \n",
       "4     24.0   AO  AGO   24.0   NaN    NaN            NaN              Angola   \n",
       "..     ...  ...  ...    ...   ...    ...            ...                 ...   \n",
       "703  275.0   PS  PSE  275.0   NaN    NaN            NaN  West Bank and Gaza   \n",
       "704  732.0   EH  ESH  732.0   NaN    NaN            NaN      Western Sahara   \n",
       "705  887.0   YE  YEM  887.0   NaN    NaN            NaN               Yemen   \n",
       "706  894.0   ZM  ZMB  894.0   NaN    NaN            NaN              Zambia   \n",
       "707  716.0   ZW  ZWE  716.0   NaN    NaN            NaN            Zimbabwe   \n",
       "\n",
       "           Lat      Long_        Combined_Key  Population  \n",
       "0    33.939110  67.709953         Afghanistan  38928341.0  \n",
       "1    41.153300  20.168300             Albania   2877800.0  \n",
       "2    28.033900   1.659600             Algeria  43851043.0  \n",
       "3    42.506300   1.521800             Andorra     77265.0  \n",
       "4   -11.202700  17.873900              Angola  32866268.0  \n",
       "..         ...        ...                 ...         ...  \n",
       "703  31.952200  35.233200  West Bank and Gaza   5101416.0  \n",
       "704  24.215500 -12.885800      Western Sahara    597330.0  \n",
       "705  15.552727  48.516388               Yemen  29825968.0  \n",
       "706 -13.133897  27.849332              Zambia  18383956.0  \n",
       "707 -19.015438  29.154857            Zimbabwe  14862927.0  \n",
       "\n",
       "[172 rows x 12 columns]"
      ]
     },
     "execution_count": 367,
     "metadata": {},
     "output_type": "execute_result"
    }
   ],
   "source": [
    "cleanLookup[cleanLookup['Province_State'].isnull()]"
   ]
  },
  {
   "cell_type": "markdown",
   "metadata": {},
   "source": [
    "# Merge Geometries for Countries"
   ]
  },
  {
   "cell_type": "code",
   "execution_count": 368,
   "metadata": {},
   "outputs": [],
   "source": [
    "countries = gpd.read_file('countries.geojson')"
   ]
  },
  {
   "cell_type": "code",
   "execution_count": 369,
   "metadata": {},
   "outputs": [
    {
     "data": {
      "text/html": [
       "<div>\n",
       "<style scoped>\n",
       "    .dataframe tbody tr th:only-of-type {\n",
       "        vertical-align: middle;\n",
       "    }\n",
       "\n",
       "    .dataframe tbody tr th {\n",
       "        vertical-align: top;\n",
       "    }\n",
       "\n",
       "    .dataframe thead th {\n",
       "        text-align: right;\n",
       "    }\n",
       "</style>\n",
       "<table border=\"1\" class=\"dataframe\">\n",
       "  <thead>\n",
       "    <tr style=\"text-align: right;\">\n",
       "      <th></th>\n",
       "      <th>ADMIN</th>\n",
       "      <th>ISO_A3</th>\n",
       "      <th>ISO_A2</th>\n",
       "      <th>geometry</th>\n",
       "    </tr>\n",
       "  </thead>\n",
       "  <tbody>\n",
       "    <tr>\n",
       "      <th>0</th>\n",
       "      <td>Aruba</td>\n",
       "      <td>ABW</td>\n",
       "      <td>AW</td>\n",
       "      <td>MULTIPOLYGON (((-69.99694 12.57758, -69.93639 ...</td>\n",
       "    </tr>\n",
       "    <tr>\n",
       "      <th>1</th>\n",
       "      <td>Afghanistan</td>\n",
       "      <td>AFG</td>\n",
       "      <td>AF</td>\n",
       "      <td>MULTIPOLYGON (((71.04980 38.40866, 71.05714 38...</td>\n",
       "    </tr>\n",
       "    <tr>\n",
       "      <th>2</th>\n",
       "      <td>Angola</td>\n",
       "      <td>AGO</td>\n",
       "      <td>AO</td>\n",
       "      <td>MULTIPOLYGON (((11.73752 -16.69258, 11.73851 -...</td>\n",
       "    </tr>\n",
       "    <tr>\n",
       "      <th>3</th>\n",
       "      <td>Anguilla</td>\n",
       "      <td>AIA</td>\n",
       "      <td>AI</td>\n",
       "      <td>MULTIPOLYGON (((-63.03767 18.21296, -63.09952 ...</td>\n",
       "    </tr>\n",
       "    <tr>\n",
       "      <th>4</th>\n",
       "      <td>Albania</td>\n",
       "      <td>ALB</td>\n",
       "      <td>AL</td>\n",
       "      <td>MULTIPOLYGON (((19.74777 42.57890, 19.74601 42...</td>\n",
       "    </tr>\n",
       "  </tbody>\n",
       "</table>\n",
       "</div>"
      ],
      "text/plain": [
       "         ADMIN ISO_A3 ISO_A2  \\\n",
       "0        Aruba    ABW     AW   \n",
       "1  Afghanistan    AFG     AF   \n",
       "2       Angola    AGO     AO   \n",
       "3     Anguilla    AIA     AI   \n",
       "4      Albania    ALB     AL   \n",
       "\n",
       "                                            geometry  \n",
       "0  MULTIPOLYGON (((-69.99694 12.57758, -69.93639 ...  \n",
       "1  MULTIPOLYGON (((71.04980 38.40866, 71.05714 38...  \n",
       "2  MULTIPOLYGON (((11.73752 -16.69258, 11.73851 -...  \n",
       "3  MULTIPOLYGON (((-63.03767 18.21296, -63.09952 ...  \n",
       "4  MULTIPOLYGON (((19.74777 42.57890, 19.74601 42...  "
      ]
     },
     "execution_count": 369,
     "metadata": {},
     "output_type": "execute_result"
    }
   ],
   "source": [
    "countries.head()"
   ]
  },
  {
   "cell_type": "code",
   "execution_count": 370,
   "metadata": {},
   "outputs": [
    {
     "data": {
      "text/plain": [
       "<AxesSubplot:>"
      ]
     },
     "execution_count": 370,
     "metadata": {},
     "output_type": "execute_result"
    },
    {
     "data": {
      "image/png": "[encoded data removed]",
      "text/plain": [
       "<Figure size 432x288 with 1 Axes>"
      ]
     },
     "metadata": {
      "needs_background": "light"
     },
     "output_type": "display_data"
    }
   ],
   "source": [
    "countries.plot()"
   ]
  },
  {
   "cell_type": "code",
   "execution_count": 371,
   "metadata": {},
   "outputs": [],
   "source": [
    "countriesMerged = countries.merge(cleanLookup[cleanLookup['Province_State'].isnull()], left_on=\"ISO_A3\", right_on=\"iso3\", how=\"inner\")"
   ]
  },
  {
   "cell_type": "code",
   "execution_count": 372,
   "metadata": {},
   "outputs": [],
   "source": [
    "for country in countriesMerged.iso3:\n",
    "    if country in list(cleanLookup.iso3):\n",
    "        pass\n",
    "    else:\n",
    "        print(country)"
   ]
  },
  {
   "cell_type": "code",
   "execution_count": 373,
   "metadata": {},
   "outputs": [],
   "source": [
    "# Export clean Countries"
   ]
  },
  {
   "cell_type": "code",
   "execution_count": 374,
   "metadata": {},
   "outputs": [],
   "source": [
    "countriesCleaned = countriesMerged[['UID','geometry']]"
   ]
  },
  {
   "cell_type": "code",
   "execution_count": 375,
   "metadata": {},
   "outputs": [
    {
     "data": {
      "text/plain": [
       "<AxesSubplot:>"
      ]
     },
     "execution_count": 375,
     "metadata": {},
     "output_type": "execute_result"
    },
    {
     "data": {
      "image/png": "[encoded data removed]",
      "text/plain": [
       "<Figure size 432x288 with 1 Axes>"
      ]
     },
     "metadata": {
      "needs_background": "light"
     },
     "output_type": "display_data"
    }
   ],
   "source": [
    "countriesCleaned.plot()"
   ]
  },
  {
   "cell_type": "markdown",
   "metadata": {},
   "source": [
    "# Merge US States"
   ]
  },
  {
   "cell_type": "code",
   "execution_count": 376,
   "metadata": {},
   "outputs": [],
   "source": [
    "states = gpd.read_file('./cb_2018_us_state_5m/cb_2018_us_state_5m.shp')\n",
    "states['GEOID'] = states['GEOID'].astype('float64')"
   ]
  },
  {
   "cell_type": "code",
   "execution_count": 377,
   "metadata": {},
   "outputs": [
    {
     "data": {
      "text/plain": [
       "<AxesSubplot:>"
      ]
     },
     "execution_count": 377,
     "metadata": {},
     "output_type": "execute_result"
    },
    {
     "data": {
      "image/png": "[encoded data removed]",
      "text/plain": [
       "<Figure size 432x288 with 1 Axes>"
      ]
     },
     "metadata": {
      "needs_background": "light"
     },
     "output_type": "display_data"
    }
   ],
   "source": [
    "states.plot()"
   ]
  },
  {
   "cell_type": "code",
   "execution_count": 378,
   "metadata": {},
   "outputs": [],
   "source": [
    "statesMerged = states.merge(cleanLookup[cleanLookup.FIPS<79], left_on=\"GEOID\", right_on=\"FIPS\", how=\"inner\")"
   ]
  },
  {
   "cell_type": "code",
   "execution_count": 379,
   "metadata": {},
   "outputs": [
    {
     "data": {
      "text/plain": [
       "(56, 22)"
      ]
     },
     "execution_count": 379,
     "metadata": {},
     "output_type": "execute_result"
    }
   ],
   "source": [
    "statesMerged.shape"
   ]
  },
  {
   "cell_type": "code",
   "execution_count": 380,
   "metadata": {},
   "outputs": [],
   "source": [
    "usStatesCleaned = statesMerged[['UID','geometry']]"
   ]
  },
  {
   "cell_type": "markdown",
   "metadata": {},
   "source": [
    "# Countries with Regions:\n",
    "    \n",
    "'Belgium', 'Brazil', 'Chile', 'Colombia', 'Denmark', 'France',\n",
    "   'Germany', 'India', 'Italy', 'Japan', 'Mexico', 'Netherlands',\n",
    "   'Nigeria', 'Pakistan', 'Peru', 'Russia', 'Spain', 'Sweden',\n",
    "   'Ukraine', 'United Kingdom', 'Australia', 'Canada', 'China'"
   ]
  },
  {
   "cell_type": "code",
   "execution_count": 381,
   "metadata": {},
   "outputs": [],
   "source": [
    "countryList = ['Belgium', 'Brazil', 'Chile', 'Colombia',\n",
    "   'Germany', 'India', 'Italy', 'Japan', 'Mexico', 'Netherlands',\n",
    "   'Nigeria', 'Pakistan', 'Peru', 'Russia', 'Spain', 'Sweden',\n",
    "   'Ukraine', 'United Kingdom', 'Australia', 'Canada', 'China']\n",
    "\n",
    "adminGeoms = {\n",
    "    'Belgium': {\n",
    "       'Path': './countries_with_regions/BEL_adm/BEL_ADMIN_MERGED2.shp',\n",
    "    },\n",
    "    'Brazil': {\n",
    "       'Path': './countries_with_regions/BRA_adm/BRA_adm1.shp',\n",
    "    },\n",
    "    'Chile': {\n",
    "       'Path': './countries_with_regions/CHL_adm/CHL_adm1.shp',\n",
    "    },\n",
    "    'Colombia': {\n",
    "       'Path': './countries_with_regions/COL_adm/COL_adm1.shp',\n",
    "    },\n",
    "#     'Denmark': { TERRITORIES\n",
    "#        'Path': './countries_with_regions/BRA_adm/BRA_adm1.shp',\n",
    "#     },\n",
    "#     'France': { # TERRITORIES\n",
    "#        'Path': './countries_with_regions/BRA_adm/BRA_adm1.shp',\n",
    "#     },\n",
    "    'Germany': {\n",
    "       'Path': './countries_with_regions/DEU_adm/DEU_adm1.shp',\n",
    "    },\n",
    "    'India': {\n",
    "       'Path': './countries_with_regions/IND_adm/IND_adm1.shp',\n",
    "    },\n",
    "    'Italy': {\n",
    "       'Path': './countries_with_regions/ITA_adm/ITA_adm1.shp',\n",
    "    },\n",
    "    'Japan': {\n",
    "       'Path': './countries_with_regions/JPN_adm/JPN_adm1.shp',\n",
    "    },\n",
    "    'Mexico': {\n",
    "       'Path': './countries_with_regions/MEX_adm/MEX_adm1.shp',\n",
    "    },\n",
    "    'Netherlands': { # ALSO TERRITORIES :\\\n",
    "       'Path': './countries_with_regions/NLD_adm/NLD_adm1.shp',\n",
    "    },\n",
    "    'Nigeria': {\n",
    "       'Path': './countries_with_regions/NGA_adm/NGA_adm1.shp',\n",
    "    },\n",
    "    'Pakistan': {\n",
    "       'Path': './countries_with_regions/PAK_adm/PAK_adm1.shp',\n",
    "    },\n",
    "    'Peru': {\n",
    "       'Path': './countries_with_regions/PER_adm/PER_adm1.shp',\n",
    "    },\n",
    "    'Russia': {\n",
    "       'Path': './countries_with_regions/RUS_adm/RUS_adm1.shp',\n",
    "    },\n",
    "    'Spain': {\n",
    "       'Path': './countries_with_regions/ESP_adm/ESP_adm1.shp',\n",
    "    },\n",
    "    'Sweden': {\n",
    "       'Path': './countries_with_regions/SWE_adm/SWE_adm1.shp',\n",
    "    },\n",
    "    'Ukraine': {\n",
    "       'Path': './countries_with_regions/UKR_adm/UKR_adm1.shp',\n",
    "    },\n",
    "    'United Kingdom': { # ALSO TERRITORIES :\\\n",
    "       'Path': './countries_with_regions/GBR_adm/GBR_adm1.shp',\n",
    "    },\n",
    "    'Australia': {\n",
    "       'Path': './countries_with_regions/AUS_adm/AUS_adm1.shp',\n",
    "    },\n",
    "    'Canada': {\n",
    "       'Path': './countries_with_regions/CAN_adm/CAN_adm1.shp',\n",
    "    },\n",
    "    'China': {\n",
    "       'Path': './countries_with_regions/CHN_adm/CHN_adm1.shp',\n",
    "    },\n",
    "}"
   ]
  },
  {
   "cell_type": "code",
   "execution_count": 382,
   "metadata": {
    "scrolled": true
   },
   "outputs": [
    {
     "name": "stdout",
     "output_type": "stream",
     "text": [
      "Belgium\n",
      "['Antwerp', 'Brussels', 'East Flanders', 'Flemish Brabant', 'Hainaut', 'Liege', 'Limburg', 'Luxembourg', 'Namur', 'Walloon Brabant', 'West Flanders']\n",
      "Brazil\n",
      "['Acre', 'Alagoas', 'Amapa', 'Amazonas', 'Bahia', 'Ceara', 'Distrito Federal', 'Espirito Santo', 'Goias', 'Maranhao', 'Mato Grosso', 'Mato Grosso do Sul', 'Minas Gerais', 'Para', 'Paraiba', 'Parana', 'Pernambuco', 'Piaui', 'Rio de Janeiro', 'Rio Grande do Norte', 'Rio Grande do Sul', 'Rondonia', 'Roraima', 'Santa Catarina', 'Sao Paulo', 'Sergipe', 'Tocantins']\n",
      "Chile\n",
      "['Antofagasta', 'Araucania', 'Arica y Parinacota', 'Atacama', 'Aysen', 'Biobio', 'Coquimbo', 'Los Lagos', 'Los Rios', 'Magallanes', 'Maule', 'Metropolitana', 'Nuble', 'OHiggins', 'Tarapaca', 'Valparaiso']\n",
      "Colombia\n",
      "['Amazonas', 'Antioquia', 'Arauca', 'Atlantico', 'Bolivar', 'Boyaca', 'Caldas', 'Capital District', 'Caqueta', 'Casanare', 'Cauca', 'Cesar', 'Choco', 'Cordoba', 'Cundinamarca', 'Guainia', 'Guaviare', 'Huila', 'La Guajira', 'Magdalena', 'Meta', 'Narino', 'Norte de Santander', 'Putumayo', 'Quindio', 'Risaralda', 'San Andres y Providencia', 'Santander', 'Sucre', 'Tolima', 'Valle del Cauca', 'Vaupes', 'Vichada']\n",
      "Germany\n",
      "['Baden-Wurttemberg', 'Bayern', 'Berlin', 'Brandenburg', 'Bremen', 'Hamburg', 'Hessen', 'Mecklenburg-Vorpommern', 'Niedersachsen', 'Nordrhein-Westfalen', 'Rheinland-Pfalz', 'Saarland', 'Sachsen', 'Sachsen-Anhalt', 'Schleswig-Holstein', 'Thuringen']\n",
      "India\n",
      "['Andaman and Nicobar Islands', 'Andhra Pradesh', 'Arunachal Pradesh', 'Assam', 'Bihar', 'Chandigarh', 'Chhattisgarh', 'Dadra and Nagar Haveli and Daman and Diu', 'Delhi', 'Goa', 'Gujarat', 'Haryana', 'Himachal Pradesh', 'Jammu and Kashmir', 'Jharkhand', 'Karnataka', 'Kerala', 'Ladakh', 'Madhya Pradesh', 'Maharashtra', 'Manipur', 'Meghalaya', 'Mizoram', 'Nagaland', 'Odisha', 'Puducherry', 'Punjab', 'Rajasthan', 'Sikkim', 'Tamil Nadu', 'Telangana', 'Tripura', 'Uttar Pradesh', 'Uttarakhand', 'West Bengal', 'Lakshadweep']\n",
      "Italy\n",
      "['Abruzzo', 'Basilicata', 'Calabria', 'Campania', 'Emilia-Romagna', 'Friuli Venezia Giulia', 'Lazio', 'Liguria', 'Lombardia', 'Marche', 'Molise', 'P.A. Bolzano', 'P.A. Trento', 'Piemonte', 'Puglia', 'Sardegna', 'Sicilia', 'Toscana', 'Umbria', \"Valle d'Aosta\", 'Veneto']\n",
      "Japan\n",
      "['Aichi', 'Akita', 'Aomori', 'Chiba', 'Ehime', 'Fukui', 'Fukuoka', 'Fukushima', 'Gifu', 'Gunma', 'Hiroshima', 'Hokkaido', 'Hyogo', 'Ibaraki', 'Ishikawa', 'Iwate', 'Kagawa', 'Kagoshima', 'Kanagawa', 'Kochi', 'Kumamoto', 'Kyoto', 'Mie', 'Miyagi', 'Miyazaki', 'Nagano', 'Nagasaki', 'Nara', 'Niigata', 'Oita', 'Okayama', 'Okinawa', 'Osaka', 'Saga', 'Saitama', 'Shiga', 'Shimane', 'Shizuoka', 'Tochigi', 'Tokushima', 'Tokyo', 'Tottori', 'Toyama', 'Wakayama', 'Yamagata', 'Yamaguchi', 'Yamanashi', 'Port Quarantine']\n",
      "Mexico\n",
      "['Aguascalientes', 'Baja California', 'Baja California Sur', 'Campeche', 'Chiapas', 'Chihuahua', 'Ciudad de Mexico', 'Coahuila', 'Colima', 'Durango', 'Guanajuato', 'Guerrero', 'Hidalgo', 'Jalisco', 'Mexico', 'Michoacan', 'Morelos', 'Nayarit', 'Nuevo Leon', 'Oaxaca', 'Puebla', 'Queretaro', 'Quintana Roo', 'San Luis Potosi', 'Sinaloa', 'Sonora', 'Tabasco', 'Tamaulipas', 'Tlaxcala', 'Veracruz', 'Yucatan', 'Zacatecas']\n",
      "Netherlands\n",
      "['Drenthe', 'Flevoland', 'Friesland', 'Gelderland', 'Groningen', 'Limburg', 'Noord-Brabant', 'Noord-Holland', 'Overijssel', 'Utrecht', 'Zeeland', 'Zuid-Holland', 'Aruba', 'Curacao', 'Sint Maarten', 'Bonaire, Sint Eustatius and Saba']\n",
      "Nigeria\n",
      "['Abia', 'Adamawa', 'Akwa Ibom', 'Anambra', 'Bauchi', 'Bayelsa', 'Benue', 'Borno', 'Cross River', 'Delta', 'Ebonyi', 'Edo', 'Ekiti', 'Enugu', 'Federal Capital Territory', 'Gombe', 'Imo', 'Jigawa', 'Kaduna', 'Kano', 'Katsina', 'Kebbi', 'Kogi', 'Kwara', 'Lagos', 'Nasarawa', 'Niger', 'Ogun', 'Ondo', 'Osun', 'Oyo', 'Plateau', 'Rivers', 'Sokoto', 'Taraba', 'Yobe', 'Zamfara']\n",
      "Pakistan\n",
      "['Azad Jammu and Kashmir', 'Balochistan', 'Gilgit-Baltistan', 'Islamabad', 'Khyber Pakhtunkhwa', 'Punjab', 'Sindh']\n",
      "Peru\n",
      "['Amazonas', 'Ancash', 'Apurimac', 'Arequipa', 'Ayacucho', 'Cajamarca', 'Callao', 'Cusco', 'Huancavelica', 'Huanuco', 'Ica', 'Junin', 'La Libertad', 'Lambayeque', 'Lima', 'Loreto', 'Madre de Dios', 'Moquegua', 'Pasco', 'Piura', 'Puno', 'San Martin', 'Tacna', 'Tumbes', 'Ucayali']\n",
      "Russia\n",
      "['Adygea Republic', 'Altai', 'Amur Oblast', 'Arkhangelsk Oblast', 'Astrakhan Oblast', 'Bashkortostan Republic', 'Belgorod Oblast', 'Bryansk Oblast', 'Buryatia Republic', 'Chechen Republic', 'Chelyabinsk Oblast', 'Chukotka Autonomous Okrug', 'Chuvashia Republic', 'Dagestan Republic', 'Ingushetia Republic', 'Irkutsk Oblast', 'Ivanovo Oblast', 'Jewish Autonomous Okrug', 'Kabardino-Balkarian Republic', 'Kaliningrad Oblast', 'Kalmykia Republic', 'Kaluga Oblast', 'Kamchatka Krai', 'Karachay-Cherkess Republic', 'Karelia Republic', 'Kemerovo Oblast', 'Khabarovsk Krai', 'Khakassia Republic', 'Khanty-Mansi Autonomous Okrug', 'Kirov Oblast', 'Komi Republic', 'Kostroma Oblast', 'Krasnodar Krai', 'Krasnoyarsk Krai', 'Kurgan Oblast', 'Kursk Oblast', 'Leningrad Oblast', 'Lipetsk Oblast', 'Magadan Oblast', 'Mari El Republic', 'Mordovia Republic', 'Moscow', 'Moscow Oblast', 'Murmansk Oblast', 'Nenets Autonomous Okrug', 'Nizhny Novgorod Oblast', 'North Ossetia - Alania Republic', 'Novgorod Oblast', 'Novosibirsk Oblast', 'Omsk Oblast', 'Orel Oblast', 'Orenburg Oblast', 'Penza Oblast', 'Perm Krai', 'Primorsky Krai', 'Pskov Oblast', 'Rostov Oblast', 'Ryazan Oblast', 'Saint Petersburg', 'Sakha (Yakutiya) Republic', 'Sakhalin Oblast', 'Samara Oblast', 'Saratov Oblast', 'Smolensk Oblast', 'Stavropol Krai', 'Sverdlovsk Oblast', 'Tambov Oblast', 'Tatarstan Republic', 'Tomsk Oblast', 'Tula Oblast', 'Tver Oblast', 'Tyumen Oblast', 'Tyva Republic', 'Udmurt Republic', 'Ulyanovsk Oblast', 'Vladimir Oblast', 'Volgograd Oblast', 'Vologda Oblast', 'Voronezh Oblast', 'Yamalo-Nenets Autonomous Okrug', 'Yaroslavl Oblast', 'Zabaykalsky Krai']\n",
      "Spain\n",
      "['Andalusia', 'Aragon', 'Asturias', 'Baleares', 'Canarias', 'Cantabria', 'Castilla - La Mancha', 'Castilla y Leon', 'Catalonia', 'Ceuta', 'C. Valenciana', 'Extremadura', 'Galicia', 'Madrid', 'Melilla', 'Murcia', 'Navarra', 'Pais Vasco', 'La Rioja']\n",
      "Sweden\n",
      "['Blekinge', 'Dalarna', 'Gavleborg', 'Gotland', 'Halland', 'Jamtland Harjedalen', 'Jonkoping', 'Kalmar', 'Kronoberg', 'Norrbotten', 'Orebro', 'Ostergotland', 'Skane', 'Sormland', 'Stockholm', 'Uppsala', 'Varmland', 'Vasterbotten', 'Vasternorrland', 'Vastmanland', 'Vastra Gotaland']\n",
      "Ukraine\n",
      "['Cherkasy Oblast', 'Chernihiv Oblast', 'Chernivtsi Oblast', 'Crimea Republic*', 'Dnipropetrovsk Oblast', 'Donetsk Oblast', 'Ivano-Frankivsk Oblast', 'Kharkiv Oblast', 'Kherson Oblast', 'Khmelnytskyi Oblast', 'Kiev', 'Kiev Oblast', 'Kirovohrad Oblast', 'Luhansk Oblast', 'Lviv Oblast', 'Mykolaiv Oblast', 'Odessa Oblast', 'Poltava Oblast', 'Rivne Oblast', 'Sevastopol*', 'Sumy Oblast', 'Ternopil Oblast', 'Vinnytsia Oblast', 'Volyn Oblast', 'Zakarpattia Oblast', 'Zaporizhia Oblast', 'Zhytomyr Oblast']\n",
      "United Kingdom\n",
      "['England', 'Northern Ireland', 'Scotland', 'Wales', 'Bermuda', 'British Virgin Islands', 'Cayman Islands', 'Channel Islands', 'Falkland Islands (Malvinas)', 'Gibraltar', 'Isle of Man', 'Montserrat', 'Turks and Caicos Islands', 'Anguilla']\n",
      "Australia\n",
      "['Australian Capital Territory', 'New South Wales', 'Northern Territory', 'Queensland', 'South Australia', 'Tasmania', 'Victoria', 'Western Australia']\n",
      "Canada\n",
      "['Alberta', 'British Columbia', 'Manitoba', 'New Brunswick', 'Newfoundland and Labrador', 'Northwest Territories', 'Nova Scotia', 'Ontario', 'Prince Edward Island', 'Quebec', 'Saskatchewan', 'Yukon', 'Diamond Princess', 'Grand Princess', 'Recovered', 'Nunavut']\n",
      "China\n",
      "['Anhui', 'Beijing', 'Chongqing', 'Fujian', 'Gansu', 'Guangdong', 'Guangxi', 'Guizhou', 'Hainan', 'Hebei', 'Heilongjiang', 'Henan', 'Hubei', 'Hunan', 'Inner Mongolia', 'Jiangsu', 'Jiangxi', 'Jilin', 'Liaoning', 'Ningxia', 'Qinghai', 'Shaanxi', 'Shandong', 'Shanghai', 'Shanxi', 'Sichuan', 'Tianjin', 'Tibet', 'Xinjiang', 'Yunnan', 'Zhejiang', 'Hong Kong', 'Macau']\n"
     ]
    }
   ],
   "source": [
    "for country in countryList:\n",
    "    currCountry = cleanLookup[(cleanLookup['Country_Region']==country)&(cleanLookup['Province_State']!='Unknown')]\n",
    "    print(country)\n",
    "    print(list(currCountry['Province_State']))"
   ]
  },
  {
   "cell_type": "code",
   "execution_count": 383,
   "metadata": {},
   "outputs": [
    {
     "name": "stdout",
     "output_type": "stream",
     "text": [
      "Error at Colombia, capital distric\n",
      "Error at India, ladak\n",
      "Error at Italy, p.a. bolzan\n",
      "Error at Italy, p.a. trent\n",
      "Error at Japan, port quarantin\n",
      "Error at Netherlands, arub\n",
      "Error at Netherlands, curaca\n",
      "Error at Netherlands, sint maarte\n",
      "Error at Netherlands, bonaire, sint eustatius and sab\n",
      "Error at United Kingdom, bermud\n",
      "Error at United Kingdom, britis\n",
      "Error at United Kingdom, cayma\n",
      "Error at United Kingdom, channe\n",
      "Error at United Kingdom, falklan\n",
      "Error at United Kingdom, gibralta\n",
      "Error at United Kingdom, isl\n",
      "Error at United Kingdom, montserra\n",
      "Error at United Kingdom, turk\n",
      "Error at United Kingdom, anguill\n",
      "Error at Canada, diamond princes\n",
      "Error at Canada, grand princes\n",
      "Error at Canada, recovere\n",
      "Error at China, hong kon\n",
      "Error at China, maca\n"
     ]
    }
   ],
   "source": [
    "for country in countryList:\n",
    "    currCountry = cleanLookup[(cleanLookup['Country_Region']==country)&(cleanLookup['Province_State']!='Unknown')]\n",
    "    scale = adminGeoms[country]['Path'].split('.shp')[0][-1:]\n",
    "    geom = gpd.read_file(adminGeoms[country]['Path'])[[f'NAME_{scale}', f'VARNAME_{scale}', 'geometry']]\n",
    "\n",
    "    geom.loc[geom[f'VARNAME_{scale}'].isnull(), f'VARNAME_{scale}'] = ''\n",
    "    geom['RAW_NAME'] = geom[f'NAME_{scale}'] + geom[f'VARNAME_{scale}']\n",
    "    geom = geom[geom['RAW_NAME'].notnull()]\n",
    "\n",
    "    geom['RAW_NAME'] = geom['RAW_NAME'].str.lower().apply(lambda x: unidecode(x))\n",
    "    \n",
    "    dump = []\n",
    "    \n",
    "    \n",
    "    for i in range(0, len(currCountry)):\n",
    "        if country == \"Brazil\":\n",
    "            tempName = currCountry.iloc[i].Province_State.lower()\n",
    "        elif (country == 'Russia') or (country == 'Ukraine') or (country == \"United Kingdom\"):\n",
    "            if 'city' in currCountry.iloc[i].Province_State.lower():\n",
    "                tempName = currCountry.iloc[i].Province_State.lower()[:-1]\n",
    "            elif 'moscow oblast' in currCountry.iloc[i].Province_State.lower():\n",
    "                tempName = 'moskva'\n",
    "            elif 'kiev oblast' in currCountry.iloc[i].Province_State.lower():\n",
    "                tempName = 'kiev'\n",
    "            elif 'kiev'in currCountry.iloc[i].Province_State.lower():\n",
    "                tempName = 'kiev city'\n",
    "            else:\n",
    "                tempName = currCountry.iloc[i].Province_State.lower().split(' ')[0][:-1]\n",
    "        else: \n",
    "            tempName = currCountry.iloc[i].Province_State.lower()[:-1]\n",
    "            \n",
    "        tempGeom = geom[geom['RAW_NAME'].str.contains(tempName)]\n",
    "        if len(tempGeom) == 1:\n",
    "            dump.append(tempGeom.iloc[0].geometry)\n",
    "        else:\n",
    "            try:\n",
    "                dump.append(geom[geom[f'VARNAME_{scale}']==tempName].iloc[0].geometry)\n",
    "            except:\n",
    "                print(f\"Error at {country}, {tempName}\")\n",
    "                dump.append(None)\n",
    "    cleanGeom = gpd.GeoDataFrame(currCountry['UID'], geometry=dump)\n",
    "    \n",
    "    adminGeoms[country]['geom'] = cleanGeom"
   ]
  },
  {
   "cell_type": "code",
   "execution_count": 384,
   "metadata": {},
   "outputs": [],
   "source": [
    "provinceGeom = pd.concat([adminGeoms[country]['geom'] for country in countryList])"
   ]
  },
  {
   "cell_type": "markdown",
   "metadata": {},
   "source": [
    "# Merge it all, god help us"
   ]
  },
  {
   "cell_type": "code",
   "execution_count": 385,
   "metadata": {},
   "outputs": [],
   "source": [
    "JHUGeomMerged = pd.concat([countriesCleaned, usStatesCleaned,provinceGeom])"
   ]
  },
  {
   "cell_type": "code",
   "execution_count": 386,
   "metadata": {},
   "outputs": [],
   "source": [
    "JHUGeomMergedGdf = gpd.GeoDataFrame(JHUGeomMerged, geometry=JHUGeomMerged.geometry)"
   ]
  },
  {
   "cell_type": "code",
   "execution_count": 387,
   "metadata": {
    "scrolled": true
   },
   "outputs": [
    {
     "data": {
      "text/plain": [
       "<AxesSubplot:>"
      ]
     },
     "execution_count": 387,
     "metadata": {},
     "output_type": "execute_result"
    },
    {
     "data": {
      "image/png": "[encoded data removed]",
      "text/plain": [
       "<Figure size 432x288 with 1 Axes>"
      ]
     },
     "metadata": {
      "needs_background": "light"
     },
     "output_type": "display_data"
    }
   ],
   "source": [
    "JHUGeomMergedGdf.plot()"
   ]
  },
  {
   "cell_type": "code",
   "execution_count": 388,
   "metadata": {},
   "outputs": [],
   "source": [
    "JHUGeomMergedGdf.to_file(\"countries.geojson\", driver='GeoJSON')"
   ]
  }
 ],
 "metadata": {
  "kernelspec": {
   "display_name": "Python 3",
   "language": "python",
   "name": "python3"
  },
  "language_info": {
   "codemirror_mode": {
    "name": "ipython",
    "version": 3
   },
   "file_extension": ".py",
   "mimetype": "text/x-python",
   "name": "python",
   "nbconvert_exporter": "python",
   "pygments_lexer": "ipython3",
   "version": "3.8.3"
  }
 },
 "nbformat": 4,
 "nbformat_minor": 4
}
